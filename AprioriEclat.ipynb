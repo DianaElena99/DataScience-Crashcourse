{
  "nbformat": 4,
  "nbformat_minor": 0,
  "metadata": {
    "colab": {
      "name": "AprioriEclat.ipynb",
      "provenance": [],
      "collapsed_sections": [],
      "authorship_tag": "ABX9TyPgsKrfzRrRs11Y2ep7fwbE"
    },
    "kernelspec": {
      "name": "python3",
      "display_name": "Python 3"
    },
    "language_info": {
      "name": "python"
    }
  },
  "cells": [
    {
      "cell_type": "markdown",
      "source": [
        "# **Apriori and Eclat**"
      ],
      "metadata": {
        "id": "PSwZzmG-mdP7"
      }
    },
    {
      "cell_type": "markdown",
      "source": [
        "0. Install Apyori in order to work with Apriori and Eclat in Python"
      ],
      "metadata": {
        "id": "kMnN2zeHQ_hz"
      }
    },
    {
      "cell_type": "code",
      "execution_count": 27,
      "metadata": {
        "id": "sHi0a5o-mY6Y"
      },
      "outputs": [],
      "source": [
        "#!pip install apyori"
      ]
    },
    {
      "cell_type": "markdown",
      "source": [
        "# 1. Import the libraries"
      ],
      "metadata": {
        "id": "LZvAoKj3RFYB"
      }
    },
    {
      "cell_type": "code",
      "source": [
        "import pandas as pd\n",
        "import numpy as np"
      ],
      "metadata": {
        "id": "Bc43ohMfRIVt"
      },
      "execution_count": 28,
      "outputs": []
    },
    {
      "cell_type": "markdown",
      "source": [
        "# 2. Import the dataset"
      ],
      "metadata": {
        "id": "rqkojF5VS6qg"
      }
    },
    {
      "cell_type": "code",
      "source": [
        "_dataset = pd.read_csv(\"Market_Basket_Optimisation.csv\", header=None)\n",
        "print(_dataset.shape[0], _dataset.shape[1])"
      ],
      "metadata": {
        "colab": {
          "base_uri": "https://localhost:8080/"
        },
        "id": "jnTW1UmSRV8-",
        "outputId": "093763fb-2c21-439c-c0bf-46825374efb5"
      },
      "execution_count": 29,
      "outputs": [
        {
          "output_type": "stream",
          "name": "stdout",
          "text": [
            "7501 20\n"
          ]
        }
      ]
    },
    {
      "cell_type": "markdown",
      "source": [
        "# 3. Preprocess the data"
      ],
      "metadata": {
        "id": "2ewuwnrnS9gf"
      }
    },
    {
      "cell_type": "code",
      "source": [
        "_transactions = []\n",
        "for i in range(_dataset.shape[0]):\n",
        "  _transactions.append([str(_dataset.values[i,j]) for j in range(_dataset.shape[1])])"
      ],
      "metadata": {
        "id": "szwsuIAvRxNg"
      },
      "execution_count": 30,
      "outputs": []
    },
    {
      "cell_type": "markdown",
      "source": [
        "# 4. Train the Apriori model\n",
        "\n",
        "The parameters of the Apropri model \n",
        "\n",
        "![image.png](data:image/png;base64,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)"
      ],
      "metadata": {
        "id": "XVRQf0J9TA6g"
      }
    },
    {
      "cell_type": "markdown",
      "source": [
        "*Support* = $P(A \\cap B) = \\frac{\\text{number of transactions containing A and B}}{\\text{total number of transactions}}$ \n",
        "\n",
        "*Confidence* = $P(A | B) = \\frac{\\text{number of transactions containing A and B}}{\\text{total number of transactions containing A}}$\n",
        "\n",
        "*Lift* = $\\frac{\\text{Confidence}}{\\text{Support}}$"
      ],
      "metadata": {
        "id": "yDrsmxzpT6A4"
      }
    },
    {
      "cell_type": "code",
      "source": [
        "from apyori import apriori\n",
        "_rules_apriori = apriori(transactions = _transactions, min_support = 0.003, min_confidende = 0.2, min_lift = 3, max_length = 2, min_length = 2)"
      ],
      "metadata": {
        "id": "y7myHMrjS238"
      },
      "execution_count": 31,
      "outputs": []
    },
    {
      "cell_type": "code",
      "source": [
        "_rules_apriori = list(_rules_apriori)\n",
        "_rules_apriori"
      ],
      "metadata": {
        "colab": {
          "base_uri": "https://localhost:8080/"
        },
        "id": "sC2lfHAJXhn-",
        "outputId": "07d9e04d-c07d-40ce-ba32-d254f5d047eb"
      },
      "execution_count": 32,
      "outputs": [
        {
          "output_type": "execute_result",
          "data": {
            "text/plain": [
              "[RelationRecord(items=frozenset({'brownies', 'cottage cheese'}), support=0.0034662045060658577, ordered_statistics=[OrderedStatistic(items_base=frozenset({'brownies'}), items_add=frozenset({'cottage cheese'}), confidence=0.10276679841897232, lift=3.225329518580382), OrderedStatistic(items_base=frozenset({'cottage cheese'}), items_add=frozenset({'brownies'}), confidence=0.10878661087866107, lift=3.2253295185803816)]),\n",
              " RelationRecord(items=frozenset({'light cream', 'chicken'}), support=0.004532728969470737, ordered_statistics=[OrderedStatistic(items_base=frozenset({'chicken'}), items_add=frozenset({'light cream'}), confidence=0.07555555555555556, lift=4.843950617283951), OrderedStatistic(items_base=frozenset({'light cream'}), items_add=frozenset({'chicken'}), confidence=0.29059829059829057, lift=4.84395061728395)]),\n",
              " RelationRecord(items=frozenset({'mushroom cream sauce', 'escalope'}), support=0.005732568990801226, ordered_statistics=[OrderedStatistic(items_base=frozenset({'escalope'}), items_add=frozenset({'mushroom cream sauce'}), confidence=0.0722689075630252, lift=3.7908326967150496), OrderedStatistic(items_base=frozenset({'mushroom cream sauce'}), items_add=frozenset({'escalope'}), confidence=0.3006993006993007, lift=3.790832696715049)]),\n",
              " RelationRecord(items=frozenset({'escalope', 'pasta'}), support=0.005865884548726837, ordered_statistics=[OrderedStatistic(items_base=frozenset({'escalope'}), items_add=frozenset({'pasta'}), confidence=0.07394957983193277, lift=4.700811850163794), OrderedStatistic(items_base=frozenset({'pasta'}), items_add=frozenset({'escalope'}), confidence=0.3728813559322034, lift=4.700811850163794)]),\n",
              " RelationRecord(items=frozenset({'fresh bread', 'tomato juice'}), support=0.004266097853619517, ordered_statistics=[OrderedStatistic(items_base=frozenset({'fresh bread'}), items_add=frozenset({'tomato juice'}), confidence=0.09907120743034055, lift=3.2593558198902826), OrderedStatistic(items_base=frozenset({'tomato juice'}), items_add=frozenset({'fresh bread'}), confidence=0.14035087719298245, lift=3.2593558198902826)]),\n",
              " RelationRecord(items=frozenset({'fresh tuna', 'honey'}), support=0.003999466737768298, ordered_statistics=[OrderedStatistic(items_base=frozenset({'fresh tuna'}), items_add=frozenset({'honey'}), confidence=0.17964071856287428, lift=3.7850703088205613), OrderedStatistic(items_base=frozenset({'honey'}), items_add=frozenset({'fresh tuna'}), confidence=0.08426966292134831, lift=3.7850703088205613)]),\n",
              " RelationRecord(items=frozenset({'fromage blanc', 'honey'}), support=0.003332888948140248, ordered_statistics=[OrderedStatistic(items_base=frozenset({'fromage blanc'}), items_add=frozenset({'honey'}), confidence=0.2450980392156863, lift=5.164270764485569), OrderedStatistic(items_base=frozenset({'honey'}), items_add=frozenset({'fromage blanc'}), confidence=0.0702247191011236, lift=5.16427076448557)]),\n",
              " RelationRecord(items=frozenset({'herb & pepper', 'ground beef'}), support=0.015997866951073192, ordered_statistics=[OrderedStatistic(items_base=frozenset({'ground beef'}), items_add=frozenset({'herb & pepper'}), confidence=0.1628222523744912, lift=3.291993841134928), OrderedStatistic(items_base=frozenset({'herb & pepper'}), items_add=frozenset({'ground beef'}), confidence=0.3234501347708895, lift=3.2919938411349285)]),\n",
              " RelationRecord(items=frozenset({'tomato sauce', 'ground beef'}), support=0.005332622317024397, ordered_statistics=[OrderedStatistic(items_base=frozenset({'ground beef'}), items_add=frozenset({'tomato sauce'}), confidence=0.054274084124830396, lift=3.840659481324083), OrderedStatistic(items_base=frozenset({'tomato sauce'}), items_add=frozenset({'ground beef'}), confidence=0.3773584905660377, lift=3.840659481324083)]),\n",
              " RelationRecord(items=frozenset({'light cream', 'olive oil'}), support=0.003199573390214638, ordered_statistics=[OrderedStatistic(items_base=frozenset({'light cream'}), items_add=frozenset({'olive oil'}), confidence=0.20512820512820515, lift=3.1147098515519573), OrderedStatistic(items_base=frozenset({'olive oil'}), items_add=frozenset({'light cream'}), confidence=0.048582995951417005, lift=3.114709851551957)]),\n",
              " RelationRecord(items=frozenset({'whole wheat pasta', 'olive oil'}), support=0.007998933475536596, ordered_statistics=[OrderedStatistic(items_base=frozenset({'olive oil'}), items_add=frozenset({'whole wheat pasta'}), confidence=0.12145748987854252, lift=4.1224100976422955), OrderedStatistic(items_base=frozenset({'whole wheat pasta'}), items_add=frozenset({'olive oil'}), confidence=0.2714932126696833, lift=4.122410097642296)]),\n",
              " RelationRecord(items=frozenset({'shrimp', 'pasta'}), support=0.005065991201173177, ordered_statistics=[OrderedStatistic(items_base=frozenset({'pasta'}), items_add=frozenset({'shrimp'}), confidence=0.3220338983050847, lift=4.506672147735896), OrderedStatistic(items_base=frozenset({'shrimp'}), items_add=frozenset({'pasta'}), confidence=0.0708955223880597, lift=4.506672147735896)])]"
            ]
          },
          "metadata": {},
          "execution_count": 32
        }
      ]
    },
    {
      "cell_type": "markdown",
      "source": [
        "# 5. Visualization of results for the Apriori model"
      ],
      "metadata": {
        "id": "0ydWu1vkYlbU"
      }
    },
    {
      "cell_type": "code",
      "source": [
        "def _createDfApriori(rules):\n",
        "  _LHS = [tuple(rule[2][0][0])[0] for rule in rules]\n",
        "  _RHS = [tuple(rule[2][0][1])[0] for rule in rules]\n",
        "  _supports = [rule[1] for rule in rules]\n",
        "  _confidences = [rule[2][0][2] for rule in rules]\n",
        "  _lifts = [rule[2][0][3] for rule in rules]\n",
        "  return list(zip(_LHS, _RHS, _supports, _confidences, _lifts))\n",
        "\n",
        "\n",
        "_columns = ['Left Hand Side', 'Right Hand Side', 'Support', 'Confidence', 'Lift']\n",
        "_resultsDfApriori = pd.DataFrame(_createDfApriori(_rules_apriori), columns = _columns)"
      ],
      "metadata": {
        "id": "mPO14JDsWYYP"
      },
      "execution_count": 49,
      "outputs": []
    },
    {
      "cell_type": "code",
      "source": [
        "_resultsDfApriori.nlargest(n = 10, columns = 'Lift')"
      ],
      "metadata": {
        "colab": {
          "base_uri": "https://localhost:8080/",
          "height": 363
        },
        "id": "VDjnpLJzYqZU",
        "outputId": "0cb30570-9e57-4f50-e5eb-89c01eb6e2fd"
      },
      "execution_count": 50,
      "outputs": [
        {
          "output_type": "execute_result",
          "data": {
            "text/plain": [
              "   Left Hand Side       Right Hand Side   Support  Confidence      Lift\n",
              "6   fromage blanc                 honey  0.003333    0.245098  5.164271\n",
              "1         chicken           light cream  0.004533    0.075556  4.843951\n",
              "3        escalope                 pasta  0.005866    0.073950  4.700812\n",
              "11          pasta                shrimp  0.005066    0.322034  4.506672\n",
              "10      olive oil     whole wheat pasta  0.007999    0.121457  4.122410\n",
              "8     ground beef          tomato sauce  0.005333    0.054274  3.840659\n",
              "2        escalope  mushroom cream sauce  0.005733    0.072269  3.790833\n",
              "5      fresh tuna                 honey  0.003999    0.179641  3.785070\n",
              "7     ground beef         herb & pepper  0.015998    0.162822  3.291994\n",
              "4     fresh bread          tomato juice  0.004266    0.099071  3.259356"
            ],
            "text/html": [
              "\n",
              "  <div id=\"df-7ae84a9f-d286-4c11-a6ad-e972ba270bfc\">\n",
              "    <div class=\"colab-df-container\">\n",
              "      <div>\n",
              "<style scoped>\n",
              "    .dataframe tbody tr th:only-of-type {\n",
              "        vertical-align: middle;\n",
              "    }\n",
              "\n",
              "    .dataframe tbody tr th {\n",
              "        vertical-align: top;\n",
              "    }\n",
              "\n",
              "    .dataframe thead th {\n",
              "        text-align: right;\n",
              "    }\n",
              "</style>\n",
              "<table border=\"1\" class=\"dataframe\">\n",
              "  <thead>\n",
              "    <tr style=\"text-align: right;\">\n",
              "      <th></th>\n",
              "      <th>Left Hand Side</th>\n",
              "      <th>Right Hand Side</th>\n",
              "      <th>Support</th>\n",
              "      <th>Confidence</th>\n",
              "      <th>Lift</th>\n",
              "    </tr>\n",
              "  </thead>\n",
              "  <tbody>\n",
              "    <tr>\n",
              "      <th>6</th>\n",
              "      <td>fromage blanc</td>\n",
              "      <td>honey</td>\n",
              "      <td>0.003333</td>\n",
              "      <td>0.245098</td>\n",
              "      <td>5.164271</td>\n",
              "    </tr>\n",
              "    <tr>\n",
              "      <th>1</th>\n",
              "      <td>chicken</td>\n",
              "      <td>light cream</td>\n",
              "      <td>0.004533</td>\n",
              "      <td>0.075556</td>\n",
              "      <td>4.843951</td>\n",
              "    </tr>\n",
              "    <tr>\n",
              "      <th>3</th>\n",
              "      <td>escalope</td>\n",
              "      <td>pasta</td>\n",
              "      <td>0.005866</td>\n",
              "      <td>0.073950</td>\n",
              "      <td>4.700812</td>\n",
              "    </tr>\n",
              "    <tr>\n",
              "      <th>11</th>\n",
              "      <td>pasta</td>\n",
              "      <td>shrimp</td>\n",
              "      <td>0.005066</td>\n",
              "      <td>0.322034</td>\n",
              "      <td>4.506672</td>\n",
              "    </tr>\n",
              "    <tr>\n",
              "      <th>10</th>\n",
              "      <td>olive oil</td>\n",
              "      <td>whole wheat pasta</td>\n",
              "      <td>0.007999</td>\n",
              "      <td>0.121457</td>\n",
              "      <td>4.122410</td>\n",
              "    </tr>\n",
              "    <tr>\n",
              "      <th>8</th>\n",
              "      <td>ground beef</td>\n",
              "      <td>tomato sauce</td>\n",
              "      <td>0.005333</td>\n",
              "      <td>0.054274</td>\n",
              "      <td>3.840659</td>\n",
              "    </tr>\n",
              "    <tr>\n",
              "      <th>2</th>\n",
              "      <td>escalope</td>\n",
              "      <td>mushroom cream sauce</td>\n",
              "      <td>0.005733</td>\n",
              "      <td>0.072269</td>\n",
              "      <td>3.790833</td>\n",
              "    </tr>\n",
              "    <tr>\n",
              "      <th>5</th>\n",
              "      <td>fresh tuna</td>\n",
              "      <td>honey</td>\n",
              "      <td>0.003999</td>\n",
              "      <td>0.179641</td>\n",
              "      <td>3.785070</td>\n",
              "    </tr>\n",
              "    <tr>\n",
              "      <th>7</th>\n",
              "      <td>ground beef</td>\n",
              "      <td>herb &amp; pepper</td>\n",
              "      <td>0.015998</td>\n",
              "      <td>0.162822</td>\n",
              "      <td>3.291994</td>\n",
              "    </tr>\n",
              "    <tr>\n",
              "      <th>4</th>\n",
              "      <td>fresh bread</td>\n",
              "      <td>tomato juice</td>\n",
              "      <td>0.004266</td>\n",
              "      <td>0.099071</td>\n",
              "      <td>3.259356</td>\n",
              "    </tr>\n",
              "  </tbody>\n",
              "</table>\n",
              "</div>\n",
              "      <button class=\"colab-df-convert\" onclick=\"convertToInteractive('df-7ae84a9f-d286-4c11-a6ad-e972ba270bfc')\"\n",
              "              title=\"Convert this dataframe to an interactive table.\"\n",
              "              style=\"display:none;\">\n",
              "        \n",
              "  <svg xmlns=\"http://www.w3.org/2000/svg\" height=\"24px\"viewBox=\"0 0 24 24\"\n",
              "       width=\"24px\">\n",
              "    <path d=\"M0 0h24v24H0V0z\" fill=\"none\"/>\n",
              "    <path d=\"M18.56 5.44l.94 2.06.94-2.06 2.06-.94-2.06-.94-.94-2.06-.94 2.06-2.06.94zm-11 1L8.5 8.5l.94-2.06 2.06-.94-2.06-.94L8.5 2.5l-.94 2.06-2.06.94zm10 10l.94 2.06.94-2.06 2.06-.94-2.06-.94-.94-2.06-.94 2.06-2.06.94z\"/><path d=\"M17.41 7.96l-1.37-1.37c-.4-.4-.92-.59-1.43-.59-.52 0-1.04.2-1.43.59L10.3 9.45l-7.72 7.72c-.78.78-.78 2.05 0 2.83L4 21.41c.39.39.9.59 1.41.59.51 0 1.02-.2 1.41-.59l7.78-7.78 2.81-2.81c.8-.78.8-2.07 0-2.86zM5.41 20L4 18.59l7.72-7.72 1.47 1.35L5.41 20z\"/>\n",
              "  </svg>\n",
              "      </button>\n",
              "      \n",
              "  <style>\n",
              "    .colab-df-container {\n",
              "      display:flex;\n",
              "      flex-wrap:wrap;\n",
              "      gap: 12px;\n",
              "    }\n",
              "\n",
              "    .colab-df-convert {\n",
              "      background-color: #E8F0FE;\n",
              "      border: none;\n",
              "      border-radius: 50%;\n",
              "      cursor: pointer;\n",
              "      display: none;\n",
              "      fill: #1967D2;\n",
              "      height: 32px;\n",
              "      padding: 0 0 0 0;\n",
              "      width: 32px;\n",
              "    }\n",
              "\n",
              "    .colab-df-convert:hover {\n",
              "      background-color: #E2EBFA;\n",
              "      box-shadow: 0px 1px 2px rgba(60, 64, 67, 0.3), 0px 1px 3px 1px rgba(60, 64, 67, 0.15);\n",
              "      fill: #174EA6;\n",
              "    }\n",
              "\n",
              "    [theme=dark] .colab-df-convert {\n",
              "      background-color: #3B4455;\n",
              "      fill: #D2E3FC;\n",
              "    }\n",
              "\n",
              "    [theme=dark] .colab-df-convert:hover {\n",
              "      background-color: #434B5C;\n",
              "      box-shadow: 0px 1px 3px 1px rgba(0, 0, 0, 0.15);\n",
              "      filter: drop-shadow(0px 1px 2px rgba(0, 0, 0, 0.3));\n",
              "      fill: #FFFFFF;\n",
              "    }\n",
              "  </style>\n",
              "\n",
              "      <script>\n",
              "        const buttonEl =\n",
              "          document.querySelector('#df-7ae84a9f-d286-4c11-a6ad-e972ba270bfc button.colab-df-convert');\n",
              "        buttonEl.style.display =\n",
              "          google.colab.kernel.accessAllowed ? 'block' : 'none';\n",
              "\n",
              "        async function convertToInteractive(key) {\n",
              "          const element = document.querySelector('#df-7ae84a9f-d286-4c11-a6ad-e972ba270bfc');\n",
              "          const dataTable =\n",
              "            await google.colab.kernel.invokeFunction('convertToInteractive',\n",
              "                                                     [key], {});\n",
              "          if (!dataTable) return;\n",
              "\n",
              "          const docLinkHtml = 'Like what you see? Visit the ' +\n",
              "            '<a target=\"_blank\" href=https://colab.research.google.com/notebooks/data_table.ipynb>data table notebook</a>'\n",
              "            + ' to learn more about interactive tables.';\n",
              "          element.innerHTML = '';\n",
              "          dataTable['output_type'] = 'display_data';\n",
              "          await google.colab.output.renderOutput(dataTable, element);\n",
              "          const docLink = document.createElement('div');\n",
              "          docLink.innerHTML = docLinkHtml;\n",
              "          element.appendChild(docLink);\n",
              "        }\n",
              "      </script>\n",
              "    </div>\n",
              "  </div>\n",
              "  "
            ]
          },
          "metadata": {},
          "execution_count": 50
        }
      ]
    },
    {
      "cell_type": "markdown",
      "source": [
        "6. Train the Eclat model"
      ],
      "metadata": {
        "id": "WeJG-JEXZIus"
      }
    },
    {
      "cell_type": "code",
      "source": [
        "_rules_eclat = apriori(transactions = _transactions, min_support = 0.003,min_lift = 2,max_length = 2, min_length = 2)"
      ],
      "metadata": {
        "id": "dHIkaxh0ZWQF"
      },
      "execution_count": 52,
      "outputs": []
    },
    {
      "cell_type": "code",
      "source": [
        "_rules_eclat = list(_rules_eclat)\n",
        "_rules_eclat"
      ],
      "metadata": {
        "colab": {
          "base_uri": "https://localhost:8080/"
        },
        "id": "G1NURaofZyf8",
        "outputId": "4b635fe9-1219-4b7f-98b4-6f701980ae63"
      },
      "execution_count": 53,
      "outputs": [
        {
          "output_type": "execute_result",
          "data": {
            "text/plain": [
              "[RelationRecord(items=frozenset({'burgers', 'almonds'}), support=0.005199306759098787, ordered_statistics=[OrderedStatistic(items_base=frozenset({'almonds'}), items_add=frozenset({'burgers'}), confidence=0.25490196078431376, lift=2.923577382023146), OrderedStatistic(items_base=frozenset({'burgers'}), items_add=frozenset({'almonds'}), confidence=0.05963302752293578, lift=2.923577382023146)]),\n",
              " RelationRecord(items=frozenset({'avocado', 'frozen smoothie'}), support=0.005065991201173177, ordered_statistics=[OrderedStatistic(items_base=frozenset({'avocado'}), items_add=frozenset({'frozen smoothie'}), confidence=0.152, lift=2.4003200000000002), OrderedStatistic(items_base=frozenset({'frozen smoothie'}), items_add=frozenset({'avocado'}), confidence=0.08, lift=2.40032)]),\n",
              " RelationRecord(items=frozenset({'honey', 'avocado'}), support=0.003199573390214638, ordered_statistics=[OrderedStatistic(items_base=frozenset({'avocado'}), items_add=frozenset({'honey'}), confidence=0.096, lift=2.022741573033708), OrderedStatistic(items_base=frozenset({'honey'}), items_add=frozenset({'avocado'}), confidence=0.06741573033707865, lift=2.022741573033708)]),\n",
              " RelationRecord(items=frozenset({'soup', 'avocado'}), support=0.004399413411545127, ordered_statistics=[OrderedStatistic(items_base=frozenset({'avocado'}), items_add=frozenset({'soup'}), confidence=0.132, lift=2.6124854881266493), OrderedStatistic(items_base=frozenset({'soup'}), items_add=frozenset({'avocado'}), confidence=0.0870712401055409, lift=2.6124854881266493)]),\n",
              " RelationRecord(items=frozenset({'spaghetti', 'bacon'}), support=0.003199573390214638, ordered_statistics=[OrderedStatistic(items_base=frozenset({'bacon'}), items_add=frozenset({'spaghetti'}), confidence=0.36923076923076925, lift=2.1206738131699847), OrderedStatistic(items_base=frozenset({'spaghetti'}), items_add=frozenset({'bacon'}), confidence=0.018376722817764167, lift=2.120673813169985)]),\n",
              " RelationRecord(items=frozenset({'black tea', 'milk'}), support=0.004266097853619517, ordered_statistics=[OrderedStatistic(items_base=frozenset({'black tea'}), items_add=frozenset({'milk'}), confidence=0.29906542056074764, lift=2.3079112341833006), OrderedStatistic(items_base=frozenset({'milk'}), items_add=frozenset({'black tea'}), confidence=0.03292181069958848, lift=2.3079112341833006)]),\n",
              " RelationRecord(items=frozenset({'blueberries', 'spaghetti'}), support=0.0034662045060658577, ordered_statistics=[OrderedStatistic(items_base=frozenset({'blueberries'}), items_add=frozenset({'spaghetti'}), confidence=0.37681159420289856, lift=2.164214217546663), OrderedStatistic(items_base=frozenset({'spaghetti'}), items_add=frozenset({'blueberries'}), confidence=0.019908116385911178, lift=2.164214217546663)]),\n",
              " RelationRecord(items=frozenset({'french fries', 'body spray'}), support=0.004266097853619517, ordered_statistics=[OrderedStatistic(items_base=frozenset({'body spray'}), items_add=frozenset({'french fries'}), confidence=0.37209302325581395, lift=2.17712150346479), OrderedStatistic(items_base=frozenset({'french fries'}), items_add=frozenset({'body spray'}), confidence=0.0249609984399376, lift=2.17712150346479)]),\n",
              " RelationRecord(items=frozenset({'brownies', 'cottage cheese'}), support=0.0034662045060658577, ordered_statistics=[OrderedStatistic(items_base=frozenset({'brownies'}), items_add=frozenset({'cottage cheese'}), confidence=0.10276679841897232, lift=3.225329518580382), OrderedStatistic(items_base=frozenset({'cottage cheese'}), items_add=frozenset({'brownies'}), confidence=0.10878661087866107, lift=3.2253295185803816)]),\n",
              " RelationRecord(items=frozenset({'french wine', 'burgers'}), support=0.0041327822956939075, ordered_statistics=[OrderedStatistic(items_base=frozenset({'burgers'}), items_add=frozenset({'french wine'}), confidence=0.047400611620795105, lift=2.103857915784521), OrderedStatistic(items_base=frozenset({'french wine'}), items_add=frozenset({'burgers'}), confidence=0.1834319526627219, lift=2.103857915784521)]),\n",
              " RelationRecord(items=frozenset({'ham', 'burgers'}), support=0.005599253432875617, ordered_statistics=[OrderedStatistic(items_base=frozenset({'burgers'}), items_add=frozenset({'ham'}), confidence=0.06422018348623852, lift=2.4206813885943474), OrderedStatistic(items_base=frozenset({'ham'}), items_add=frozenset({'burgers'}), confidence=0.21105527638190955, lift=2.420681388594348)]),\n",
              " RelationRecord(items=frozenset({'butter', 'chicken'}), support=0.004266097853619517, ordered_statistics=[OrderedStatistic(items_base=frozenset({'butter'}), items_add=frozenset({'chicken'}), confidence=0.1415929203539823, lift=2.360196656833825), OrderedStatistic(items_base=frozenset({'chicken'}), items_add=frozenset({'butter'}), confidence=0.07111111111111111, lift=2.360196656833825)]),\n",
              " RelationRecord(items=frozenset({'fresh tuna', 'cake'}), support=0.0037328356219170776, ordered_statistics=[OrderedStatistic(items_base=frozenset({'cake'}), items_add=frozenset({'fresh tuna'}), confidence=0.046052631578947366, lift=2.0685077213993064), OrderedStatistic(items_base=frozenset({'fresh tuna'}), items_add=frozenset({'cake'}), confidence=0.16766467065868262, lift=2.0685077213993064)]),\n",
              " RelationRecord(items=frozenset({'cereals', 'herb & pepper'}), support=0.003199573390214638, ordered_statistics=[OrderedStatistic(items_base=frozenset({'cereals'}), items_add=frozenset({'herb & pepper'}), confidence=0.12435233160621763, lift=2.5141963325558985), OrderedStatistic(items_base=frozenset({'herb & pepper'}), items_add=frozenset({'cereals'}), confidence=0.0646900269541779, lift=2.514196332555899)]),\n",
              " RelationRecord(items=frozenset({'milk', 'cereals'}), support=0.007065724570057326, ordered_statistics=[OrderedStatistic(items_base=frozenset({'cereals'}), items_add=frozenset({'milk'}), confidence=0.2746113989637306, lift=2.119197637476279), OrderedStatistic(items_base=frozenset({'milk'}), items_add=frozenset({'cereals'}), confidence=0.05452674897119342, lift=2.119197637476279)]),\n",
              " RelationRecord(items=frozenset({'cooking oil', 'chicken'}), support=0.006799093454206106, ordered_statistics=[OrderedStatistic(items_base=frozenset({'chicken'}), items_add=frozenset({'cooking oil'}), confidence=0.11333333333333334, lift=2.2196170583115755), OrderedStatistic(items_base=frozenset({'cooking oil'}), items_add=frozenset({'chicken'}), confidence=0.13315926892950392, lift=2.219617058311575)]),\n",
              " RelationRecord(items=frozenset({'fresh bread', 'chicken'}), support=0.005199306759098787, ordered_statistics=[OrderedStatistic(items_base=frozenset({'chicken'}), items_add=frozenset({'fresh bread'}), confidence=0.08666666666666667, lift=2.0126522187822498), OrderedStatistic(items_base=frozenset({'fresh bread'}), items_add=frozenset({'chicken'}), confidence=0.12074303405572756, lift=2.0126522187822498)]),\n",
              " RelationRecord(items=frozenset({'light cream', 'chicken'}), support=0.004532728969470737, ordered_statistics=[OrderedStatistic(items_base=frozenset({'chicken'}), items_add=frozenset({'light cream'}), confidence=0.07555555555555556, lift=4.843950617283951), OrderedStatistic(items_base=frozenset({'light cream'}), items_add=frozenset({'chicken'}), confidence=0.29059829059829057, lift=4.84395061728395)]),\n",
              " RelationRecord(items=frozenset({'meatballs', 'chicken'}), support=0.003199573390214638, ordered_statistics=[OrderedStatistic(items_base=frozenset({'chicken'}), items_add=frozenset({'meatballs'}), confidence=0.05333333333333334, lift=2.548110403397028), OrderedStatistic(items_base=frozenset({'meatballs'}), items_add=frozenset({'chicken'}), confidence=0.15286624203821658, lift=2.548110403397028)]),\n",
              " RelationRecord(items=frozenset({'tomato sauce', 'chocolate'}), support=0.005065991201173177, ordered_statistics=[OrderedStatistic(items_base=frozenset({'chocolate'}), items_add=frozenset({'tomato sauce'}), confidence=0.030919446704637914, lift=2.1879883936932925), OrderedStatistic(items_base=frozenset({'tomato sauce'}), items_add=frozenset({'chocolate'}), confidence=0.3584905660377358, lift=2.1879883936932925)]),\n",
              " RelationRecord(items=frozenset({'eggs', 'cider'}), support=0.004266097853619517, ordered_statistics=[OrderedStatistic(items_base=frozenset({'cider'}), items_add=frozenset({'eggs'}), confidence=0.4050632911392405, lift=2.2539909101153137), OrderedStatistic(items_base=frozenset({'eggs'}), items_add=frozenset({'cider'}), confidence=0.023738872403560828, lift=2.2539909101153137)]),\n",
              " RelationRecord(items=frozenset({'milk', 'cider'}), support=0.003332888948140248, ordered_statistics=[OrderedStatistic(items_base=frozenset({'cider'}), items_add=frozenset({'milk'}), confidence=0.31645569620253167, lift=2.4421133510444344), OrderedStatistic(items_base=frozenset({'milk'}), items_add=frozenset({'cider'}), confidence=0.025720164609053502, lift=2.4421133510444344)]),\n",
              " RelationRecord(items=frozenset({'cooking oil', 'grated cheese'}), support=0.005732568990801226, ordered_statistics=[OrderedStatistic(items_base=frozenset({'cooking oil'}), items_add=frozenset({'grated cheese'}), confidence=0.11227154046997388, lift=2.1428723284103666), OrderedStatistic(items_base=frozenset({'grated cheese'}), items_add=frozenset({'cooking oil'}), confidence=0.1094147582697201, lift=2.1428723284103666)]),\n",
              " RelationRecord(items=frozenset({'cooking oil', 'herb & pepper'}), support=0.005332622317024397, ordered_statistics=[OrderedStatistic(items_base=frozenset({'cooking oil'}), items_add=frozenset({'herb & pepper'}), confidence=0.10443864229765012, lift=2.111574813678365), OrderedStatistic(items_base=frozenset({'herb & pepper'}), items_add=frozenset({'cooking oil'}), confidence=0.10781671159029649, lift=2.111574813678365)]),\n",
              " RelationRecord(items=frozenset({'cooking oil', 'soup'}), support=0.005332622317024397, ordered_statistics=[OrderedStatistic(items_base=frozenset({'cooking oil'}), items_add=frozenset({'soup'}), confidence=0.10443864229765012, lift=2.067003313653492), OrderedStatistic(items_base=frozenset({'soup'}), items_add=frozenset({'cooking oil'}), confidence=0.10554089709762533, lift=2.067003313653492)]),\n",
              " RelationRecord(items=frozenset({'cottage cheese', 'frozen smoothie'}), support=0.004932675643247567, ordered_statistics=[OrderedStatistic(items_base=frozenset({'cottage cheese'}), items_add=frozenset({'frozen smoothie'}), confidence=0.15481171548117154, lift=2.4447214269984583), OrderedStatistic(items_base=frozenset({'frozen smoothie'}), items_add=frozenset({'cottage cheese'}), confidence=0.07789473684210527, lift=2.4447214269984583)]),\n",
              " RelationRecord(items=frozenset({'mushroom cream sauce', 'escalope'}), support=0.005732568990801226, ordered_statistics=[OrderedStatistic(items_base=frozenset({'escalope'}), items_add=frozenset({'mushroom cream sauce'}), confidence=0.0722689075630252, lift=3.7908326967150496), OrderedStatistic(items_base=frozenset({'mushroom cream sauce'}), items_add=frozenset({'escalope'}), confidence=0.3006993006993007, lift=3.790832696715049)]),\n",
              " RelationRecord(items=frozenset({'escalope', 'pasta'}), support=0.005865884548726837, ordered_statistics=[OrderedStatistic(items_base=frozenset({'escalope'}), items_add=frozenset({'pasta'}), confidence=0.07394957983193277, lift=4.700811850163794), OrderedStatistic(items_base=frozenset({'pasta'}), items_add=frozenset({'escalope'}), confidence=0.3728813559322034, lift=4.700811850163794)]),\n",
              " RelationRecord(items=frozenset({'extra dark chocolate', 'mineral water'}), support=0.005732568990801226, ordered_statistics=[OrderedStatistic(items_base=frozenset({'extra dark chocolate'}), items_add=frozenset({'mineral water'}), confidence=0.47777777777777775, lift=2.0043686303753416), OrderedStatistic(items_base=frozenset({'mineral water'}), items_add=frozenset({'extra dark chocolate'}), confidence=0.024049217002237135, lift=2.0043686303753416)]),\n",
              " RelationRecord(items=frozenset({'flax seed', 'green tea'}), support=0.0030662578322890282, ordered_statistics=[OrderedStatistic(items_base=frozenset({'flax seed'}), items_add=frozenset({'green tea'}), confidence=0.3382352941176471, lift=2.560144239330445), OrderedStatistic(items_base=frozenset({'green tea'}), items_add=frozenset({'flax seed'}), confidence=0.023208879919273465, lift=2.560144239330445)]),\n",
              " RelationRecord(items=frozenset({'french wine', 'olive oil'}), support=0.0034662045060658577, ordered_statistics=[OrderedStatistic(items_base=frozenset({'french wine'}), items_add=frozenset({'olive oil'}), confidence=0.15384615384615383, lift=2.336032388663967), OrderedStatistic(items_base=frozenset({'olive oil'}), items_add=frozenset({'french wine'}), confidence=0.05263157894736842, lift=2.3360323886639676)]),\n",
              " RelationRecord(items=frozenset({'fresh bread', 'tomato juice'}), support=0.004266097853619517, ordered_statistics=[OrderedStatistic(items_base=frozenset({'fresh bread'}), items_add=frozenset({'tomato juice'}), confidence=0.09907120743034055, lift=3.2593558198902826), OrderedStatistic(items_base=frozenset({'tomato juice'}), items_add=frozenset({'fresh bread'}), confidence=0.14035087719298245, lift=3.2593558198902826)]),\n",
              " RelationRecord(items=frozenset({'fresh tuna', 'honey'}), support=0.003999466737768298, ordered_statistics=[OrderedStatistic(items_base=frozenset({'fresh tuna'}), items_add=frozenset({'honey'}), confidence=0.17964071856287428, lift=3.7850703088205613), OrderedStatistic(items_base=frozenset({'honey'}), items_add=frozenset({'fresh tuna'}), confidence=0.08426966292134831, lift=3.7850703088205613)]),\n",
              " RelationRecord(items=frozenset({'fresh tuna', 'olive oil'}), support=0.0037328356219170776, ordered_statistics=[OrderedStatistic(items_base=frozenset({'fresh tuna'}), items_add=frozenset({'olive oil'}), confidence=0.16766467065868262, lift=2.5458556571068387), OrderedStatistic(items_base=frozenset({'olive oil'}), items_add=frozenset({'fresh tuna'}), confidence=0.05668016194331984, lift=2.545855657106839)]),\n",
              " RelationRecord(items=frozenset({'fresh tuna', 'pancakes'}), support=0.005065991201173177, ordered_statistics=[OrderedStatistic(items_base=frozenset({'fresh tuna'}), items_add=frozenset({'pancakes'}), confidence=0.2275449101796407, lift=2.3938490480469636), OrderedStatistic(items_base=frozenset({'pancakes'}), items_add=frozenset({'fresh tuna'}), confidence=0.05329593267882188, lift=2.3938490480469636)]),\n",
              " RelationRecord(items=frozenset({'fromage blanc', 'honey'}), support=0.003332888948140248, ordered_statistics=[OrderedStatistic(items_base=frozenset({'fromage blanc'}), items_add=frozenset({'honey'}), confidence=0.2450980392156863, lift=5.164270764485569), OrderedStatistic(items_base=frozenset({'honey'}), items_add=frozenset({'fromage blanc'}), confidence=0.0702247191011236, lift=5.16427076448557)]),\n",
              " RelationRecord(items=frozenset({'hot dogs', 'frozen smoothie'}), support=0.004799360085321957, ordered_statistics=[OrderedStatistic(items_base=frozenset({'frozen smoothie'}), items_add=frozenset({'hot dogs'}), confidence=0.07578947368421053, lift=2.3394931773879146), OrderedStatistic(items_base=frozenset({'hot dogs'}), items_add=frozenset({'frozen smoothie'}), confidence=0.14814814814814814, lift=2.339493177387914)]),\n",
              " RelationRecord(items=frozenset({'vegetables mix', 'frozen smoothie'}), support=0.003332888948140248, ordered_statistics=[OrderedStatistic(items_base=frozenset({'frozen smoothie'}), items_add=frozenset({'vegetables mix'}), confidence=0.052631578947368425, lift=2.0455413144259618), OrderedStatistic(items_base=frozenset({'vegetables mix'}), items_add=frozenset({'frozen smoothie'}), confidence=0.1295336787564767, lift=2.0455413144259618)]),\n",
              " RelationRecord(items=frozenset({'frozen vegetables', 'parmesan cheese'}), support=0.005465937874950006, ordered_statistics=[OrderedStatistic(items_base=frozenset({'frozen vegetables'}), items_add=frozenset({'parmesan cheese'}), confidence=0.05734265734265734, lift=2.886760219646125), OrderedStatistic(items_base=frozenset({'parmesan cheese'}), items_add=frozenset({'frozen vegetables'}), confidence=0.27516778523489926, lift=2.886760219646125)]),\n",
              " RelationRecord(items=frozenset({'frozen vegetables', 'shrimp'}), support=0.01666444474070124, ordered_statistics=[OrderedStatistic(items_base=frozenset({'frozen vegetables'}), items_add=frozenset({'shrimp'}), confidence=0.17482517482517482, lift=2.4465739484396196), OrderedStatistic(items_base=frozenset({'shrimp'}), items_add=frozenset({'frozen vegetables'}), confidence=0.23320895522388058, lift=2.44657394843962)]),\n",
              " RelationRecord(items=frozenset({'frozen vegetables', 'tomatoes'}), support=0.0161311825089988, ordered_statistics=[OrderedStatistic(items_base=frozenset({'frozen vegetables'}), items_add=frozenset({'tomatoes'}), confidence=0.1692307692307692, lift=2.4744639376218323), OrderedStatistic(items_base=frozenset({'tomatoes'}), items_add=frozenset({'frozen vegetables'}), confidence=0.23586744639376217, lift=2.4744639376218323)]),\n",
              " RelationRecord(items=frozenset({'ground beef', 'grated cheese'}), support=0.011331822423676844, ordered_statistics=[OrderedStatistic(items_base=frozenset({'grated cheese'}), items_add=frozenset({'ground beef'}), confidence=0.2162849872773537, lift=2.201294015695292), OrderedStatistic(items_base=frozenset({'ground beef'}), items_add=frozenset({'grated cheese'}), confidence=0.1153324287652646, lift=2.201294015695292)]),\n",
              " RelationRecord(items=frozenset({'herb & pepper', 'grated cheese'}), support=0.006532462338354886, ordered_statistics=[OrderedStatistic(items_base=frozenset({'grated cheese'}), items_add=frozenset({'herb & pepper'}), confidence=0.12468193384223919, lift=2.5208603389505018), OrderedStatistic(items_base=frozenset({'herb & pepper'}), items_add=frozenset({'grated cheese'}), confidence=0.1320754716981132, lift=2.5208603389505018)]),\n",
              " RelationRecord(items=frozenset({'salmon', 'grated cheese'}), support=0.005199306759098787, ordered_statistics=[OrderedStatistic(items_base=frozenset({'grated cheese'}), items_add=frozenset({'salmon'}), confidence=0.09923664122137406, lift=2.333460958625476), OrderedStatistic(items_base=frozenset({'salmon'}), items_add=frozenset({'grated cheese'}), confidence=0.12225705329153606, lift=2.333460958625476)]),\n",
              " RelationRecord(items=frozenset({'spaghetti', 'green beans'}), support=0.0034662045060658577, ordered_statistics=[OrderedStatistic(items_base=frozenset({'green beans'}), items_add=frozenset({'spaghetti'}), confidence=0.39999999999999997, lift=2.29739663093415), OrderedStatistic(items_base=frozenset({'spaghetti'}), items_add=frozenset({'green beans'}), confidence=0.019908116385911178, lift=2.29739663093415)]),\n",
              " RelationRecord(items=frozenset({'herb & pepper', 'ground beef'}), support=0.015997866951073192, ordered_statistics=[OrderedStatistic(items_base=frozenset({'ground beef'}), items_add=frozenset({'herb & pepper'}), confidence=0.1628222523744912, lift=3.291993841134928), OrderedStatistic(items_base=frozenset({'herb & pepper'}), items_add=frozenset({'ground beef'}), confidence=0.3234501347708895, lift=3.2919938411349285)]),\n",
              " RelationRecord(items=frozenset({'light cream', 'ground beef'}), support=0.003332888948140248, ordered_statistics=[OrderedStatistic(items_base=frozenset({'ground beef'}), items_add=frozenset({'light cream'}), confidence=0.033921302578019, lift=2.174732398612996), OrderedStatistic(items_base=frozenset({'light cream'}), items_add=frozenset({'ground beef'}), confidence=0.2136752136752137, lift=2.174732398612996)]),\n",
              " RelationRecord(items=frozenset({'olive oil', 'ground beef'}), support=0.014131449140114652, ordered_statistics=[OrderedStatistic(items_base=frozenset({'ground beef'}), items_add=frozenset({'olive oil'}), confidence=0.14382632293080055, lift=2.183889166607156), OrderedStatistic(items_base=frozenset({'olive oil'}), items_add=frozenset({'ground beef'}), confidence=0.2145748987854251, lift=2.183889166607156)]),\n",
              " RelationRecord(items=frozenset({'pepper', 'ground beef'}), support=0.006532462338354886, ordered_statistics=[OrderedStatistic(items_base=frozenset({'ground beef'}), items_add=frozenset({'pepper'}), confidence=0.06648575305291723, lift=2.5060785610549354), OrderedStatistic(items_base=frozenset({'pepper'}), items_add=frozenset({'ground beef'}), confidence=0.24623115577889446, lift=2.5060785610549354)]),\n",
              " RelationRecord(items=frozenset({'rice', 'ground beef'}), support=0.004399413411545127, ordered_statistics=[OrderedStatistic(items_base=frozenset({'ground beef'}), items_add=frozenset({'rice'}), confidence=0.04477611940298508, lift=2.3820260400127027), OrderedStatistic(items_base=frozenset({'rice'}), items_add=frozenset({'ground beef'}), confidence=0.23404255319148934, lift=2.3820260400127022)]),\n",
              " RelationRecord(items=frozenset({'salmon', 'ground beef'}), support=0.008932142381015865, ordered_statistics=[OrderedStatistic(items_base=frozenset({'ground beef'}), items_add=frozenset({'salmon'}), confidence=0.09090909090909093, lift=2.137646053006555), OrderedStatistic(items_base=frozenset({'salmon'}), items_add=frozenset({'ground beef'}), confidence=0.21003134796238246, lift=2.137646053006555)]),\n",
              " RelationRecord(items=frozenset({'spaghetti', 'ground beef'}), support=0.03919477403012932, ordered_statistics=[OrderedStatistic(items_base=frozenset({'ground beef'}), items_add=frozenset({'spaghetti'}), confidence=0.3989145183175034, lift=2.291162176033379), OrderedStatistic(items_base=frozenset({'spaghetti'}), items_add=frozenset({'ground beef'}), confidence=0.22511485451761104, lift=2.2911621760333793)]),\n",
              " RelationRecord(items=frozenset({'tomato sauce', 'ground beef'}), support=0.005332622317024397, ordered_statistics=[OrderedStatistic(items_base=frozenset({'ground beef'}), items_add=frozenset({'tomato sauce'}), confidence=0.054274084124830396, lift=3.840659481324083), OrderedStatistic(items_base=frozenset({'tomato sauce'}), items_add=frozenset({'ground beef'}), confidence=0.3773584905660377, lift=3.840659481324083)]),\n",
              " RelationRecord(items=frozenset({'ham', 'olive oil'}), support=0.0035995200639914677, ordered_statistics=[OrderedStatistic(items_base=frozenset({'ham'}), items_add=frozenset({'olive oil'}), confidence=0.13567839195979897, lift=2.060169267389579), OrderedStatistic(items_base=frozenset({'olive oil'}), items_add=frozenset({'ham'}), confidence=0.054655870445344125, lift=2.060169267389579)]),\n",
              " RelationRecord(items=frozenset({'ham', 'whole wheat rice'}), support=0.004266097853619517, ordered_statistics=[OrderedStatistic(items_base=frozenset({'ham'}), items_add=frozenset({'whole wheat rice'}), confidence=0.1608040201005025, lift=2.7475875962958294), OrderedStatistic(items_base=frozenset({'whole wheat rice'}), items_add=frozenset({'ham'}), confidence=0.07289293849658314, lift=2.74758759629583)]),\n",
              " RelationRecord(items=frozenset({'whole wheat pasta', 'herb & pepper'}), support=0.0037328356219170776, ordered_statistics=[OrderedStatistic(items_base=frozenset({'herb & pepper'}), items_add=frozenset({'whole wheat pasta'}), confidence=0.07547169811320754, lift=2.5615982241953383), OrderedStatistic(items_base=frozenset({'whole wheat pasta'}), items_add=frozenset({'herb & pepper'}), confidence=0.12669683257918551, lift=2.5615982241953383)]),\n",
              " RelationRecord(items=frozenset({'light cream', 'olive oil'}), support=0.003199573390214638, ordered_statistics=[OrderedStatistic(items_base=frozenset({'light cream'}), items_add=frozenset({'olive oil'}), confidence=0.20512820512820515, lift=3.1147098515519573), OrderedStatistic(items_base=frozenset({'olive oil'}), items_add=frozenset({'light cream'}), confidence=0.048582995951417005, lift=3.114709851551957)]),\n",
              " RelationRecord(items=frozenset({'light cream', 'pancakes'}), support=0.0034662045060658577, ordered_statistics=[OrderedStatistic(items_base=frozenset({'light cream'}), items_add=frozenset({'pancakes'}), confidence=0.2222222222222222, lift=2.3378525790868006), OrderedStatistic(items_base=frozenset({'pancakes'}), items_add=frozenset({'light cream'}), confidence=0.0364656381486676, lift=2.3378525790868006)]),\n",
              " RelationRecord(items=frozenset({'pancakes', 'light mayo'}), support=0.005465937874950006, ordered_statistics=[OrderedStatistic(items_base=frozenset({'light mayo'}), items_add=frozenset({'pancakes'}), confidence=0.20098039215686272, lift=2.1143813766740918), OrderedStatistic(items_base=frozenset({'pancakes'}), items_add=frozenset({'light mayo'}), confidence=0.05750350631136045, lift=2.1143813766740918)]),\n",
              " RelationRecord(items=frozenset({'milk', 'meatballs'}), support=0.005465937874950006, ordered_statistics=[OrderedStatistic(items_base=frozenset({'meatballs'}), items_add=frozenset({'milk'}), confidence=0.2611464968152866, lift=2.0152879347854578), OrderedStatistic(items_base=frozenset({'milk'}), items_add=frozenset({'meatballs'}), confidence=0.04218106995884774, lift=2.015287934785458)]),\n",
              " RelationRecord(items=frozenset({'tomatoes', 'meatballs'}), support=0.0038661511798426876, ordered_statistics=[OrderedStatistic(items_base=frozenset({'meatballs'}), items_add=frozenset({'tomatoes'}), confidence=0.18471337579617836, lift=2.700848015296557), OrderedStatistic(items_base=frozenset({'tomatoes'}), items_add=frozenset({'meatballs'}), confidence=0.056530214424951264, lift=2.700848015296557)]),\n",
              " RelationRecord(items=frozenset({'soup', 'milk'}), support=0.015197973603519531, ordered_statistics=[OrderedStatistic(items_base=frozenset({'milk'}), items_add=frozenset({'soup'}), confidence=0.11728395061728396, lift=2.321231961953158), OrderedStatistic(items_base=frozenset({'soup'}), items_add=frozenset({'milk'}), confidence=0.3007915567282322, lift=2.3212319619531585)]),\n",
              " RelationRecord(items=frozenset({'whole wheat pasta', 'milk'}), support=0.009865351286495135, ordered_statistics=[OrderedStatistic(items_base=frozenset({'milk'}), items_add=frozenset({'whole wheat pasta'}), confidence=0.07613168724279837, lift=2.5839990317114503), OrderedStatistic(items_base=frozenset({'whole wheat pasta'}), items_add=frozenset({'milk'}), confidence=0.33484162895927605, lift=2.5839990317114503)]),\n",
              " RelationRecord(items=frozenset({'nonfat milk', 'mineral water'}), support=0.005065991201173177, ordered_statistics=[OrderedStatistic(items_base=frozenset({'mineral water'}), items_add=frozenset({'nonfat milk'}), confidence=0.021252796420581657, lift=2.0438105891126024), OrderedStatistic(items_base=frozenset({'nonfat milk'}), items_add=frozenset({'mineral water'}), confidence=0.4871794871794871, lift=2.0438105891126024)]),\n",
              " RelationRecord(items=frozenset({'shrimp', 'oil'}), support=0.0034662045060658577, ordered_statistics=[OrderedStatistic(items_base=frozenset({'oil'}), items_add=frozenset({'shrimp'}), confidence=0.15028901734104047, lift=2.103205072901389), OrderedStatistic(items_base=frozenset({'shrimp'}), items_add=frozenset({'oil'}), confidence=0.04850746268656716, lift=2.103205072901389)]),\n",
              " RelationRecord(items=frozenset({'salmon', 'olive oil'}), support=0.005732568990801226, ordered_statistics=[OrderedStatistic(items_base=frozenset({'olive oil'}), items_add=frozenset({'salmon'}), confidence=0.08704453441295547, lift=2.046774459660122), OrderedStatistic(items_base=frozenset({'salmon'}), items_add=frozenset({'olive oil'}), confidence=0.1347962382445141, lift=2.0467744596601216)]),\n",
              " RelationRecord(items=frozenset({'soup', 'olive oil'}), support=0.008932142381015865, ordered_statistics=[OrderedStatistic(items_base=frozenset({'olive oil'}), items_add=frozenset({'soup'}), confidence=0.13562753036437247, lift=2.684279961116512), OrderedStatistic(items_base=frozenset({'soup'}), items_add=frozenset({'olive oil'}), confidence=0.17678100263852245, lift=2.684279961116512)]),\n",
              " RelationRecord(items=frozenset({'whole wheat pasta', 'olive oil'}), support=0.007998933475536596, ordered_statistics=[OrderedStatistic(items_base=frozenset({'olive oil'}), items_add=frozenset({'whole wheat pasta'}), confidence=0.12145748987854252, lift=4.1224100976422955), OrderedStatistic(items_base=frozenset({'whole wheat pasta'}), items_add=frozenset({'olive oil'}), confidence=0.2714932126696833, lift=4.122410097642296)]),\n",
              " RelationRecord(items=frozenset({'shrimp', 'parmesan cheese'}), support=0.003332888948140248, ordered_statistics=[OrderedStatistic(items_base=frozenset({'parmesan cheese'}), items_add=frozenset({'shrimp'}), confidence=0.16778523489932887, lift=2.3480541921266154), OrderedStatistic(items_base=frozenset({'shrimp'}), items_add=frozenset({'parmesan cheese'}), confidence=0.046641791044776115, lift=2.348054192126615)]),\n",
              " RelationRecord(items=frozenset({'tomatoes', 'parmesan cheese'}), support=0.003199573390214638, ordered_statistics=[OrderedStatistic(items_base=frozenset({'parmesan cheese'}), items_add=frozenset({'tomatoes'}), confidence=0.1610738255033557, lift=2.3551944738804504), OrderedStatistic(items_base=frozenset({'tomatoes'}), items_add=frozenset({'parmesan cheese'}), confidence=0.046783625730994156, lift=2.3551944738804504)]),\n",
              " RelationRecord(items=frozenset({'shrimp', 'pasta'}), support=0.005065991201173177, ordered_statistics=[OrderedStatistic(items_base=frozenset({'pasta'}), items_add=frozenset({'shrimp'}), confidence=0.3220338983050847, lift=4.506672147735896), OrderedStatistic(items_base=frozenset({'shrimp'}), items_add=frozenset({'pasta'}), confidence=0.0708955223880597, lift=4.506672147735896)]),\n",
              " RelationRecord(items=frozenset({'pepper', 'spaghetti'}), support=0.009865351286495135, ordered_statistics=[OrderedStatistic(items_base=frozenset({'pepper'}), items_add=frozenset({'spaghetti'}), confidence=0.37185929648241206, lift=2.1357707373005916), OrderedStatistic(items_base=frozenset({'spaghetti'}), items_add=frozenset({'pepper'}), confidence=0.056661562021439515, lift=2.135770737300592)]),\n",
              " RelationRecord(items=frozenset({'pepper', 'turkey'}), support=0.0038661511798426876, ordered_statistics=[OrderedStatistic(items_base=frozenset({'pepper'}), items_add=frozenset({'turkey'}), confidence=0.1457286432160804, lift=2.3307261252959894), OrderedStatistic(items_base=frozenset({'turkey'}), items_add=frozenset({'pepper'}), confidence=0.061833688699360345, lift=2.3307261252959894)]),\n",
              " RelationRecord(items=frozenset({'red wine', 'spaghetti'}), support=0.010265297960271964, ordered_statistics=[OrderedStatistic(items_base=frozenset({'red wine'}), items_add=frozenset({'spaghetti'}), confidence=0.36492890995260663, lift=2.095966120638976), OrderedStatistic(items_base=frozenset({'spaghetti'}), items_add=frozenset({'red wine'}), confidence=0.058958652373660034, lift=2.095966120638976)]),\n",
              " RelationRecord(items=frozenset({'shrimp', 'tomatoes'}), support=0.011198506865751233, ordered_statistics=[OrderedStatistic(items_base=frozenset({'shrimp'}), items_add=frozenset({'tomatoes'}), confidence=0.15671641791044774, lift=2.2914811905385353), OrderedStatistic(items_base=frozenset({'tomatoes'}), items_add=frozenset({'shrimp'}), confidence=0.16374269005847952, lift=2.2914811905385353)]),\n",
              " RelationRecord(items=frozenset({'soup', 'tomatoes'}), support=0.006932409012131715, ordered_statistics=[OrderedStatistic(items_base=frozenset({'soup'}), items_add=frozenset({'tomatoes'}), confidence=0.13720316622691292, lift=2.0061616956492667), OrderedStatistic(items_base=frozenset({'tomatoes'}), items_add=frozenset({'soup'}), confidence=0.10136452241715399, lift=2.0061616956492667)]),\n",
              " RelationRecord(items=frozenset({'spaghetti', 'strong cheese'}), support=0.0037328356219170776, ordered_statistics=[OrderedStatistic(items_base=frozenset({'spaghetti'}), items_add=frozenset({'strong cheese'}), confidence=0.021439509954058193, lift=2.7727200718170777), OrderedStatistic(items_base=frozenset({'strong cheese'}), items_add=frozenset({'spaghetti'}), confidence=0.4827586206896552, lift=2.7727200718170777)]),\n",
              " RelationRecord(items=frozenset({'tomato sauce', 'spaghetti'}), support=0.006265831222503666, ordered_statistics=[OrderedStatistic(items_base=frozenset({'spaghetti'}), items_add=frozenset({'tomato sauce'}), confidence=0.03598774885145482, lift=2.546642491837383), OrderedStatistic(items_base=frozenset({'tomato sauce'}), items_add=frozenset({'spaghetti'}), confidence=0.4433962264150943, lift=2.546642491837383)])]"
            ]
          },
          "metadata": {},
          "execution_count": 53
        }
      ]
    },
    {
      "cell_type": "markdown",
      "source": [
        "7. Visualize the results of Eclat"
      ],
      "metadata": {
        "id": "tAQcxB9dZ6Gz"
      }
    },
    {
      "cell_type": "code",
      "source": [
        "def _createDfEclat(rules):\n",
        "  _LHS = [tuple(rule[2][0][0])[0] for rule in rules]\n",
        "  _RHS = [tuple(rule[2][0][1])[0] for rule in rules]\n",
        "  _supports = [rule[1] for rule in rules]\n",
        "  return list(zip(_LHS, _RHS, _supports))\n",
        "\n",
        "_resultsDfEclat = pd.DataFrame(_createDfEclat(_rules_eclat), columns=['LHS', 'RHS', 'Support'])"
      ],
      "metadata": {
        "id": "0zsKnro-aHEk"
      },
      "execution_count": 54,
      "outputs": []
    },
    {
      "cell_type": "code",
      "source": [
        "_resultsDfEclat.nlargest(n=10,columns = 'Support')"
      ],
      "metadata": {
        "colab": {
          "base_uri": "https://localhost:8080/",
          "height": 363
        },
        "id": "dA0fzV8Gb0m2",
        "outputId": "4444b114-e5c8-406b-f9f4-b2691e1abe43"
      },
      "execution_count": 55,
      "outputs": [
        {
          "output_type": "execute_result",
          "data": {
            "text/plain": [
              "                  LHS                RHS   Support\n",
              "51        ground beef          spaghetti  0.039195\n",
              "39  frozen vegetables             shrimp  0.016664\n",
              "40  frozen vegetables           tomatoes  0.016131\n",
              "45        ground beef      herb & pepper  0.015998\n",
              "61               milk               soup  0.015198\n",
              "47        ground beef          olive oil  0.014131\n",
              "41      grated cheese        ground beef  0.011332\n",
              "74             shrimp           tomatoes  0.011199\n",
              "73           red wine          spaghetti  0.010265\n",
              "62               milk  whole wheat pasta  0.009865"
            ],
            "text/html": [
              "\n",
              "  <div id=\"df-1ebaebee-bb45-492d-a67f-497035840367\">\n",
              "    <div class=\"colab-df-container\">\n",
              "      <div>\n",
              "<style scoped>\n",
              "    .dataframe tbody tr th:only-of-type {\n",
              "        vertical-align: middle;\n",
              "    }\n",
              "\n",
              "    .dataframe tbody tr th {\n",
              "        vertical-align: top;\n",
              "    }\n",
              "\n",
              "    .dataframe thead th {\n",
              "        text-align: right;\n",
              "    }\n",
              "</style>\n",
              "<table border=\"1\" class=\"dataframe\">\n",
              "  <thead>\n",
              "    <tr style=\"text-align: right;\">\n",
              "      <th></th>\n",
              "      <th>LHS</th>\n",
              "      <th>RHS</th>\n",
              "      <th>Support</th>\n",
              "    </tr>\n",
              "  </thead>\n",
              "  <tbody>\n",
              "    <tr>\n",
              "      <th>51</th>\n",
              "      <td>ground beef</td>\n",
              "      <td>spaghetti</td>\n",
              "      <td>0.039195</td>\n",
              "    </tr>\n",
              "    <tr>\n",
              "      <th>39</th>\n",
              "      <td>frozen vegetables</td>\n",
              "      <td>shrimp</td>\n",
              "      <td>0.016664</td>\n",
              "    </tr>\n",
              "    <tr>\n",
              "      <th>40</th>\n",
              "      <td>frozen vegetables</td>\n",
              "      <td>tomatoes</td>\n",
              "      <td>0.016131</td>\n",
              "    </tr>\n",
              "    <tr>\n",
              "      <th>45</th>\n",
              "      <td>ground beef</td>\n",
              "      <td>herb &amp; pepper</td>\n",
              "      <td>0.015998</td>\n",
              "    </tr>\n",
              "    <tr>\n",
              "      <th>61</th>\n",
              "      <td>milk</td>\n",
              "      <td>soup</td>\n",
              "      <td>0.015198</td>\n",
              "    </tr>\n",
              "    <tr>\n",
              "      <th>47</th>\n",
              "      <td>ground beef</td>\n",
              "      <td>olive oil</td>\n",
              "      <td>0.014131</td>\n",
              "    </tr>\n",
              "    <tr>\n",
              "      <th>41</th>\n",
              "      <td>grated cheese</td>\n",
              "      <td>ground beef</td>\n",
              "      <td>0.011332</td>\n",
              "    </tr>\n",
              "    <tr>\n",
              "      <th>74</th>\n",
              "      <td>shrimp</td>\n",
              "      <td>tomatoes</td>\n",
              "      <td>0.011199</td>\n",
              "    </tr>\n",
              "    <tr>\n",
              "      <th>73</th>\n",
              "      <td>red wine</td>\n",
              "      <td>spaghetti</td>\n",
              "      <td>0.010265</td>\n",
              "    </tr>\n",
              "    <tr>\n",
              "      <th>62</th>\n",
              "      <td>milk</td>\n",
              "      <td>whole wheat pasta</td>\n",
              "      <td>0.009865</td>\n",
              "    </tr>\n",
              "  </tbody>\n",
              "</table>\n",
              "</div>\n",
              "      <button class=\"colab-df-convert\" onclick=\"convertToInteractive('df-1ebaebee-bb45-492d-a67f-497035840367')\"\n",
              "              title=\"Convert this dataframe to an interactive table.\"\n",
              "              style=\"display:none;\">\n",
              "        \n",
              "  <svg xmlns=\"http://www.w3.org/2000/svg\" height=\"24px\"viewBox=\"0 0 24 24\"\n",
              "       width=\"24px\">\n",
              "    <path d=\"M0 0h24v24H0V0z\" fill=\"none\"/>\n",
              "    <path d=\"M18.56 5.44l.94 2.06.94-2.06 2.06-.94-2.06-.94-.94-2.06-.94 2.06-2.06.94zm-11 1L8.5 8.5l.94-2.06 2.06-.94-2.06-.94L8.5 2.5l-.94 2.06-2.06.94zm10 10l.94 2.06.94-2.06 2.06-.94-2.06-.94-.94-2.06-.94 2.06-2.06.94z\"/><path d=\"M17.41 7.96l-1.37-1.37c-.4-.4-.92-.59-1.43-.59-.52 0-1.04.2-1.43.59L10.3 9.45l-7.72 7.72c-.78.78-.78 2.05 0 2.83L4 21.41c.39.39.9.59 1.41.59.51 0 1.02-.2 1.41-.59l7.78-7.78 2.81-2.81c.8-.78.8-2.07 0-2.86zM5.41 20L4 18.59l7.72-7.72 1.47 1.35L5.41 20z\"/>\n",
              "  </svg>\n",
              "      </button>\n",
              "      \n",
              "  <style>\n",
              "    .colab-df-container {\n",
              "      display:flex;\n",
              "      flex-wrap:wrap;\n",
              "      gap: 12px;\n",
              "    }\n",
              "\n",
              "    .colab-df-convert {\n",
              "      background-color: #E8F0FE;\n",
              "      border: none;\n",
              "      border-radius: 50%;\n",
              "      cursor: pointer;\n",
              "      display: none;\n",
              "      fill: #1967D2;\n",
              "      height: 32px;\n",
              "      padding: 0 0 0 0;\n",
              "      width: 32px;\n",
              "    }\n",
              "\n",
              "    .colab-df-convert:hover {\n",
              "      background-color: #E2EBFA;\n",
              "      box-shadow: 0px 1px 2px rgba(60, 64, 67, 0.3), 0px 1px 3px 1px rgba(60, 64, 67, 0.15);\n",
              "      fill: #174EA6;\n",
              "    }\n",
              "\n",
              "    [theme=dark] .colab-df-convert {\n",
              "      background-color: #3B4455;\n",
              "      fill: #D2E3FC;\n",
              "    }\n",
              "\n",
              "    [theme=dark] .colab-df-convert:hover {\n",
              "      background-color: #434B5C;\n",
              "      box-shadow: 0px 1px 3px 1px rgba(0, 0, 0, 0.15);\n",
              "      filter: drop-shadow(0px 1px 2px rgba(0, 0, 0, 0.3));\n",
              "      fill: #FFFFFF;\n",
              "    }\n",
              "  </style>\n",
              "\n",
              "      <script>\n",
              "        const buttonEl =\n",
              "          document.querySelector('#df-1ebaebee-bb45-492d-a67f-497035840367 button.colab-df-convert');\n",
              "        buttonEl.style.display =\n",
              "          google.colab.kernel.accessAllowed ? 'block' : 'none';\n",
              "\n",
              "        async function convertToInteractive(key) {\n",
              "          const element = document.querySelector('#df-1ebaebee-bb45-492d-a67f-497035840367');\n",
              "          const dataTable =\n",
              "            await google.colab.kernel.invokeFunction('convertToInteractive',\n",
              "                                                     [key], {});\n",
              "          if (!dataTable) return;\n",
              "\n",
              "          const docLinkHtml = 'Like what you see? Visit the ' +\n",
              "            '<a target=\"_blank\" href=https://colab.research.google.com/notebooks/data_table.ipynb>data table notebook</a>'\n",
              "            + ' to learn more about interactive tables.';\n",
              "          element.innerHTML = '';\n",
              "          dataTable['output_type'] = 'display_data';\n",
              "          await google.colab.output.renderOutput(dataTable, element);\n",
              "          const docLink = document.createElement('div');\n",
              "          docLink.innerHTML = docLinkHtml;\n",
              "          element.appendChild(docLink);\n",
              "        }\n",
              "      </script>\n",
              "    </div>\n",
              "  </div>\n",
              "  "
            ]
          },
          "metadata": {},
          "execution_count": 55
        }
      ]
    }
  ]
}