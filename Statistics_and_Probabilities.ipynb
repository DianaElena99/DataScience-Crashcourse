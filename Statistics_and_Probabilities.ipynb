{
  "nbformat": 4,
  "nbformat_minor": 0,
  "metadata": {
    "colab": {
      "name": "Statistics and Probabilities.ipynb",
      "provenance": [],
      "collapsed_sections": [],
      "toc_visible": true,
      "authorship_tag": "ABX9TyOwVfsDdp2+vMSmeatWwehf"
    },
    "kernelspec": {
      "name": "python3",
      "display_name": "Python 3"
    },
    "language_info": {
      "name": "python"
    }
  },
  "cells": [
    {
      "cell_type": "markdown",
      "metadata": {
        "id": "ng5B0Q5M4nL1"
      },
      "source": [
        "\n",
        "##  Setup\n"
      ]
    },
    {
      "cell_type": "code",
      "metadata": {
        "id": "PuPsjJkt4jT4"
      },
      "source": [
        "#!pip install numpy\n",
        "#!pip install pandas \n",
        "#!pip install matplotlib\n",
        "#!pip install seaborn\n",
        "import tensorflow\n",
        "print(tensorflow.__version__)"
      ],
      "execution_count": null,
      "outputs": []
    },
    {
      "cell_type": "markdown",
      "metadata": {
        "id": "FiFXT-kzAJgl"
      },
      "source": [
        "# Mean, Median, Mode\n"
      ]
    },
    {
      "cell_type": "markdown",
      "metadata": {
        "id": "Zcv8bACZ5nk9"
      },
      "source": [
        "\n",
        "Mean =  Sum / count <br>\n",
        "Median = sort the values, take the value at midpoint <br>\n",
        "Mode = most common value in the dataset <br>\n",
        "\n",
        "In this example, we use the normal distribution to create a dataset of 10000 entries, centered around the value of 27000, with a standard deviation of 15000."
      ]
    },
    {
      "cell_type": "code",
      "metadata": {
        "colab": {
          "base_uri": "https://localhost:8080/"
        },
        "id": "kmrwB4_X5reE",
        "outputId": "1d6cb2af-4977-4e3a-e199-f0bcf158a25e"
      },
      "source": [
        "import numpy as np\n",
        "\n",
        "incomes = np.random.normal(27000, 15000, 10000)\n",
        "print(\"Mean: \", np.mean(incomes))\n",
        "print(\"Median: \", np.median(incomes))\n"
      ],
      "execution_count": 41,
      "outputs": [
        {
          "output_type": "stream",
          "text": [
            "Mean:  26889.201644619505\n",
            "Median:  26704.52114896882\n"
          ],
          "name": "stdout"
        }
      ]
    },
    {
      "cell_type": "markdown",
      "metadata": {
        "id": "elDlbhlm9XW9"
      },
      "source": [
        "Next, divide the data in 50 buckets and plot the histograms"
      ]
    },
    {
      "cell_type": "code",
      "metadata": {
        "colab": {
          "base_uri": "https://localhost:8080/",
          "height": 265
        },
        "id": "VieDpjJp9TDN",
        "outputId": "9f55010b-8762-4270-b6e8-a2394214f091"
      },
      "source": [
        "%matplotlib inline\n",
        "import matplotlib.pyplot as plt\n",
        "plt.hist(incomes, 50)\n",
        "plt.show()"
      ],
      "execution_count": 10,
      "outputs": [
        {
          "output_type": "display_data",
          "data": {
            "image/png": "[encoded data removed]",
            "text/plain": [
              "<Figure size 432x288 with 1 Axes>"
            ]
          },
          "metadata": {
            "needs_background": "light"
          }
        }
      ]
    },
    {
      "cell_type": "markdown",
      "metadata": {
        "id": "NdHHKrFJ-JG_"
      },
      "source": [
        "Next, creating a dataset of ages for 500 people."
      ]
    },
    {
      "cell_type": "code",
      "metadata": {
        "colab": {
          "base_uri": "https://localhost:8080/"
        },
        "id": "DI9G7JF3-RqB",
        "outputId": "b95c3594-0514-4980-b21d-f03f1073a8bc"
      },
      "source": [
        "ages = np.random.randint(low=18, high=90, size=500)\n",
        "#plt.scatter([x for x in range(500)], ages)\n",
        "#plt.show()\n",
        "\n",
        "from scipy import stats\n",
        "print(\"Mode(ages):\", stats.mode(ages))"
      ],
      "execution_count": 15,
      "outputs": [
        {
          "output_type": "stream",
          "text": [
            "Mode(ages): ModeResult(mode=array([41]), count=array([17]))\n"
          ],
          "name": "stdout"
        }
      ]
    },
    {
      "cell_type": "markdown",
      "metadata": {
        "id": "djRduSQiAQ-U"
      },
      "source": [
        "# Standard Deviation and Variance"
      ]
    },
    {
      "cell_type": "markdown",
      "metadata": {
        "id": "xYfa96qEAgDQ"
      },
      "source": [
        "\n",
        "*   Variance = average of the squared differences from the mean \n",
        "\n",
        "*   Standard deviation = square root of variance <br>\n",
        "\n",
        "\n",
        "\n",
        "!! Population variance vs Sample variance<br>\n",
        "\n",
        "\n",
        "*   Population variance = sum / N\n",
        "*  Sample variance = sum / (N-1)\n"
      ]
    },
    {
      "cell_type": "code",
      "metadata": {
        "colab": {
          "base_uri": "https://localhost:8080/"
        },
        "id": "1Q2mx6FHAfUF",
        "outputId": "7e224e9e-7ce3-4d96-8804-0a39df317b3d"
      },
      "source": [
        "import math\n",
        "\n",
        "stdev = incomes.std()\n",
        "variance = incomes.var()\n",
        "print(stdev)\n",
        "print(variance)\n",
        "print(stdev == math.sqrt(variance))"
      ],
      "execution_count": 17,
      "outputs": [
        {
          "output_type": "stream",
          "text": [
            "15139.031341250948\n",
            "229190269.95137846\n",
            "True\n"
          ],
          "name": "stdout"
        }
      ]
    },
    {
      "cell_type": "markdown",
      "metadata": {
        "id": "EJWkcSXdCuS2"
      },
      "source": [
        "# Data Distributions"
      ]
    },
    {
      "cell_type": "markdown",
      "metadata": {
        "id": "9zlP0XoLCxZ9"
      },
      "source": [
        "## Uniform Distribution"
      ]
    },
    {
      "cell_type": "code",
      "metadata": {
        "colab": {
          "base_uri": "https://localhost:8080/",
          "height": 513
        },
        "id": "NpqoDcH_CxrR",
        "outputId": "b68ed944-5a68-42d6-ecdc-efcebf26311b"
      },
      "source": [
        "values = np.random.uniform(low = 1.0, high = 10.0, size=100)\n",
        "plt.hist(values, 18)\n",
        "plt.show()\n",
        "\n",
        "values = np.random.uniform(low = 1.0, high = 10.0, size=100000)\n",
        "plt.hist(values, 18)\n",
        "plt.show()"
      ],
      "execution_count": 24,
      "outputs": [
        {
          "output_type": "display_data",
          "data": {
            "image/png": "[encoded data removed]",
            "text/plain": [
              "<Figure size 432x288 with 1 Axes>"
            ]
          },
          "metadata": {
            "needs_background": "light"
          }
        },
        {
          "output_type": "display_data",
          "data": {
            "image/png": "[encoded data removed]",
            "text/plain": [
              "<Figure size 432x288 with 1 Axes>"
            ]
          },
          "metadata": {
            "needs_background": "light"
          }
        }
      ]
    },
    {
      "cell_type": "markdown",
      "metadata": {
        "id": "r8FcBn8BGokh"
      },
      "source": [
        "## Normal/Gaussian Distribution"
      ]
    },
    {
      "cell_type": "code",
      "metadata": {
        "colab": {
          "base_uri": "https://localhost:8080/",
          "height": 265
        },
        "id": "DGdnMl97GsFA",
        "outputId": "8ae9e192-b37c-4f3d-fe48-12c585e507ff"
      },
      "source": [
        "mu = 5.0\n",
        "sigma = 0.9\n",
        "values = np.random.normal(mu, sigma, 10000)\n",
        "plt.hist(values, 50)\n",
        "plt.show()"
      ],
      "execution_count": 26,
      "outputs": [
        {
          "output_type": "display_data",
          "data": {
            "image/png": "[encoded data removed]",
            "text/plain": [
              "<Figure size 432x288 with 1 Axes>"
            ]
          },
          "metadata": {
            "needs_background": "light"
          }
        }
      ]
    },
    {
      "cell_type": "markdown",
      "metadata": {
        "id": "ZN247MjzTdpF"
      },
      "source": [
        "## Exponential PDF\n"
      ]
    },
    {
      "cell_type": "code",
      "metadata": {
        "colab": {
          "base_uri": "https://localhost:8080/",
          "height": 282
        },
        "id": "YEU_dvTdTdJE",
        "outputId": "a7a75abd-8fd2-46ee-be8d-636bccfc054c"
      },
      "source": [
        "from scipy.stats import expon\n",
        "\n",
        "x = np.arange(0, 10, 0.001)\n",
        "plt.plot(x, expon.pdf(x))"
      ],
      "execution_count": 27,
      "outputs": [
        {
          "output_type": "execute_result",
          "data": {
            "text/plain": [
              "[<matplotlib.lines.Line2D at 0x7f02c48b0fd0>]"
            ]
          },
          "metadata": {},
          "execution_count": 27
        },
        {
          "output_type": "display_data",
          "data": {
            "image/png": "[encoded data removed]",
            "text/plain": [
              "<Figure size 432x288 with 1 Axes>"
            ]
          },
          "metadata": {
            "needs_background": "light"
          }
        }
      ]
    },
    {
      "cell_type": "markdown",
      "metadata": {
        "id": "Cc4SGlJuUG8E"
      },
      "source": [
        "\n",
        "\n",
        "## Binomial Probability Mass Function"
      ]
    },
    {
      "cell_type": "code",
      "metadata": {
        "colab": {
          "base_uri": "https://localhost:8080/",
          "height": 282
        },
        "id": "I104h7A_UMl1",
        "outputId": "f30630f5-8144-4712-af4f-e361b24d4621"
      },
      "source": [
        "from scipy.stats import binom\n",
        "n = 10\n",
        "p = 0.5\n",
        "x = np.arange(0, 10, 0.0001)\n",
        "plt.plot(x, binom.pmf(x, n, p))"
      ],
      "execution_count": 29,
      "outputs": [
        {
          "output_type": "execute_result",
          "data": {
            "text/plain": [
              "[<matplotlib.lines.Line2D at 0x7f02bd9ac710>]"
            ]
          },
          "metadata": {},
          "execution_count": 29
        },
        {
          "output_type": "display_data",
          "data": {
            "image/png": "[encoded data removed]",
            "text/plain": [
              "<Figure size 432x288 with 1 Axes>"
            ]
          },
          "metadata": {
            "needs_background": "light"
          }
        }
      ]
    },
    {
      "cell_type": "markdown",
      "metadata": {
        "id": "rIRg2pxon9_r"
      },
      "source": [
        "## Poisson Probability Function\n",
        "\n",
        "Example: My website gets on average 500 visitors daily. What are the chances of getting 550 today?"
      ]
    },
    {
      "cell_type": "code",
      "metadata": {
        "colab": {
          "base_uri": "https://localhost:8080/",
          "height": 282
        },
        "id": "UVn66pgwocVF",
        "outputId": "bbb1d36b-38ba-491a-cb09-16171be1fcda"
      },
      "source": [
        "from scipy.stats import poisson\n",
        "mu = 500\n",
        "x = np.arange(400,600,0.5)\n",
        "plt.plot(x, poisson.pmf(x,mu))"
      ],
      "execution_count": 31,
      "outputs": [
        {
          "output_type": "execute_result",
          "data": {
            "text/plain": [
              "[<matplotlib.lines.Line2D at 0x7f02bd71e510>]"
            ]
          },
          "metadata": {},
          "execution_count": 31
        },
        {
          "output_type": "display_data",
          "data": {
            "image/png": "[encoded data removed]",
            "text/plain": [
              "<Figure size 432x288 with 1 Axes>"
            ]
          },
          "metadata": {
            "needs_background": "light"
          }
        }
      ]
    },
    {
      "cell_type": "markdown",
      "metadata": {
        "id": "pX1jKI0KpZFz"
      },
      "source": [
        "# Percentiles and Moments\n",
        "\n",
        "**Percentiles : given a value X, at what point is N% of the data less than X.**<br>\n",
        "*example : Income distribution. What is the value of X at which 99% of the incomes are less than X?*\n",
        "\n"
      ]
    },
    {
      "cell_type": "code",
      "metadata": {
        "colab": {
          "base_uri": "https://localhost:8080/",
          "height": 265
        },
        "id": "A-RfmUTvutDp",
        "outputId": "50b5d2d0-3128-427f-8e7d-75e916ffa0b7"
      },
      "source": [
        "plt.hist(incomes,50)\n",
        "plt.show()"
      ],
      "execution_count": 33,
      "outputs": [
        {
          "output_type": "display_data",
          "data": {
            "image/png": "[encoded data removed]",
            "text/plain": [
              "<Figure size 432x288 with 1 Axes>"
            ]
          },
          "metadata": {
            "needs_background": "light"
          }
        }
      ]
    },
    {
      "cell_type": "code",
      "metadata": {
        "colab": {
          "base_uri": "https://localhost:8080/"
        },
        "id": "q809us8Pu3oN",
        "outputId": "1e5963df-ef1c-4c67-ee82-c7a0fc002b66"
      },
      "source": [
        "np.percentile(incomes, 50)"
      ],
      "execution_count": 34,
      "outputs": [
        {
          "output_type": "execute_result",
          "data": {
            "text/plain": [
              "27003.987116473487"
            ]
          },
          "metadata": {},
          "execution_count": 34
        }
      ]
    },
    {
      "cell_type": "code",
      "metadata": {
        "colab": {
          "base_uri": "https://localhost:8080/"
        },
        "id": "puReX1sNu-jr",
        "outputId": "5b0d0ee2-2db6-4587-b2aa-92820f75a7f4"
      },
      "source": [
        "np.percentile(incomes, 95)"
      ],
      "execution_count": 35,
      "outputs": [
        {
          "output_type": "execute_result",
          "data": {
            "text/plain": [
              "51843.25536630054"
            ]
          },
          "metadata": {},
          "execution_count": 35
        }
      ]
    },
    {
      "cell_type": "markdown",
      "metadata": {
        "id": "DhzSdMC2vdD-"
      },
      "source": [
        "**Moments: quantitative measures of the shape of a probability distribution function** <br>\n",
        "$$\\int_{-\\infty}^{\\infty}(x-c)^n f(x) \\,dx$$\n",
        "\n",
        "<ul>\n",
        "<li>1st moment = Mean <br></li>\n",
        "<li>2nd moment = Variance</li>\n",
        "<li>3rd moment = Skew </li>\n",
        "<li>4th moment = Kurtosis </li>\n",
        "</ul>"
      ]
    },
    {
      "cell_type": "code",
      "metadata": {
        "colab": {
          "base_uri": "https://localhost:8080/"
        },
        "id": "H6VxB3V7xg9N",
        "outputId": "9c7e07b1-709e-4118-cd4c-da310af0f232"
      },
      "source": [
        "#1st moment of the incomes set\n",
        "np.mean(incomes)"
      ],
      "execution_count": 42,
      "outputs": [
        {
          "output_type": "execute_result",
          "data": {
            "text/plain": [
              "26889.201644619505"
            ]
          },
          "metadata": {},
          "execution_count": 42
        }
      ]
    },
    {
      "cell_type": "code",
      "metadata": {
        "colab": {
          "base_uri": "https://localhost:8080/"
        },
        "id": "dnPZoreCxnCa",
        "outputId": "ceea18f6-3b12-45e2-d4d6-804c8da9d2b6"
      },
      "source": [
        "#2nd moment of the incomes set\n",
        "np.var(incomes)"
      ],
      "execution_count": 43,
      "outputs": [
        {
          "output_type": "execute_result",
          "data": {
            "text/plain": [
              "225263185.1364687"
            ]
          },
          "metadata": {},
          "execution_count": 43
        }
      ]
    },
    {
      "cell_type": "code",
      "metadata": {
        "colab": {
          "base_uri": "https://localhost:8080/"
        },
        "id": "vahDOmSsxw5i",
        "outputId": "980ad55a-389e-4df4-8c96-6fa2d06a0060"
      },
      "source": [
        "from scipy.stats import skew, kurtosis\n",
        "skew(incomes)"
      ],
      "execution_count": 44,
      "outputs": [
        {
          "output_type": "execute_result",
          "data": {
            "text/plain": [
              "0.003479042676891069"
            ]
          },
          "metadata": {},
          "execution_count": 44
        }
      ]
    },
    {
      "cell_type": "code",
      "metadata": {
        "colab": {
          "base_uri": "https://localhost:8080/"
        },
        "id": "S2MoO-isx4ER",
        "outputId": "d3198768-e962-43db-b004-9d7c57fa0d81"
      },
      "source": [
        "kurtosis(incomes)"
      ],
      "execution_count": 45,
      "outputs": [
        {
          "output_type": "execute_result",
          "data": {
            "text/plain": [
              "-0.010421578099006457"
            ]
          },
          "metadata": {},
          "execution_count": 45
        }
      ]
    }
  ]
}