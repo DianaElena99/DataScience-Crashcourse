{
  "nbformat": 4,
  "nbformat_minor": 0,
  "metadata": {
    "colab": {
      "name": "Statistics and Probabilities.ipynb",
      "provenance": [],
      "collapsed_sections": [],
      "toc_visible": true,
      "authorship_tag": "ABX9TyPKW7LTCZ2w//QRfwDVnx0W"
    },
    "kernelspec": {
      "name": "python3",
      "display_name": "Python 3"
    },
    "language_info": {
      "name": "python"
    }
  },
  "cells": [
    {
      "cell_type": "markdown",
      "metadata": {
        "id": "ng5B0Q5M4nL1"
      },
      "source": [
        "\n",
        "# 0. Setup\n"
      ]
    },
    {
      "cell_type": "code",
      "metadata": {
        "id": "PuPsjJkt4jT4"
      },
      "source": [
        "#!pip install numpy\n",
        "#!pip install pandas \n",
        "#!pip install matplotlib\n",
        "#!pip install seaborn\n",
        "import tensorflow\n",
        "print(tensorflow.__version__)"
      ],
      "execution_count": null,
      "outputs": []
    },
    {
      "cell_type": "markdown",
      "metadata": {
        "id": "FiFXT-kzAJgl"
      },
      "source": [
        "# 1. Mean, Median, Mode\n"
      ]
    },
    {
      "cell_type": "markdown",
      "metadata": {
        "id": "Zcv8bACZ5nk9"
      },
      "source": [
        "\n",
        "Mean =  Sum / count <br>\n",
        "Median = sort the values, take the value at midpoint <br>\n",
        "Mode = most common value in the dataset <br>\n",
        "\n",
        "In this example, we use the normal distribution to create a dataset of 10000 entries, centered around the value of 27000, with a standard deviation of 15000."
      ]
    },
    {
      "cell_type": "code",
      "metadata": {
        "colab": {
          "base_uri": "https://localhost:8080/"
        },
        "id": "kmrwB4_X5reE",
        "outputId": "9687093c-5d43-4043-e0df-c486a4692932"
      },
      "source": [
        "import numpy as np\n",
        "\n",
        "incomes = np.random.normal(27000, 15000, 10000)\n",
        "print(\"Mean: \", np.mean(incomes))\n",
        "print(\"Median: \", np.median(incomes))\n"
      ],
      "execution_count": 9,
      "outputs": [
        {
          "output_type": "stream",
          "text": [
            "Mean:  26935.772407086366\n",
            "Median:  27003.987116473487\n"
          ],
          "name": "stdout"
        }
      ]
    },
    {
      "cell_type": "markdown",
      "metadata": {
        "id": "elDlbhlm9XW9"
      },
      "source": [
        "Next, divide the data in 50 buckets and plot the histograms"
      ]
    },
    {
      "cell_type": "code",
      "metadata": {
        "colab": {
          "base_uri": "https://localhost:8080/",
          "height": 265
        },
        "id": "VieDpjJp9TDN",
        "outputId": "9f55010b-8762-4270-b6e8-a2394214f091"
      },
      "source": [
        "%matplotlib inline\n",
        "import matplotlib.pyplot as plt\n",
        "plt.hist(incomes, 50)\n",
        "plt.show()"
      ],
      "execution_count": 10,
      "outputs": [
        {
          "output_type": "display_data",
          "data": {
            "image/png": "[encoded data removed]",
            "text/plain": [
              "<Figure size 432x288 with 1 Axes>"
            ]
          },
          "metadata": {
            "needs_background": "light"
          }
        }
      ]
    },
    {
      "cell_type": "markdown",
      "metadata": {
        "id": "NdHHKrFJ-JG_"
      },
      "source": [
        "Next, creating a dataset of ages for 500 people."
      ]
    },
    {
      "cell_type": "code",
      "metadata": {
        "colab": {
          "base_uri": "https://localhost:8080/"
        },
        "id": "DI9G7JF3-RqB",
        "outputId": "b95c3594-0514-4980-b21d-f03f1073a8bc"
      },
      "source": [
        "ages = np.random.randint(low=18, high=90, size=500)\n",
        "#plt.scatter([x for x in range(500)], ages)\n",
        "#plt.show()\n",
        "\n",
        "from scipy import stats\n",
        "print(\"Mode(ages):\", stats.mode(ages))"
      ],
      "execution_count": 15,
      "outputs": [
        {
          "output_type": "stream",
          "text": [
            "Mode(ages): ModeResult(mode=array([41]), count=array([17]))\n"
          ],
          "name": "stdout"
        }
      ]
    },
    {
      "cell_type": "markdown",
      "metadata": {
        "id": "djRduSQiAQ-U"
      },
      "source": [
        "# Standard Deviation and Variance"
      ]
    },
    {
      "cell_type": "markdown",
      "metadata": {
        "id": "xYfa96qEAgDQ"
      },
      "source": [
        "\n",
        "*   Variance = average of the squared differences from the mean \n",
        "\n",
        "*   Standard deviation = square root of variance <br>\n",
        "\n",
        "\n",
        "\n",
        "!! Population variance vs Sample variance<br>\n",
        "\n",
        "\n",
        "*   Population variance = sum / N\n",
        "*  Sample variance = sum / (N-1)\n"
      ]
    },
    {
      "cell_type": "code",
      "metadata": {
        "colab": {
          "base_uri": "https://localhost:8080/"
        },
        "id": "1Q2mx6FHAfUF",
        "outputId": "7e224e9e-7ce3-4d96-8804-0a39df317b3d"
      },
      "source": [
        "import math\n",
        "\n",
        "stdev = incomes.std()\n",
        "variance = incomes.var()\n",
        "print(stdev)\n",
        "print(variance)\n",
        "print(stdev == math.sqrt(variance))"
      ],
      "execution_count": 17,
      "outputs": [
        {
          "output_type": "stream",
          "text": [
            "15139.031341250948\n",
            "229190269.95137846\n",
            "True\n"
          ],
          "name": "stdout"
        }
      ]
    },
    {
      "cell_type": "markdown",
      "metadata": {
        "id": "EJWkcSXdCuS2"
      },
      "source": [
        "# Data Distributions"
      ]
    },
    {
      "cell_type": "markdown",
      "metadata": {
        "id": "9zlP0XoLCxZ9"
      },
      "source": [
        ""
      ]
    },
    {
      "cell_type": "code",
      "metadata": {
        "id": "NpqoDcH_CxrR"
      },
      "source": [
        ""
      ],
      "execution_count": null,
      "outputs": []
    }
  ]
}