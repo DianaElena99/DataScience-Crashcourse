{
  "nbformat": 4,
  "nbformat_minor": 0,
  "metadata": {
    "colab": {
      "name": "DeepLearningProj-MammographicMasses.ipynb",
      "provenance": [],
      "authorship_tag": "ABX9TyM/vd3F6xqqfsONO+Q3Jvvd",
      "include_colab_link": true
    },
    "kernelspec": {
      "name": "python3",
      "display_name": "Python 3"
    },
    "language_info": {
      "name": "python"
    }
  },
  "cells": [
    {
      "cell_type": "markdown",
      "metadata": {
        "id": "view-in-github",
        "colab_type": "text"
      },
      "source": [
        "<a href=\"https://colab.research.google.com/github/DianaElena99/DataScience-Crashcourse/blob/main/DeepLearningProj_MammographicMasses.ipynb\" target=\"_parent\"><img src=\"https://colab.research.google.com/assets/colab-badge.svg\" alt=\"Open In Colab\"/></a>"
      ]
    },
    {
      "cell_type": "markdown",
      "source": [
        "## Predict whether a mammogram mass is benign or malignant"
      ],
      "metadata": {
        "id": "vrthBK9xvNJ5"
      }
    },
    {
      "cell_type": "markdown",
      "source": [
        "Data set used for this project: https://archive.ics.uci.edu/ml/datasets/Mammographic+Mass\n",
        "\n",
        "This data contains 961 instances of masses detected in mammograms, and contains the following attributes:\n",
        "\n",
        "\n",
        "   1. BI-RADS assessment: 1 to 5 (ordinal)  \n",
        "   2. Age: patient's age in years (integer)\n",
        "   3. Shape: mass shape: round=1 oval=2 lobular=3 irregular=4 (nominal)\n",
        "   4. Margin: mass margin: circumscribed=1 microlobulated=2 obscured=3 ill-defined=4 spiculated=5 (nominal)\n",
        "   5. Density: mass density high=1 iso=2 low=3 fat-containing=4 (ordinal)\n",
        "   6. Severity: benign=0 or malignant=1 (binominal)\n",
        "\n",
        "   Missing Attribute Values: Yes\n",
        "    - BI-RADS assessment:    2\n",
        "    - Age:                   5\n",
        "    - Shape:                31\n",
        "    - Margin:               48\n",
        "    - Density:              76\n",
        "    - Severity:              0\n",
        "\n",
        "  Class Distribution: benign: 516; malignant: 445"
      ],
      "metadata": {
        "id": "2-FWmchHvRNm"
      }
    },
    {
      "cell_type": "markdown",
      "source": [
        "## 1. Data Preprocessing"
      ],
      "metadata": {
        "id": "bw-LtL-XxJKt"
      }
    },
    {
      "cell_type": "markdown",
      "source": [
        "Import the necessary libraries/packages"
      ],
      "metadata": {
        "id": "Wl1fpVJy3Wpd"
      }
    },
    {
      "cell_type": "code",
      "source": [
        "import pandas as pd\n",
        "import numpy as np\n",
        "from sklearn import preprocessing\n",
        "from sklearn.impute import SimpleImputer\n",
        "from sklearn.model_selection import train_test_split"
      ],
      "metadata": {
        "id": "RQH0YPYsvfQh"
      },
      "execution_count": 4,
      "outputs": []
    },
    {
      "cell_type": "markdown",
      "source": [
        "Import the data set using pandas"
      ],
      "metadata": {
        "id": "XoUvy7TWwzjg"
      }
    },
    {
      "cell_type": "code",
      "source": [
        "_dataset = pd.read_csv(\"mammographic_masses.data\")\n",
        "_dataset.size\n",
        "_dataset.head()"
      ],
      "metadata": {
        "colab": {
          "base_uri": "https://localhost:8080/",
          "height": 206
        },
        "id": "AMhudgpDw1GJ",
        "outputId": "a51b32fa-3806-414b-8774-5bd8e3d8306c"
      },
      "execution_count": 5,
      "outputs": [
        {
          "output_type": "execute_result",
          "data": {
            "text/plain": [
              "   BI-Rads   Age  Shape  Margin  Density  Severity\n",
              "0      5.0  67.0    3.0     5.0      3.0         1\n",
              "1      4.0  43.0    1.0     1.0      NaN         1\n",
              "2      5.0  58.0    4.0     5.0      3.0         1\n",
              "3      4.0  28.0    1.0     1.0      3.0         0\n",
              "4      5.0  74.0    1.0     5.0      NaN         1"
            ],
            "text/html": [
              "\n",
              "  <div id=\"df-fcff0cd2-ea2d-447f-91cf-d489f4562fa5\">\n",
              "    <div class=\"colab-df-container\">\n",
              "      <div>\n",
              "<style scoped>\n",
              "    .dataframe tbody tr th:only-of-type {\n",
              "        vertical-align: middle;\n",
              "    }\n",
              "\n",
              "    .dataframe tbody tr th {\n",
              "        vertical-align: top;\n",
              "    }\n",
              "\n",
              "    .dataframe thead th {\n",
              "        text-align: right;\n",
              "    }\n",
              "</style>\n",
              "<table border=\"1\" class=\"dataframe\">\n",
              "  <thead>\n",
              "    <tr style=\"text-align: right;\">\n",
              "      <th></th>\n",
              "      <th>BI-Rads</th>\n",
              "      <th>Age</th>\n",
              "      <th>Shape</th>\n",
              "      <th>Margin</th>\n",
              "      <th>Density</th>\n",
              "      <th>Severity</th>\n",
              "    </tr>\n",
              "  </thead>\n",
              "  <tbody>\n",
              "    <tr>\n",
              "      <th>0</th>\n",
              "      <td>5.0</td>\n",
              "      <td>67.0</td>\n",
              "      <td>3.0</td>\n",
              "      <td>5.0</td>\n",
              "      <td>3.0</td>\n",
              "      <td>1</td>\n",
              "    </tr>\n",
              "    <tr>\n",
              "      <th>1</th>\n",
              "      <td>4.0</td>\n",
              "      <td>43.0</td>\n",
              "      <td>1.0</td>\n",
              "      <td>1.0</td>\n",
              "      <td>NaN</td>\n",
              "      <td>1</td>\n",
              "    </tr>\n",
              "    <tr>\n",
              "      <th>2</th>\n",
              "      <td>5.0</td>\n",
              "      <td>58.0</td>\n",
              "      <td>4.0</td>\n",
              "      <td>5.0</td>\n",
              "      <td>3.0</td>\n",
              "      <td>1</td>\n",
              "    </tr>\n",
              "    <tr>\n",
              "      <th>3</th>\n",
              "      <td>4.0</td>\n",
              "      <td>28.0</td>\n",
              "      <td>1.0</td>\n",
              "      <td>1.0</td>\n",
              "      <td>3.0</td>\n",
              "      <td>0</td>\n",
              "    </tr>\n",
              "    <tr>\n",
              "      <th>4</th>\n",
              "      <td>5.0</td>\n",
              "      <td>74.0</td>\n",
              "      <td>1.0</td>\n",
              "      <td>5.0</td>\n",
              "      <td>NaN</td>\n",
              "      <td>1</td>\n",
              "    </tr>\n",
              "  </tbody>\n",
              "</table>\n",
              "</div>\n",
              "      <button class=\"colab-df-convert\" onclick=\"convertToInteractive('df-fcff0cd2-ea2d-447f-91cf-d489f4562fa5')\"\n",
              "              title=\"Convert this dataframe to an interactive table.\"\n",
              "              style=\"display:none;\">\n",
              "        \n",
              "  <svg xmlns=\"http://www.w3.org/2000/svg\" height=\"24px\"viewBox=\"0 0 24 24\"\n",
              "       width=\"24px\">\n",
              "    <path d=\"M0 0h24v24H0V0z\" fill=\"none\"/>\n",
              "    <path d=\"M18.56 5.44l.94 2.06.94-2.06 2.06-.94-2.06-.94-.94-2.06-.94 2.06-2.06.94zm-11 1L8.5 8.5l.94-2.06 2.06-.94-2.06-.94L8.5 2.5l-.94 2.06-2.06.94zm10 10l.94 2.06.94-2.06 2.06-.94-2.06-.94-.94-2.06-.94 2.06-2.06.94z\"/><path d=\"M17.41 7.96l-1.37-1.37c-.4-.4-.92-.59-1.43-.59-.52 0-1.04.2-1.43.59L10.3 9.45l-7.72 7.72c-.78.78-.78 2.05 0 2.83L4 21.41c.39.39.9.59 1.41.59.51 0 1.02-.2 1.41-.59l7.78-7.78 2.81-2.81c.8-.78.8-2.07 0-2.86zM5.41 20L4 18.59l7.72-7.72 1.47 1.35L5.41 20z\"/>\n",
              "  </svg>\n",
              "      </button>\n",
              "      \n",
              "  <style>\n",
              "    .colab-df-container {\n",
              "      display:flex;\n",
              "      flex-wrap:wrap;\n",
              "      gap: 12px;\n",
              "    }\n",
              "\n",
              "    .colab-df-convert {\n",
              "      background-color: #E8F0FE;\n",
              "      border: none;\n",
              "      border-radius: 50%;\n",
              "      cursor: pointer;\n",
              "      display: none;\n",
              "      fill: #1967D2;\n",
              "      height: 32px;\n",
              "      padding: 0 0 0 0;\n",
              "      width: 32px;\n",
              "    }\n",
              "\n",
              "    .colab-df-convert:hover {\n",
              "      background-color: #E2EBFA;\n",
              "      box-shadow: 0px 1px 2px rgba(60, 64, 67, 0.3), 0px 1px 3px 1px rgba(60, 64, 67, 0.15);\n",
              "      fill: #174EA6;\n",
              "    }\n",
              "\n",
              "    [theme=dark] .colab-df-convert {\n",
              "      background-color: #3B4455;\n",
              "      fill: #D2E3FC;\n",
              "    }\n",
              "\n",
              "    [theme=dark] .colab-df-convert:hover {\n",
              "      background-color: #434B5C;\n",
              "      box-shadow: 0px 1px 3px 1px rgba(0, 0, 0, 0.15);\n",
              "      filter: drop-shadow(0px 1px 2px rgba(0, 0, 0, 0.3));\n",
              "      fill: #FFFFFF;\n",
              "    }\n",
              "  </style>\n",
              "\n",
              "      <script>\n",
              "        const buttonEl =\n",
              "          document.querySelector('#df-fcff0cd2-ea2d-447f-91cf-d489f4562fa5 button.colab-df-convert');\n",
              "        buttonEl.style.display =\n",
              "          google.colab.kernel.accessAllowed ? 'block' : 'none';\n",
              "\n",
              "        async function convertToInteractive(key) {\n",
              "          const element = document.querySelector('#df-fcff0cd2-ea2d-447f-91cf-d489f4562fa5');\n",
              "          const dataTable =\n",
              "            await google.colab.kernel.invokeFunction('convertToInteractive',\n",
              "                                                     [key], {});\n",
              "          if (!dataTable) return;\n",
              "\n",
              "          const docLinkHtml = 'Like what you see? Visit the ' +\n",
              "            '<a target=\"_blank\" href=https://colab.research.google.com/notebooks/data_table.ipynb>data table notebook</a>'\n",
              "            + ' to learn more about interactive tables.';\n",
              "          element.innerHTML = '';\n",
              "          dataTable['output_type'] = 'display_data';\n",
              "          await google.colab.output.renderOutput(dataTable, element);\n",
              "          const docLink = document.createElement('div');\n",
              "          docLink.innerHTML = docLinkHtml;\n",
              "          element.appendChild(docLink);\n",
              "        }\n",
              "      </script>\n",
              "    </div>\n",
              "  </div>\n",
              "  "
            ]
          },
          "metadata": {},
          "execution_count": 5
        }
      ]
    },
    {
      "cell_type": "markdown",
      "source": [
        "Deal with the missing values. For the age column, replace NaN with the mean value. For the other columns, since they are categorical data, use the mode(most frequent value)"
      ],
      "metadata": {
        "id": "il_A35fj3gb4"
      }
    },
    {
      "cell_type": "code",
      "source": [
        "_imputer_mean = SimpleImputer(missing_values=np.nan, strategy=\"mean\", add_indicator=True )\n",
        "_age_col = np.array(_dataset['Age']).reshape(-1,1)\n",
        "_imputer_mean.fit(_age_col)\n",
        "_age_preproc = _imputer_mean.transform(_age_col)\n",
        "\n",
        "_dataset['Age'] = _age_preproc\n",
        "_dataset.head()\n"
      ],
      "metadata": {
        "colab": {
          "base_uri": "https://localhost:8080/",
          "height": 206
        },
        "id": "59fHYsBFxQYz",
        "outputId": "7f25ed26-433c-4e3d-8e83-b45aceaa1026"
      },
      "execution_count": 6,
      "outputs": [
        {
          "output_type": "execute_result",
          "data": {
            "text/plain": [
              "   BI-Rads   Age  Shape  Margin  Density  Severity\n",
              "0      5.0  67.0    3.0     5.0      3.0         1\n",
              "1      4.0  43.0    1.0     1.0      NaN         1\n",
              "2      5.0  58.0    4.0     5.0      3.0         1\n",
              "3      4.0  28.0    1.0     1.0      3.0         0\n",
              "4      5.0  74.0    1.0     5.0      NaN         1"
            ],
            "text/html": [
              "\n",
              "  <div id=\"df-fed7d7ca-7c67-4e29-b817-735f37d83c4a\">\n",
              "    <div class=\"colab-df-container\">\n",
              "      <div>\n",
              "<style scoped>\n",
              "    .dataframe tbody tr th:only-of-type {\n",
              "        vertical-align: middle;\n",
              "    }\n",
              "\n",
              "    .dataframe tbody tr th {\n",
              "        vertical-align: top;\n",
              "    }\n",
              "\n",
              "    .dataframe thead th {\n",
              "        text-align: right;\n",
              "    }\n",
              "</style>\n",
              "<table border=\"1\" class=\"dataframe\">\n",
              "  <thead>\n",
              "    <tr style=\"text-align: right;\">\n",
              "      <th></th>\n",
              "      <th>BI-Rads</th>\n",
              "      <th>Age</th>\n",
              "      <th>Shape</th>\n",
              "      <th>Margin</th>\n",
              "      <th>Density</th>\n",
              "      <th>Severity</th>\n",
              "    </tr>\n",
              "  </thead>\n",
              "  <tbody>\n",
              "    <tr>\n",
              "      <th>0</th>\n",
              "      <td>5.0</td>\n",
              "      <td>67.0</td>\n",
              "      <td>3.0</td>\n",
              "      <td>5.0</td>\n",
              "      <td>3.0</td>\n",
              "      <td>1</td>\n",
              "    </tr>\n",
              "    <tr>\n",
              "      <th>1</th>\n",
              "      <td>4.0</td>\n",
              "      <td>43.0</td>\n",
              "      <td>1.0</td>\n",
              "      <td>1.0</td>\n",
              "      <td>NaN</td>\n",
              "      <td>1</td>\n",
              "    </tr>\n",
              "    <tr>\n",
              "      <th>2</th>\n",
              "      <td>5.0</td>\n",
              "      <td>58.0</td>\n",
              "      <td>4.0</td>\n",
              "      <td>5.0</td>\n",
              "      <td>3.0</td>\n",
              "      <td>1</td>\n",
              "    </tr>\n",
              "    <tr>\n",
              "      <th>3</th>\n",
              "      <td>4.0</td>\n",
              "      <td>28.0</td>\n",
              "      <td>1.0</td>\n",
              "      <td>1.0</td>\n",
              "      <td>3.0</td>\n",
              "      <td>0</td>\n",
              "    </tr>\n",
              "    <tr>\n",
              "      <th>4</th>\n",
              "      <td>5.0</td>\n",
              "      <td>74.0</td>\n",
              "      <td>1.0</td>\n",
              "      <td>5.0</td>\n",
              "      <td>NaN</td>\n",
              "      <td>1</td>\n",
              "    </tr>\n",
              "  </tbody>\n",
              "</table>\n",
              "</div>\n",
              "      <button class=\"colab-df-convert\" onclick=\"convertToInteractive('df-fed7d7ca-7c67-4e29-b817-735f37d83c4a')\"\n",
              "              title=\"Convert this dataframe to an interactive table.\"\n",
              "              style=\"display:none;\">\n",
              "        \n",
              "  <svg xmlns=\"http://www.w3.org/2000/svg\" height=\"24px\"viewBox=\"0 0 24 24\"\n",
              "       width=\"24px\">\n",
              "    <path d=\"M0 0h24v24H0V0z\" fill=\"none\"/>\n",
              "    <path d=\"M18.56 5.44l.94 2.06.94-2.06 2.06-.94-2.06-.94-.94-2.06-.94 2.06-2.06.94zm-11 1L8.5 8.5l.94-2.06 2.06-.94-2.06-.94L8.5 2.5l-.94 2.06-2.06.94zm10 10l.94 2.06.94-2.06 2.06-.94-2.06-.94-.94-2.06-.94 2.06-2.06.94z\"/><path d=\"M17.41 7.96l-1.37-1.37c-.4-.4-.92-.59-1.43-.59-.52 0-1.04.2-1.43.59L10.3 9.45l-7.72 7.72c-.78.78-.78 2.05 0 2.83L4 21.41c.39.39.9.59 1.41.59.51 0 1.02-.2 1.41-.59l7.78-7.78 2.81-2.81c.8-.78.8-2.07 0-2.86zM5.41 20L4 18.59l7.72-7.72 1.47 1.35L5.41 20z\"/>\n",
              "  </svg>\n",
              "      </button>\n",
              "      \n",
              "  <style>\n",
              "    .colab-df-container {\n",
              "      display:flex;\n",
              "      flex-wrap:wrap;\n",
              "      gap: 12px;\n",
              "    }\n",
              "\n",
              "    .colab-df-convert {\n",
              "      background-color: #E8F0FE;\n",
              "      border: none;\n",
              "      border-radius: 50%;\n",
              "      cursor: pointer;\n",
              "      display: none;\n",
              "      fill: #1967D2;\n",
              "      height: 32px;\n",
              "      padding: 0 0 0 0;\n",
              "      width: 32px;\n",
              "    }\n",
              "\n",
              "    .colab-df-convert:hover {\n",
              "      background-color: #E2EBFA;\n",
              "      box-shadow: 0px 1px 2px rgba(60, 64, 67, 0.3), 0px 1px 3px 1px rgba(60, 64, 67, 0.15);\n",
              "      fill: #174EA6;\n",
              "    }\n",
              "\n",
              "    [theme=dark] .colab-df-convert {\n",
              "      background-color: #3B4455;\n",
              "      fill: #D2E3FC;\n",
              "    }\n",
              "\n",
              "    [theme=dark] .colab-df-convert:hover {\n",
              "      background-color: #434B5C;\n",
              "      box-shadow: 0px 1px 3px 1px rgba(0, 0, 0, 0.15);\n",
              "      filter: drop-shadow(0px 1px 2px rgba(0, 0, 0, 0.3));\n",
              "      fill: #FFFFFF;\n",
              "    }\n",
              "  </style>\n",
              "\n",
              "      <script>\n",
              "        const buttonEl =\n",
              "          document.querySelector('#df-fed7d7ca-7c67-4e29-b817-735f37d83c4a button.colab-df-convert');\n",
              "        buttonEl.style.display =\n",
              "          google.colab.kernel.accessAllowed ? 'block' : 'none';\n",
              "\n",
              "        async function convertToInteractive(key) {\n",
              "          const element = document.querySelector('#df-fed7d7ca-7c67-4e29-b817-735f37d83c4a');\n",
              "          const dataTable =\n",
              "            await google.colab.kernel.invokeFunction('convertToInteractive',\n",
              "                                                     [key], {});\n",
              "          if (!dataTable) return;\n",
              "\n",
              "          const docLinkHtml = 'Like what you see? Visit the ' +\n",
              "            '<a target=\"_blank\" href=https://colab.research.google.com/notebooks/data_table.ipynb>data table notebook</a>'\n",
              "            + ' to learn more about interactive tables.';\n",
              "          element.innerHTML = '';\n",
              "          dataTable['output_type'] = 'display_data';\n",
              "          await google.colab.output.renderOutput(dataTable, element);\n",
              "          const docLink = document.createElement('div');\n",
              "          docLink.innerHTML = docLinkHtml;\n",
              "          element.appendChild(docLink);\n",
              "        }\n",
              "      </script>\n",
              "    </div>\n",
              "  </div>\n",
              "  "
            ]
          },
          "metadata": {},
          "execution_count": 6
        }
      ]
    },
    {
      "cell_type": "code",
      "source": [
        "_imputer_mode = SimpleImputer(missing_values = np.nan , strategy=\"most_frequent\", add_indicator=True)\n",
        "\n",
        "_shape_col = np.array(_dataset['Shape']).reshape(-1,1)\n",
        "_imputer_mode.fit(_shape_col)\n",
        "_shape_preproc = _imputer_mode.transform(_shape_col)\n",
        "_dataset['Shape'] = _shape_preproc\n",
        "\n",
        "_margin_col = np.array(_dataset['Margin']).reshape(-1,1)\n",
        "_imputer_mode.fit(_margin_col)\n",
        "_margin_preproc = _imputer_mode.transform(_margin_col)\n",
        "_dataset['Margin'] = _margin_preproc\n",
        "\n",
        "_density_col = np.array(_dataset['Density']).reshape(-1,1)\n",
        "_imputer_mode.fit(_density_col)\n",
        "_density_preproc = _imputer_mode.transform(_density_col)\n",
        "_dataset['Density'] = _density_preproc\n",
        "\n",
        "_dataset.head()"
      ],
      "metadata": {
        "colab": {
          "base_uri": "https://localhost:8080/",
          "height": 206
        },
        "id": "iK25pxVE1MAT",
        "outputId": "2b725eea-094d-4ef2-f564-09af4a744c16"
      },
      "execution_count": 7,
      "outputs": [
        {
          "output_type": "execute_result",
          "data": {
            "text/plain": [
              "   BI-Rads   Age  Shape  Margin  Density  Severity\n",
              "0      5.0  67.0    3.0     5.0      3.0         1\n",
              "1      4.0  43.0    1.0     1.0      3.0         1\n",
              "2      5.0  58.0    4.0     5.0      3.0         1\n",
              "3      4.0  28.0    1.0     1.0      3.0         0\n",
              "4      5.0  74.0    1.0     5.0      3.0         1"
            ],
            "text/html": [
              "\n",
              "  <div id=\"df-f1f52136-a10c-49c1-bc72-1f75ea0bdd70\">\n",
              "    <div class=\"colab-df-container\">\n",
              "      <div>\n",
              "<style scoped>\n",
              "    .dataframe tbody tr th:only-of-type {\n",
              "        vertical-align: middle;\n",
              "    }\n",
              "\n",
              "    .dataframe tbody tr th {\n",
              "        vertical-align: top;\n",
              "    }\n",
              "\n",
              "    .dataframe thead th {\n",
              "        text-align: right;\n",
              "    }\n",
              "</style>\n",
              "<table border=\"1\" class=\"dataframe\">\n",
              "  <thead>\n",
              "    <tr style=\"text-align: right;\">\n",
              "      <th></th>\n",
              "      <th>BI-Rads</th>\n",
              "      <th>Age</th>\n",
              "      <th>Shape</th>\n",
              "      <th>Margin</th>\n",
              "      <th>Density</th>\n",
              "      <th>Severity</th>\n",
              "    </tr>\n",
              "  </thead>\n",
              "  <tbody>\n",
              "    <tr>\n",
              "      <th>0</th>\n",
              "      <td>5.0</td>\n",
              "      <td>67.0</td>\n",
              "      <td>3.0</td>\n",
              "      <td>5.0</td>\n",
              "      <td>3.0</td>\n",
              "      <td>1</td>\n",
              "    </tr>\n",
              "    <tr>\n",
              "      <th>1</th>\n",
              "      <td>4.0</td>\n",
              "      <td>43.0</td>\n",
              "      <td>1.0</td>\n",
              "      <td>1.0</td>\n",
              "      <td>3.0</td>\n",
              "      <td>1</td>\n",
              "    </tr>\n",
              "    <tr>\n",
              "      <th>2</th>\n",
              "      <td>5.0</td>\n",
              "      <td>58.0</td>\n",
              "      <td>4.0</td>\n",
              "      <td>5.0</td>\n",
              "      <td>3.0</td>\n",
              "      <td>1</td>\n",
              "    </tr>\n",
              "    <tr>\n",
              "      <th>3</th>\n",
              "      <td>4.0</td>\n",
              "      <td>28.0</td>\n",
              "      <td>1.0</td>\n",
              "      <td>1.0</td>\n",
              "      <td>3.0</td>\n",
              "      <td>0</td>\n",
              "    </tr>\n",
              "    <tr>\n",
              "      <th>4</th>\n",
              "      <td>5.0</td>\n",
              "      <td>74.0</td>\n",
              "      <td>1.0</td>\n",
              "      <td>5.0</td>\n",
              "      <td>3.0</td>\n",
              "      <td>1</td>\n",
              "    </tr>\n",
              "  </tbody>\n",
              "</table>\n",
              "</div>\n",
              "      <button class=\"colab-df-convert\" onclick=\"convertToInteractive('df-f1f52136-a10c-49c1-bc72-1f75ea0bdd70')\"\n",
              "              title=\"Convert this dataframe to an interactive table.\"\n",
              "              style=\"display:none;\">\n",
              "        \n",
              "  <svg xmlns=\"http://www.w3.org/2000/svg\" height=\"24px\"viewBox=\"0 0 24 24\"\n",
              "       width=\"24px\">\n",
              "    <path d=\"M0 0h24v24H0V0z\" fill=\"none\"/>\n",
              "    <path d=\"M18.56 5.44l.94 2.06.94-2.06 2.06-.94-2.06-.94-.94-2.06-.94 2.06-2.06.94zm-11 1L8.5 8.5l.94-2.06 2.06-.94-2.06-.94L8.5 2.5l-.94 2.06-2.06.94zm10 10l.94 2.06.94-2.06 2.06-.94-2.06-.94-.94-2.06-.94 2.06-2.06.94z\"/><path d=\"M17.41 7.96l-1.37-1.37c-.4-.4-.92-.59-1.43-.59-.52 0-1.04.2-1.43.59L10.3 9.45l-7.72 7.72c-.78.78-.78 2.05 0 2.83L4 21.41c.39.39.9.59 1.41.59.51 0 1.02-.2 1.41-.59l7.78-7.78 2.81-2.81c.8-.78.8-2.07 0-2.86zM5.41 20L4 18.59l7.72-7.72 1.47 1.35L5.41 20z\"/>\n",
              "  </svg>\n",
              "      </button>\n",
              "      \n",
              "  <style>\n",
              "    .colab-df-container {\n",
              "      display:flex;\n",
              "      flex-wrap:wrap;\n",
              "      gap: 12px;\n",
              "    }\n",
              "\n",
              "    .colab-df-convert {\n",
              "      background-color: #E8F0FE;\n",
              "      border: none;\n",
              "      border-radius: 50%;\n",
              "      cursor: pointer;\n",
              "      display: none;\n",
              "      fill: #1967D2;\n",
              "      height: 32px;\n",
              "      padding: 0 0 0 0;\n",
              "      width: 32px;\n",
              "    }\n",
              "\n",
              "    .colab-df-convert:hover {\n",
              "      background-color: #E2EBFA;\n",
              "      box-shadow: 0px 1px 2px rgba(60, 64, 67, 0.3), 0px 1px 3px 1px rgba(60, 64, 67, 0.15);\n",
              "      fill: #174EA6;\n",
              "    }\n",
              "\n",
              "    [theme=dark] .colab-df-convert {\n",
              "      background-color: #3B4455;\n",
              "      fill: #D2E3FC;\n",
              "    }\n",
              "\n",
              "    [theme=dark] .colab-df-convert:hover {\n",
              "      background-color: #434B5C;\n",
              "      box-shadow: 0px 1px 3px 1px rgba(0, 0, 0, 0.15);\n",
              "      filter: drop-shadow(0px 1px 2px rgba(0, 0, 0, 0.3));\n",
              "      fill: #FFFFFF;\n",
              "    }\n",
              "  </style>\n",
              "\n",
              "      <script>\n",
              "        const buttonEl =\n",
              "          document.querySelector('#df-f1f52136-a10c-49c1-bc72-1f75ea0bdd70 button.colab-df-convert');\n",
              "        buttonEl.style.display =\n",
              "          google.colab.kernel.accessAllowed ? 'block' : 'none';\n",
              "\n",
              "        async function convertToInteractive(key) {\n",
              "          const element = document.querySelector('#df-f1f52136-a10c-49c1-bc72-1f75ea0bdd70');\n",
              "          const dataTable =\n",
              "            await google.colab.kernel.invokeFunction('convertToInteractive',\n",
              "                                                     [key], {});\n",
              "          if (!dataTable) return;\n",
              "\n",
              "          const docLinkHtml = 'Like what you see? Visit the ' +\n",
              "            '<a target=\"_blank\" href=https://colab.research.google.com/notebooks/data_table.ipynb>data table notebook</a>'\n",
              "            + ' to learn more about interactive tables.';\n",
              "          element.innerHTML = '';\n",
              "          dataTable['output_type'] = 'display_data';\n",
              "          await google.colab.output.renderOutput(dataTable, element);\n",
              "          const docLink = document.createElement('div');\n",
              "          docLink.innerHTML = docLinkHtml;\n",
              "          element.appendChild(docLink);\n",
              "        }\n",
              "      </script>\n",
              "    </div>\n",
              "  </div>\n",
              "  "
            ]
          },
          "metadata": {},
          "execution_count": 7
        }
      ]
    },
    {
      "cell_type": "markdown",
      "source": [
        "# Split the dataset into train and test"
      ],
      "metadata": {
        "id": "KudvbMbM3vNe"
      }
    },
    {
      "cell_type": "code",
      "source": [
        "X = _dataset.iloc[: , 1:-1]\n",
        "Y = _dataset.iloc[:,-1]\n",
        "X_train, X_test, Y_train, Y_test = train_test_split(X, Y, test_size=0.2, random_state=42)\n",
        "\n",
        "_scaler = preprocessing.StandardScaler()\n",
        "_scaler.fit_transform(X_train[['Age', 'Shape', 'Density', 'Margin']])\n",
        "_scaler.fit_transform(X_test[['Age', 'Shape', 'Density', 'Margin']])"
      ],
      "metadata": {
        "id": "CFKKJ23931yu",
        "outputId": "d02fab00-de6a-4231-a173-6d962c7a003e",
        "colab": {
          "base_uri": "https://localhost:8080/"
        }
      },
      "execution_count": 16,
      "outputs": [
        {
          "output_type": "execute_result",
          "data": {
            "text/plain": [
              "array([[ 0.52157359, -1.49111991,  0.3230796 , -1.1191299 ],\n",
              "       [-0.32999761,  0.93404422,  0.3230796 ,  0.16653719],\n",
              "       [-1.11060454,  0.93404422,  0.3230796 ,  0.16653719],\n",
              "       [-1.53639014, -1.49111991,  0.3230796 , -1.1191299 ],\n",
              "       [-1.39446161,  0.93404422,  0.3230796 , -0.47629636],\n",
              "       [-0.04614054,  0.93404422,  0.3230796 ,  0.16653719],\n",
              "       [-0.61385467, -1.49111991,  0.3230796 , -1.1191299 ],\n",
              "       [-0.11710481, -1.49111991,  0.3230796 , -1.1191299 ],\n",
              "       [ 0.23771652,  0.93404422,  0.3230796 ,  0.80937073],\n",
              "       [ 1.30218052,  0.93404422,  0.3230796 ,  0.16653719],\n",
              "       [ 0.66350212, -1.49111991,  0.3230796 , -1.1191299 ],\n",
              "       [ 1.23121626,  0.93404422,  0.3230796 ,  0.16653719],\n",
              "       [-0.82674747,  0.93404422,  0.3230796 ,  1.45220428],\n",
              "       [-0.54289041, -0.68273187,  0.3230796 , -1.1191299 ],\n",
              "       [ 0.09578799, -0.68273187,  0.3230796 , -0.47629636],\n",
              "       [-0.04614054, -1.49111991,  0.3230796 , -1.1191299 ],\n",
              "       [-0.61385467, -1.49111991, -2.38797963,  1.45220428],\n",
              "       [-1.25253307, -1.49111991,  0.3230796 , -1.1191299 ],\n",
              "       [-0.75578321, -0.68273187, -2.38797963, -1.1191299 ],\n",
              "       [ 1.23121626,  0.93404422,  0.3230796 ,  0.16653719],\n",
              "       [ 0.66350212,  0.93404422,  0.3230796 ,  0.80937073],\n",
              "       [-0.25903334,  0.93404422,  0.3230796 ,  0.80937073],\n",
              "       [ 0.66350212, -0.68273187,  0.3230796 ,  0.80937073],\n",
              "       [ 0.66350212,  0.93404422, -2.38797963,  0.80937073],\n",
              "       [ 0.02482372,  0.12565617,  0.3230796 ,  0.80937073],\n",
              "       [-0.89771174,  0.93404422,  0.3230796 ,  0.80937073],\n",
              "       [ 1.79893039,  0.93404422,  0.3230796 ,  0.16653719],\n",
              "       [ 0.09578799,  0.93404422,  0.3230796 , -0.47629636],\n",
              "       [ 1.79893039,  0.93404422,  0.3230796 ,  0.16653719],\n",
              "       [ 1.30218052, -0.68273187, -2.38797963, -1.1191299 ],\n",
              "       [ 0.80543066,  0.93404422,  0.3230796 ,  1.45220428],\n",
              "       [-1.46542587, -0.68273187,  0.3230796 , -1.1191299 ],\n",
              "       [-0.11710481, -1.49111991,  0.3230796 , -1.1191299 ],\n",
              "       [ 2.29568025,  0.93404422,  0.3230796 ,  1.45220428],\n",
              "       [ 1.79893039,  0.93404422,  0.3230796 ,  1.45220428],\n",
              "       [ 0.80543066,  0.93404422,  0.3230796 ,  1.45220428],\n",
              "       [ 0.30868079, -0.68273187,  0.3230796 ,  0.80937073],\n",
              "       [ 0.30868079, -0.68273187,  0.3230796 , -1.1191299 ],\n",
              "       [-0.04614054,  0.12565617,  0.3230796 ,  1.45220428],\n",
              "       [-0.75578321,  0.93404422, -5.09903886, -1.1191299 ],\n",
              "       [-0.40096188, -0.68273187,  0.3230796 , -0.47629636],\n",
              "       [ 0.02482372,  0.12565617, -2.38797963,  0.80937073],\n",
              "       [-1.89121147, -0.68273187,  0.3230796 , -1.1191299 ],\n",
              "       [-1.18156881,  0.93404422,  0.3230796 , -1.1191299 ],\n",
              "       [ 0.52157359, -0.68273187,  0.3230796 , -1.1191299 ],\n",
              "       [ 0.16675226, -0.68273187,  0.3230796 ,  0.80937073],\n",
              "       [-1.82024721, -1.49111991,  0.3230796 , -1.1191299 ],\n",
              "       [ 0.30868079,  0.93404422,  0.3230796 ,  0.80937073],\n",
              "       [ 1.37314479,  0.93404422,  0.3230796 ,  0.16653719],\n",
              "       [ 0.23771652,  0.93404422,  0.3230796 ,  1.45220428],\n",
              "       [-0.40096188, -1.49111991,  0.3230796 , -1.1191299 ],\n",
              "       [ 1.51507332,  0.93404422,  0.3230796 ,  0.80937073],\n",
              "       [-0.40096188, -1.49111991,  0.3230796 , -1.1191299 ],\n",
              "       [-0.61385467,  0.93404422,  0.3230796 ,  0.80937073],\n",
              "       [-0.40096188,  0.93404422,  0.3230796 ,  0.16653719],\n",
              "       [ 0.52157359,  0.12565617,  0.3230796 ,  0.16653719],\n",
              "       [ 0.87639492,  0.12565617,  0.3230796 ,  1.45220428],\n",
              "       [ 0.16675226, -1.49111991,  0.3230796 , -1.1191299 ],\n",
              "       [ 1.16025199, -1.49111991,  0.3230796 , -1.1191299 ],\n",
              "       [ 1.37314479, -1.49111991, -2.38797963, -1.1191299 ],\n",
              "       [-0.82674747, -1.49111991,  0.3230796 , -1.1191299 ],\n",
              "       [-0.89771174,  0.93404422,  0.3230796 ,  1.45220428],\n",
              "       [ 0.30868079,  0.93404422,  0.3230796 ,  0.80937073],\n",
              "       [-0.04614054, -1.49111991,  0.3230796 , -1.1191299 ],\n",
              "       [-0.61385467,  0.93404422,  0.3230796 ,  0.16653719],\n",
              "       [ 0.23771652,  0.93404422,  0.3230796 ,  0.80937073],\n",
              "       [ 0.16675226, -0.68273187,  0.3230796 , -1.1191299 ],\n",
              "       [-0.96867601,  0.93404422, -2.38797963,  0.16653719],\n",
              "       [ 0.87639492,  0.93404422,  0.3230796 ,  1.45220428],\n",
              "       [-1.03964027, -0.68273187,  0.3230796 , -1.1191299 ],\n",
              "       [-0.89771174,  0.12565617, -2.38797963,  0.80937073],\n",
              "       [-1.03964027, -1.49111991,  0.3230796 , -1.1191299 ],\n",
              "       [-0.18806908,  0.12565617,  0.3230796 ,  0.80937073],\n",
              "       [ 0.59253786,  0.12565617,  0.3230796 ,  0.80937073],\n",
              "       [ 1.72796612,  0.93404422,  0.3230796 ,  0.80937073],\n",
              "       [ 1.79893039,  0.93404422,  0.3230796 ,  0.80937073],\n",
              "       [ 0.59253786, -1.49111991,  0.3230796 , -1.1191299 ],\n",
              "       [-0.47192614,  0.93404422,  0.3230796 ,  0.80937073],\n",
              "       [ 0.80543066, -0.68273187,  0.3230796 , -1.1191299 ],\n",
              "       [ 0.02482372,  0.93404422,  0.3230796 ,  0.80937073],\n",
              "       [ 0.66350212,  0.93404422,  0.3230796 ,  0.80937073],\n",
              "       [-0.68481894, -0.68273187,  0.3230796 ,  0.80937073],\n",
              "       [-0.32999761,  0.93404422,  0.3230796 ,  0.80937073],\n",
              "       [-1.67831867, -0.68273187,  0.3230796 , -1.1191299 ],\n",
              "       [ 2.15375172,  0.93404422,  0.3230796 ,  0.16653719],\n",
              "       [ 0.73446639,  0.93404422,  0.3230796 ,  1.45220428],\n",
              "       [-0.25903334,  0.93404422,  0.3230796 ,  0.80937073],\n",
              "       [ 0.52157359,  0.93404422,  0.3230796 ,  0.80937073],\n",
              "       [-1.03964027, -1.49111991,  0.3230796 , -1.1191299 ],\n",
              "       [-0.32999761, -0.68273187,  0.3230796 , -1.1191299 ],\n",
              "       [ 2.22471599,  0.93404422,  0.3230796 ,  0.16653719],\n",
              "       [ 1.08928772,  0.93404422, -2.38797963, -0.47629636],\n",
              "       [-0.25903334,  0.93404422, -2.38797963,  0.80937073],\n",
              "       [ 1.58603759,  0.93404422,  0.3230796 ,  1.45220428],\n",
              "       [-0.61385467, -1.49111991,  0.3230796 , -1.1191299 ],\n",
              "       [ 0.30868079, -1.49111991,  0.3230796 ,  1.45220428],\n",
              "       [ 0.73446639,  0.12565617,  0.3230796 ,  0.16653719],\n",
              "       [-0.18806908,  0.93404422,  0.3230796 ,  1.45220428],\n",
              "       [ 0.73446639,  0.93404422,  0.3230796 ,  1.45220428],\n",
              "       [ 0.52157359,  0.12565617, -2.38797963,  1.45220428],\n",
              "       [-0.32999761,  0.93404422,  0.3230796 , -1.1191299 ],\n",
              "       [ 1.30218052,  0.12565617, -2.38797963, -1.1191299 ],\n",
              "       [-0.61385467,  0.93404422,  0.3230796 ,  1.45220428],\n",
              "       [-0.96867601, -1.49111991,  0.3230796 , -1.1191299 ],\n",
              "       [ 0.94735919,  0.93404422,  0.3230796 , -1.1191299 ],\n",
              "       [-1.46542587,  0.93404422,  0.3230796 ,  0.80937073],\n",
              "       [ 1.23121626,  0.93404422,  0.3230796 ,  1.45220428],\n",
              "       [ 0.66350212,  0.93404422,  0.3230796 ,  0.16653719],\n",
              "       [ 0.80543066,  0.93404422,  0.3230796 ,  0.80937073],\n",
              "       [-0.75578321,  0.93404422,  0.3230796 ,  1.45220428],\n",
              "       [ 0.37964506,  0.93404422,  0.3230796 ,  0.16653719],\n",
              "       [ 0.09578799,  0.93404422,  0.3230796 ,  0.80937073],\n",
              "       [-1.11060454, -1.49111991,  0.3230796 ,  0.16653719],\n",
              "       [ 0.30868079, -1.49111991,  0.3230796 , -1.1191299 ],\n",
              "       [ 0.94735919,  0.93404422,  0.3230796 ,  0.16653719],\n",
              "       [-0.32999761, -1.49111991,  0.3230796 , -1.1191299 ],\n",
              "       [-1.03964027, -0.68273187, -2.38797963,  0.80937073],\n",
              "       [-1.25253307, -0.68273187, -2.38797963, -1.1191299 ],\n",
              "       [ 0.59253786,  0.93404422,  0.3230796 ,  0.80937073],\n",
              "       [ 0.80543066,  0.93404422,  0.3230796 ,  0.16653719],\n",
              "       [-0.40096188,  0.93404422,  0.3230796 ,  0.80937073],\n",
              "       [ 0.66350212,  0.93404422,  0.3230796 ,  0.80937073],\n",
              "       [-0.18806908,  0.93404422,  0.3230796 ,  0.16653719],\n",
              "       [ 0.02482372,  0.93404422,  0.3230796 ,  0.80937073],\n",
              "       [-0.61385467, -0.68273187, -2.38797963, -1.1191299 ],\n",
              "       [ 0.73446639,  0.93404422,  0.3230796 ,  1.45220428],\n",
              "       [ 0.16675226, -0.68273187,  0.3230796 , -1.1191299 ],\n",
              "       [-0.40096188, -1.49111991,  0.3230796 , -1.1191299 ],\n",
              "       [ 2.01182319,  0.93404422, -2.38797963,  0.80937073],\n",
              "       [ 0.94735919,  0.93404422,  0.3230796 ,  0.80937073],\n",
              "       [-0.75578321, -0.68273187,  0.3230796 , -1.1191299 ],\n",
              "       [-0.11710481, -1.49111991,  0.3230796 , -1.1191299 ],\n",
              "       [-0.54289041,  0.93404422,  0.3230796 ,  0.80937073],\n",
              "       [-1.46542587,  0.93404422,  3.03413883, -1.1191299 ],\n",
              "       [-2.52988987,  0.12565617,  0.3230796 , -1.1191299 ],\n",
              "       [ 1.30218052, -0.68273187,  0.3230796 , -1.1191299 ],\n",
              "       [-0.68481894,  0.93404422,  0.3230796 ,  0.80937073],\n",
              "       [-1.96217574, -0.68273187,  0.3230796 , -1.1191299 ],\n",
              "       [-1.53639014, -1.49111991,  0.3230796 , -1.1191299 ],\n",
              "       [-0.54289041,  0.12565617,  0.3230796 , -1.1191299 ],\n",
              "       [-0.11710481,  0.93404422,  0.3230796 ,  1.45220428],\n",
              "       [-1.46542587, -0.68273187,  0.3230796 , -1.1191299 ],\n",
              "       [ 0.37964506,  0.12565617,  0.3230796 , -1.1191299 ],\n",
              "       [-0.11710481, -0.68273187,  0.3230796 , -1.1191299 ],\n",
              "       [ 0.30868079, -0.68273187,  0.3230796 , -1.1191299 ],\n",
              "       [ 0.73446639,  0.12565617,  0.3230796 ,  0.16653719],\n",
              "       [-0.75578321, -1.49111991,  0.3230796 ,  0.80937073],\n",
              "       [-0.75578321, -0.68273187,  0.3230796 , -1.1191299 ],\n",
              "       [ 0.73446639,  0.93404422,  0.3230796 ,  0.80937073],\n",
              "       [-1.46542587,  0.93404422, -2.38797963,  1.45220428],\n",
              "       [ 0.45060932,  0.93404422,  0.3230796 ,  0.80937073],\n",
              "       [ 0.02482372,  0.93404422,  0.3230796 ,  1.45220428],\n",
              "       [ 1.16025199,  0.93404422,  0.3230796 ,  0.80937073],\n",
              "       [ 0.80543066, -1.49111991,  0.3230796 , -1.1191299 ],\n",
              "       [ 0.02482372,  0.93404422,  0.3230796 , -1.1191299 ],\n",
              "       [-0.54289041, -0.68273187,  0.3230796 , -1.1191299 ],\n",
              "       [-1.53639014,  0.93404422,  0.3230796 ,  0.80937073],\n",
              "       [ 1.79893039,  0.93404422,  0.3230796 ,  0.80937073],\n",
              "       [-1.32349734, -0.68273187,  0.3230796 ,  0.16653719],\n",
              "       [ 0.37964506,  0.93404422, -2.38797963,  0.16653719],\n",
              "       [ 0.52157359,  0.12565617,  0.3230796 ,  0.16653719],\n",
              "       [-1.60735441, -1.49111991,  0.3230796 , -1.1191299 ],\n",
              "       [ 1.30218052,  0.93404422,  0.3230796 ,  1.45220428],\n",
              "       [-1.39446161, -0.68273187,  0.3230796 , -1.1191299 ],\n",
              "       [ 2.72146585, -1.49111991,  0.3230796 ,  1.45220428],\n",
              "       [ 0.45060932,  0.93404422,  0.3230796 ,  0.16653719],\n",
              "       [-0.82674747,  0.93404422,  0.3230796 ,  0.16653719],\n",
              "       [-2.10410427, -0.68273187,  0.3230796 , -1.1191299 ],\n",
              "       [ 0.02482372, -0.68273187,  0.3230796 , -1.1191299 ],\n",
              "       [ 0.02482372, -1.49111991,  0.3230796 , -1.1191299 ],\n",
              "       [-0.96867601, -0.68273187,  0.3230796 , -1.1191299 ],\n",
              "       [ 0.23771652, -1.49111991,  0.3230796 ,  1.45220428],\n",
              "       [-0.96867601, -0.68273187,  0.3230796 , -1.1191299 ],\n",
              "       [ 1.16025199,  0.93404422,  0.3230796 ,  0.16653719],\n",
              "       [-0.25903334, -0.68273187,  0.3230796 ,  0.80937073],\n",
              "       [-0.61385467, -1.49111991, -5.09903886, -1.1191299 ],\n",
              "       [ 1.16025199,  0.93404422,  0.3230796 ,  0.80937073],\n",
              "       [ 1.16025199, -1.49111991,  0.3230796 , -1.1191299 ],\n",
              "       [ 0.87639492,  0.93404422,  0.3230796 ,  1.45220428],\n",
              "       [ 0.30868079, -0.68273187,  0.3230796 , -1.1191299 ],\n",
              "       [-0.82674747, -0.68273187,  0.3230796 , -1.1191299 ],\n",
              "       [-2.2460328 , -1.49111991,  0.3230796 , -1.1191299 ],\n",
              "       [-0.47192614, -1.49111991,  0.3230796 , -1.1191299 ],\n",
              "       [-1.11060454, -1.49111991,  0.3230796 , -1.1191299 ],\n",
              "       [ 1.30218052,  0.93404422,  0.3230796 ,  1.45220428],\n",
              "       [-1.67831867, -0.68273187,  0.3230796 , -1.1191299 ],\n",
              "       [-0.18806908,  0.93404422,  0.3230796 ,  0.80937073],\n",
              "       [ 0.05941509,  0.93404422,  0.3230796 ,  0.16653719],\n",
              "       [-1.96217574, -0.68273187,  0.3230796 , -1.1191299 ],\n",
              "       [-1.11060454, -1.49111991, -2.38797963, -1.1191299 ],\n",
              "       [-0.04614054,  0.93404422,  0.3230796 ,  0.80937073],\n",
              "       [ 0.73446639, -0.68273187, -2.38797963,  0.16653719],\n",
              "       [ 0.23771652,  0.93404422,  0.3230796 ,  0.80937073]])"
            ]
          },
          "metadata": {},
          "execution_count": 16
        }
      ]
    },
    {
      "cell_type": "markdown",
      "source": [
        "## Create the Logistic Regression Model"
      ],
      "metadata": {
        "id": "CSTfgPJh6Re7"
      }
    },
    {
      "cell_type": "code",
      "source": [
        "from sklearn.linear_model import LogisticRegressionCV\n",
        "\n",
        "_logistic_regressor = LogisticRegressionCV(cv=5, random_state=0).fit(X_train, Y_train)\n",
        "_logistic_regressor.score(X_train, Y_train)\n",
        "\n"
      ],
      "metadata": {
        "id": "5QGO0wkE6V-R",
        "outputId": "0da2257c-c54b-4ae0-90d0-61d615b6f1aa",
        "colab": {
          "base_uri": "https://localhost:8080/"
        }
      },
      "execution_count": 21,
      "outputs": [
        {
          "output_type": "execute_result",
          "data": {
            "text/plain": [
              "0.79296875"
            ]
          },
          "metadata": {},
          "execution_count": 21
        }
      ]
    },
    {
      "cell_type": "code",
      "source": [
        "Y_pred_lrcv = _logistic_regressor.predict(X_test)\n",
        "_logistic_regressor.score(X_test, Y_test)"
      ],
      "metadata": {
        "id": "F89babcU80h3",
        "outputId": "98f8e801-7748-4d89-a6a4-d0a1206a18d2",
        "colab": {
          "base_uri": "https://localhost:8080/"
        }
      },
      "execution_count": 22,
      "outputs": [
        {
          "output_type": "execute_result",
          "data": {
            "text/plain": [
              "0.8134715025906736"
            ]
          },
          "metadata": {},
          "execution_count": 22
        }
      ]
    },
    {
      "cell_type": "code",
      "source": [
        "from sklearn.metrics import ConfusionMatrixDisplay\n",
        "ConfusionMatrixDisplay.from_predictions(Y_test, Y_pred_lrcv)"
      ],
      "metadata": {
        "id": "puKiOnan87YA",
        "outputId": "73ab81ef-7f59-4e8b-e963-2390d954d0bf",
        "colab": {
          "base_uri": "https://localhost:8080/",
          "height": 300
        }
      },
      "execution_count": 25,
      "outputs": [
        {
          "output_type": "execute_result",
          "data": {
            "text/plain": [
              "<sklearn.metrics._plot.confusion_matrix.ConfusionMatrixDisplay at 0x7f1d13000f50>"
            ]
          },
          "metadata": {},
          "execution_count": 25
        },
        {
          "output_type": "display_data",
          "data": {
            "text/plain": [
              "<Figure size 432x288 with 2 Axes>"
            ],
            "image/png": "[encoded data removed]"
          },
          "metadata": {
            "needs_background": "light"
          }
        }
      ]
    },
    {
      "cell_type": "markdown",
      "source": [
        "# Create the Multi-Layer Perceptron"
      ],
      "metadata": {
        "id": "QwsmLnxx5qNy"
      }
    },
    {
      "cell_type": "code",
      "source": [
        "from tensorflow import keras \n",
        "import tensorflow as tf\n",
        "from keras.layers import Dense\n",
        "from keras.models import Sequential\n",
        "\n",
        "_model = Sequential()\n",
        "_model.add(Dense(units=6, input_dim=4, activation='relu' ,kernel_initializer='normal' ))\n",
        "_model.add(Dense(1, kernel_initializer='normal', activation='sigmoid'))\n",
        "_model.compile(loss='binary_crossentropy', optimizer='adam', metrics=['accuracy'])\n",
        "\n",
        "_model.summary()"
      ],
      "metadata": {
        "colab": {
          "base_uri": "https://localhost:8080/"
        },
        "id": "Tctmpw0K5uJm",
        "outputId": "07c1b57d-bc2a-4ca5-a9ea-89911c2e8e9b"
      },
      "execution_count": 10,
      "outputs": [
        {
          "output_type": "stream",
          "name": "stdout",
          "text": [
            "Model: \"sequential\"\n",
            "_________________________________________________________________\n",
            " Layer (type)                Output Shape              Param #   \n",
            "=================================================================\n",
            " dense (Dense)               (None, 6)                 30        \n",
            "                                                                 \n",
            " dense_1 (Dense)             (None, 1)                 7         \n",
            "                                                                 \n",
            "=================================================================\n",
            "Total params: 37\n",
            "Trainable params: 37\n",
            "Non-trainable params: 0\n",
            "_________________________________________________________________\n"
          ]
        }
      ]
    },
    {
      "cell_type": "markdown",
      "source": [
        "# Train the model"
      ],
      "metadata": {
        "id": "5yGNoNv9BOz_"
      }
    },
    {
      "cell_type": "code",
      "source": [
        "_history = _model.fit(X_train, Y_train, epochs = 100)"
      ],
      "metadata": {
        "colab": {
          "base_uri": "https://localhost:8080/"
        },
        "id": "ExU9cpl__3yK",
        "outputId": "fe580419-867f-45b7-94a0-2510a3e9ee9f"
      },
      "execution_count": 11,
      "outputs": [
        {
          "output_type": "stream",
          "name": "stdout",
          "text": [
            "Epoch 1/100\n",
            "24/24 [==============================] - 1s 2ms/step - loss: 0.6923 - accuracy: 0.4596\n",
            "Epoch 2/100\n",
            "24/24 [==============================] - 0s 2ms/step - loss: 0.6903 - accuracy: 0.4766\n",
            "Epoch 3/100\n",
            "24/24 [==============================] - 0s 2ms/step - loss: 0.6884 - accuracy: 0.4844\n",
            "Epoch 4/100\n",
            "24/24 [==============================] - 0s 1ms/step - loss: 0.6850 - accuracy: 0.5586\n",
            "Epoch 5/100\n",
            "24/24 [==============================] - 0s 1ms/step - loss: 0.6819 - accuracy: 0.6471\n",
            "Epoch 6/100\n",
            "24/24 [==============================] - 0s 2ms/step - loss: 0.6778 - accuracy: 0.6914\n",
            "Epoch 7/100\n",
            "24/24 [==============================] - 0s 2ms/step - loss: 0.6727 - accuracy: 0.6680\n",
            "Epoch 8/100\n",
            "24/24 [==============================] - 0s 2ms/step - loss: 0.6671 - accuracy: 0.7591\n",
            "Epoch 9/100\n",
            "24/24 [==============================] - 0s 1ms/step - loss: 0.6615 - accuracy: 0.6940\n",
            "Epoch 10/100\n",
            "24/24 [==============================] - 0s 2ms/step - loss: 0.6546 - accuracy: 0.7643\n",
            "Epoch 11/100\n",
            "24/24 [==============================] - 0s 2ms/step - loss: 0.6470 - accuracy: 0.7630\n",
            "Epoch 12/100\n",
            "24/24 [==============================] - 0s 2ms/step - loss: 0.6396 - accuracy: 0.7812\n",
            "Epoch 13/100\n",
            "24/24 [==============================] - 0s 2ms/step - loss: 0.6322 - accuracy: 0.7747\n",
            "Epoch 14/100\n",
            "24/24 [==============================] - 0s 2ms/step - loss: 0.6264 - accuracy: 0.7721\n",
            "Epoch 15/100\n",
            "24/24 [==============================] - 0s 2ms/step - loss: 0.6191 - accuracy: 0.7747\n",
            "Epoch 16/100\n",
            "24/24 [==============================] - 0s 2ms/step - loss: 0.6136 - accuracy: 0.7786\n",
            "Epoch 17/100\n",
            "24/24 [==============================] - 0s 2ms/step - loss: 0.6082 - accuracy: 0.7773\n",
            "Epoch 18/100\n",
            "24/24 [==============================] - 0s 2ms/step - loss: 0.6040 - accuracy: 0.7826\n",
            "Epoch 19/100\n",
            "24/24 [==============================] - 0s 2ms/step - loss: 0.5996 - accuracy: 0.7786\n",
            "Epoch 20/100\n",
            "24/24 [==============================] - 0s 2ms/step - loss: 0.5948 - accuracy: 0.7799\n",
            "Epoch 21/100\n",
            "24/24 [==============================] - 0s 2ms/step - loss: 0.5900 - accuracy: 0.7799\n",
            "Epoch 22/100\n",
            "24/24 [==============================] - 0s 2ms/step - loss: 0.5872 - accuracy: 0.7760\n",
            "Epoch 23/100\n",
            "24/24 [==============================] - 0s 2ms/step - loss: 0.5843 - accuracy: 0.7786\n",
            "Epoch 24/100\n",
            "24/24 [==============================] - 0s 2ms/step - loss: 0.5798 - accuracy: 0.7799\n",
            "Epoch 25/100\n",
            "24/24 [==============================] - 0s 2ms/step - loss: 0.5766 - accuracy: 0.7799\n",
            "Epoch 26/100\n",
            "24/24 [==============================] - 0s 2ms/step - loss: 0.5741 - accuracy: 0.7812\n",
            "Epoch 27/100\n",
            "24/24 [==============================] - 0s 2ms/step - loss: 0.5727 - accuracy: 0.7786\n",
            "Epoch 28/100\n",
            "24/24 [==============================] - 0s 2ms/step - loss: 0.5687 - accuracy: 0.7799\n",
            "Epoch 29/100\n",
            "24/24 [==============================] - 0s 2ms/step - loss: 0.5658 - accuracy: 0.7786\n",
            "Epoch 30/100\n",
            "24/24 [==============================] - 0s 2ms/step - loss: 0.5634 - accuracy: 0.7799\n",
            "Epoch 31/100\n",
            "24/24 [==============================] - 0s 2ms/step - loss: 0.5609 - accuracy: 0.7799\n",
            "Epoch 32/100\n",
            "24/24 [==============================] - 0s 2ms/step - loss: 0.5596 - accuracy: 0.7799\n",
            "Epoch 33/100\n",
            "24/24 [==============================] - 0s 2ms/step - loss: 0.5569 - accuracy: 0.7799\n",
            "Epoch 34/100\n",
            "24/24 [==============================] - 0s 2ms/step - loss: 0.5541 - accuracy: 0.7826\n",
            "Epoch 35/100\n",
            "24/24 [==============================] - 0s 2ms/step - loss: 0.5531 - accuracy: 0.7786\n",
            "Epoch 36/100\n",
            "24/24 [==============================] - 0s 2ms/step - loss: 0.5510 - accuracy: 0.7865\n",
            "Epoch 37/100\n",
            "24/24 [==============================] - 0s 2ms/step - loss: 0.5497 - accuracy: 0.7839\n",
            "Epoch 38/100\n",
            "24/24 [==============================] - 0s 2ms/step - loss: 0.5465 - accuracy: 0.7799\n",
            "Epoch 39/100\n",
            "24/24 [==============================] - 0s 2ms/step - loss: 0.5453 - accuracy: 0.7799\n",
            "Epoch 40/100\n",
            "24/24 [==============================] - 0s 2ms/step - loss: 0.5439 - accuracy: 0.7812\n",
            "Epoch 41/100\n",
            "24/24 [==============================] - 0s 2ms/step - loss: 0.5416 - accuracy: 0.7878\n",
            "Epoch 42/100\n",
            "24/24 [==============================] - 0s 2ms/step - loss: 0.5390 - accuracy: 0.7839\n",
            "Epoch 43/100\n",
            "24/24 [==============================] - 0s 2ms/step - loss: 0.5377 - accuracy: 0.7878\n",
            "Epoch 44/100\n",
            "24/24 [==============================] - 0s 2ms/step - loss: 0.5376 - accuracy: 0.7852\n",
            "Epoch 45/100\n",
            "24/24 [==============================] - 0s 2ms/step - loss: 0.5354 - accuracy: 0.7812\n",
            "Epoch 46/100\n",
            "24/24 [==============================] - 0s 2ms/step - loss: 0.5351 - accuracy: 0.7865\n",
            "Epoch 47/100\n",
            "24/24 [==============================] - 0s 2ms/step - loss: 0.5334 - accuracy: 0.7826\n",
            "Epoch 48/100\n",
            "24/24 [==============================] - 0s 1ms/step - loss: 0.5323 - accuracy: 0.7865\n",
            "Epoch 49/100\n",
            "24/24 [==============================] - 0s 2ms/step - loss: 0.5292 - accuracy: 0.7878\n",
            "Epoch 50/100\n",
            "24/24 [==============================] - 0s 2ms/step - loss: 0.5314 - accuracy: 0.7878\n",
            "Epoch 51/100\n",
            "24/24 [==============================] - 0s 2ms/step - loss: 0.5266 - accuracy: 0.7904\n",
            "Epoch 52/100\n",
            "24/24 [==============================] - 0s 2ms/step - loss: 0.5260 - accuracy: 0.7865\n",
            "Epoch 53/100\n",
            "24/24 [==============================] - 0s 2ms/step - loss: 0.5240 - accuracy: 0.7865\n",
            "Epoch 54/100\n",
            "24/24 [==============================] - 0s 3ms/step - loss: 0.5234 - accuracy: 0.7878\n",
            "Epoch 55/100\n",
            "24/24 [==============================] - 0s 2ms/step - loss: 0.5251 - accuracy: 0.7839\n",
            "Epoch 56/100\n",
            "24/24 [==============================] - 0s 2ms/step - loss: 0.5263 - accuracy: 0.7878\n",
            "Epoch 57/100\n",
            "24/24 [==============================] - 0s 2ms/step - loss: 0.5199 - accuracy: 0.7852\n",
            "Epoch 58/100\n",
            "24/24 [==============================] - 0s 2ms/step - loss: 0.5193 - accuracy: 0.7852\n",
            "Epoch 59/100\n",
            "24/24 [==============================] - 0s 2ms/step - loss: 0.5183 - accuracy: 0.7852\n",
            "Epoch 60/100\n",
            "24/24 [==============================] - 0s 2ms/step - loss: 0.5172 - accuracy: 0.7826\n",
            "Epoch 61/100\n",
            "24/24 [==============================] - 0s 1ms/step - loss: 0.5159 - accuracy: 0.7878\n",
            "Epoch 62/100\n",
            "24/24 [==============================] - 0s 1ms/step - loss: 0.5155 - accuracy: 0.7852\n",
            "Epoch 63/100\n",
            "24/24 [==============================] - 0s 2ms/step - loss: 0.5152 - accuracy: 0.7812\n",
            "Epoch 64/100\n",
            "24/24 [==============================] - 0s 1ms/step - loss: 0.5126 - accuracy: 0.7852\n",
            "Epoch 65/100\n",
            "24/24 [==============================] - 0s 2ms/step - loss: 0.5128 - accuracy: 0.7839\n",
            "Epoch 66/100\n",
            "24/24 [==============================] - 0s 1ms/step - loss: 0.5124 - accuracy: 0.7865\n",
            "Epoch 67/100\n",
            "24/24 [==============================] - 0s 2ms/step - loss: 0.5123 - accuracy: 0.7812\n",
            "Epoch 68/100\n",
            "24/24 [==============================] - 0s 2ms/step - loss: 0.5098 - accuracy: 0.7852\n",
            "Epoch 69/100\n",
            "24/24 [==============================] - 0s 2ms/step - loss: 0.5093 - accuracy: 0.7865\n",
            "Epoch 70/100\n",
            "24/24 [==============================] - 0s 2ms/step - loss: 0.5083 - accuracy: 0.7852\n",
            "Epoch 71/100\n",
            "24/24 [==============================] - 0s 2ms/step - loss: 0.5084 - accuracy: 0.7826\n",
            "Epoch 72/100\n",
            "24/24 [==============================] - 0s 2ms/step - loss: 0.5070 - accuracy: 0.7839\n",
            "Epoch 73/100\n",
            "24/24 [==============================] - 0s 2ms/step - loss: 0.5061 - accuracy: 0.7878\n",
            "Epoch 74/100\n",
            "24/24 [==============================] - 0s 3ms/step - loss: 0.5052 - accuracy: 0.7852\n",
            "Epoch 75/100\n",
            "24/24 [==============================] - 0s 2ms/step - loss: 0.5046 - accuracy: 0.7852\n",
            "Epoch 76/100\n",
            "24/24 [==============================] - 0s 2ms/step - loss: 0.5055 - accuracy: 0.7839\n",
            "Epoch 77/100\n",
            "24/24 [==============================] - 0s 2ms/step - loss: 0.5073 - accuracy: 0.7891\n",
            "Epoch 78/100\n",
            "24/24 [==============================] - 0s 2ms/step - loss: 0.5026 - accuracy: 0.7865\n",
            "Epoch 79/100\n",
            "24/24 [==============================] - 0s 2ms/step - loss: 0.5025 - accuracy: 0.7839\n",
            "Epoch 80/100\n",
            "24/24 [==============================] - 0s 2ms/step - loss: 0.5016 - accuracy: 0.7812\n",
            "Epoch 81/100\n",
            "24/24 [==============================] - 0s 2ms/step - loss: 0.5026 - accuracy: 0.7852\n",
            "Epoch 82/100\n",
            "24/24 [==============================] - 0s 2ms/step - loss: 0.5039 - accuracy: 0.7839\n",
            "Epoch 83/100\n",
            "24/24 [==============================] - 0s 2ms/step - loss: 0.5001 - accuracy: 0.7878\n",
            "Epoch 84/100\n",
            "24/24 [==============================] - 0s 2ms/step - loss: 0.4998 - accuracy: 0.7826\n",
            "Epoch 85/100\n",
            "24/24 [==============================] - 0s 2ms/step - loss: 0.4991 - accuracy: 0.7904\n",
            "Epoch 86/100\n",
            "24/24 [==============================] - 0s 2ms/step - loss: 0.4981 - accuracy: 0.7852\n",
            "Epoch 87/100\n",
            "24/24 [==============================] - 0s 2ms/step - loss: 0.4976 - accuracy: 0.7826\n",
            "Epoch 88/100\n",
            "24/24 [==============================] - 0s 2ms/step - loss: 0.4974 - accuracy: 0.7878\n",
            "Epoch 89/100\n",
            "24/24 [==============================] - 0s 2ms/step - loss: 0.4967 - accuracy: 0.7865\n",
            "Epoch 90/100\n",
            "24/24 [==============================] - 0s 2ms/step - loss: 0.4974 - accuracy: 0.7878\n",
            "Epoch 91/100\n",
            "24/24 [==============================] - 0s 2ms/step - loss: 0.4966 - accuracy: 0.7786\n",
            "Epoch 92/100\n",
            "24/24 [==============================] - 0s 3ms/step - loss: 0.4962 - accuracy: 0.7904\n",
            "Epoch 93/100\n",
            "24/24 [==============================] - 0s 2ms/step - loss: 0.4956 - accuracy: 0.7865\n",
            "Epoch 94/100\n",
            "24/24 [==============================] - 0s 2ms/step - loss: 0.4957 - accuracy: 0.7878\n",
            "Epoch 95/100\n",
            "24/24 [==============================] - 0s 2ms/step - loss: 0.4942 - accuracy: 0.7878\n",
            "Epoch 96/100\n",
            "24/24 [==============================] - 0s 2ms/step - loss: 0.4942 - accuracy: 0.7852\n",
            "Epoch 97/100\n",
            "24/24 [==============================] - 0s 2ms/step - loss: 0.4928 - accuracy: 0.7865\n",
            "Epoch 98/100\n",
            "24/24 [==============================] - 0s 2ms/step - loss: 0.4924 - accuracy: 0.7852\n",
            "Epoch 99/100\n",
            "24/24 [==============================] - 0s 2ms/step - loss: 0.4936 - accuracy: 0.7839\n",
            "Epoch 100/100\n",
            "24/24 [==============================] - 0s 2ms/step - loss: 0.4927 - accuracy: 0.7865\n"
          ]
        }
      ]
    },
    {
      "cell_type": "code",
      "source": [
        "import matplotlib.pyplot as plt\n",
        "plt.plot(_history.history['accuracy'])\n",
        "plt.title('Training Accuracy')\n",
        "plt.ylabel('accuracy')\n",
        "plt.xlabel('epoch')\n",
        "plt.show()"
      ],
      "metadata": {
        "colab": {
          "base_uri": "https://localhost:8080/",
          "height": 295
        },
        "id": "2Re3cEHXBpGW",
        "outputId": "ceb4100a-dfde-41ae-c69b-1d003144c1b5"
      },
      "execution_count": 12,
      "outputs": [
        {
          "output_type": "display_data",
          "data": {
            "text/plain": [
              "<Figure size 432x288 with 1 Axes>"
            ],
            "image/png": "[encoded data removed]"
          },
          "metadata": {
            "needs_background": "light"
          }
        }
      ]
    },
    {
      "cell_type": "code",
      "source": [
        "import matplotlib.pyplot as plt\n",
        "plt.plot(_history.history['loss'])\n",
        "plt.title('Training Loss')\n",
        "plt.ylabel('loss')\n",
        "plt.xlabel('epoch')\n",
        "plt.show()"
      ],
      "metadata": {
        "colab": {
          "base_uri": "https://localhost:8080/",
          "height": 295
        },
        "id": "RM8vnMvXCsRY",
        "outputId": "9045843c-0f54-4e30-f8f6-fa91c101e239"
      },
      "execution_count": 13,
      "outputs": [
        {
          "output_type": "display_data",
          "data": {
            "text/plain": [
              "<Figure size 432x288 with 1 Axes>"
            ],
            "image/png": "[encoded data removed]"
          },
          "metadata": {
            "needs_background": "light"
          }
        }
      ]
    },
    {
      "cell_type": "markdown",
      "source": [
        "# Evaluate the ANN"
      ],
      "metadata": {
        "id": "xuzMtNE5BSP1"
      }
    },
    {
      "cell_type": "code",
      "source": [
        "_test_loss, _test_acc = _model.evaluate(X_test, Y_test)\n"
      ],
      "metadata": {
        "colab": {
          "base_uri": "https://localhost:8080/"
        },
        "id": "tVxYp4bHAMqF",
        "outputId": "d6e5fa59-3685-4307-85e8-3eaa76495dea"
      },
      "execution_count": 14,
      "outputs": [
        {
          "output_type": "stream",
          "name": "stdout",
          "text": [
            "7/7 [==============================] - 0s 3ms/step - loss: 0.4770 - accuracy: 0.7979\n"
          ]
        }
      ]
    },
    {
      "cell_type": "code",
      "source": [
        "Y_pred_ann = _model.predict(X_test)"
      ],
      "metadata": {
        "id": "V75FyeN390vn"
      },
      "execution_count": 26,
      "outputs": []
    }
  ]
}