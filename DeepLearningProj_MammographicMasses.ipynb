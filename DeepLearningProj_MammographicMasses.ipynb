{
  "nbformat": 4,
  "nbformat_minor": 0,
  "metadata": {
    "colab": {
      "name": "DeepLearningProj-MammographicMasses.ipynb",
      "provenance": [],
      "toc_visible": true,
      "mount_file_id": "https://github.com/DianaElena99/DataScience-Crashcourse/blob/main/DeepLearningProj_MammographicMasses.ipynb",
      "authorship_tag": "ABX9TyMXakLFlF0crckBE807p8jp",
      "include_colab_link": true
    },
    "kernelspec": {
      "name": "python3",
      "display_name": "Python 3"
    },
    "language_info": {
      "name": "python"
    }
  },
  "cells": [
    {
      "cell_type": "markdown",
      "metadata": {
        "id": "view-in-github",
        "colab_type": "text"
      },
      "source": [
        "<a href=\"https://colab.research.google.com/github/DianaElena99/DataScience-Crashcourse/blob/main/DeepLearningProj_MammographicMasses.ipynb\" target=\"_parent\"><img src=\"https://colab.research.google.com/assets/colab-badge.svg\" alt=\"Open In Colab\"/></a>"
      ]
    },
    {
      "cell_type": "markdown",
      "source": [
        "## Predict whether a mammogram mass is benign or malignant"
      ],
      "metadata": {
        "id": "vrthBK9xvNJ5"
      }
    },
    {
      "cell_type": "markdown",
      "source": [
        "Data set used for this project: https://archive.ics.uci.edu/ml/datasets/Mammographic+Mass\n",
        "\n",
        "This data contains 961 instances of masses detected in mammograms, and contains the following attributes:\n",
        "\n",
        "\n",
        "   1. BI-RADS assessment: 1 to 5 (ordinal)  \n",
        "   2. Age: patient's age in years (integer)\n",
        "   3. Shape: mass shape: round=1 oval=2 lobular=3 irregular=4 (nominal)\n",
        "   4. Margin: mass margin: circumscribed=1 microlobulated=2 obscured=3 ill-defined=4 spiculated=5 (nominal)\n",
        "   5. Density: mass density high=1 iso=2 low=3 fat-containing=4 (ordinal)\n",
        "   6. Severity: benign=0 or malignant=1 (binominal)\n",
        "\n",
        "   Missing Attribute Values: Yes\n",
        "    - BI-RADS assessment:    2\n",
        "    - Age:                   5\n",
        "    - Shape:                31\n",
        "    - Margin:               48\n",
        "    - Density:              76\n",
        "    - Severity:              0\n",
        "\n",
        "  Class Distribution: benign: 516; malignant: 445"
      ],
      "metadata": {
        "id": "2-FWmchHvRNm"
      }
    },
    {
      "cell_type": "markdown",
      "source": [
        "## 1. Data Preprocessing"
      ],
      "metadata": {
        "id": "bw-LtL-XxJKt"
      }
    },
    {
      "cell_type": "markdown",
      "source": [
        "Import the necessary libraries/packages"
      ],
      "metadata": {
        "id": "Wl1fpVJy3Wpd"
      }
    },
    {
      "cell_type": "code",
      "source": [
        "import pandas as pd\n",
        "import numpy as np\n",
        "from sklearn import preprocessing\n",
        "from sklearn.impute import SimpleImputer\n",
        "from sklearn.model_selection import train_test_split"
      ],
      "metadata": {
        "id": "RQH0YPYsvfQh"
      },
      "execution_count": 35,
      "outputs": []
    },
    {
      "cell_type": "markdown",
      "source": [
        "Import the data set using pandas"
      ],
      "metadata": {
        "id": "XoUvy7TWwzjg"
      }
    },
    {
      "cell_type": "code",
      "source": [
        "_dataset = pd.read_csv(\"mammographic_masses.data\")\n",
        "_dataset.size\n",
        "_dataset.head()"
      ],
      "metadata": {
        "colab": {
          "base_uri": "https://localhost:8080/",
          "height": 206
        },
        "id": "AMhudgpDw1GJ",
        "outputId": "fcb93a23-8f69-44b6-9632-abdd744931b1"
      },
      "execution_count": 36,
      "outputs": [
        {
          "output_type": "execute_result",
          "data": {
            "text/plain": [
              "   BI-Rads   Age  Shape  Margin  Density  Severity\n",
              "0      5.0  67.0    3.0     5.0      3.0         1\n",
              "1      4.0  43.0    1.0     1.0      NaN         1\n",
              "2      5.0  58.0    4.0     5.0      3.0         1\n",
              "3      4.0  28.0    1.0     1.0      3.0         0\n",
              "4      5.0  74.0    1.0     5.0      NaN         1"
            ],
            "text/html": [
              "\n",
              "  <div id=\"df-80fc7645-8255-46d5-baaf-0d1c026be379\">\n",
              "    <div class=\"colab-df-container\">\n",
              "      <div>\n",
              "<style scoped>\n",
              "    .dataframe tbody tr th:only-of-type {\n",
              "        vertical-align: middle;\n",
              "    }\n",
              "\n",
              "    .dataframe tbody tr th {\n",
              "        vertical-align: top;\n",
              "    }\n",
              "\n",
              "    .dataframe thead th {\n",
              "        text-align: right;\n",
              "    }\n",
              "</style>\n",
              "<table border=\"1\" class=\"dataframe\">\n",
              "  <thead>\n",
              "    <tr style=\"text-align: right;\">\n",
              "      <th></th>\n",
              "      <th>BI-Rads</th>\n",
              "      <th>Age</th>\n",
              "      <th>Shape</th>\n",
              "      <th>Margin</th>\n",
              "      <th>Density</th>\n",
              "      <th>Severity</th>\n",
              "    </tr>\n",
              "  </thead>\n",
              "  <tbody>\n",
              "    <tr>\n",
              "      <th>0</th>\n",
              "      <td>5.0</td>\n",
              "      <td>67.0</td>\n",
              "      <td>3.0</td>\n",
              "      <td>5.0</td>\n",
              "      <td>3.0</td>\n",
              "      <td>1</td>\n",
              "    </tr>\n",
              "    <tr>\n",
              "      <th>1</th>\n",
              "      <td>4.0</td>\n",
              "      <td>43.0</td>\n",
              "      <td>1.0</td>\n",
              "      <td>1.0</td>\n",
              "      <td>NaN</td>\n",
              "      <td>1</td>\n",
              "    </tr>\n",
              "    <tr>\n",
              "      <th>2</th>\n",
              "      <td>5.0</td>\n",
              "      <td>58.0</td>\n",
              "      <td>4.0</td>\n",
              "      <td>5.0</td>\n",
              "      <td>3.0</td>\n",
              "      <td>1</td>\n",
              "    </tr>\n",
              "    <tr>\n",
              "      <th>3</th>\n",
              "      <td>4.0</td>\n",
              "      <td>28.0</td>\n",
              "      <td>1.0</td>\n",
              "      <td>1.0</td>\n",
              "      <td>3.0</td>\n",
              "      <td>0</td>\n",
              "    </tr>\n",
              "    <tr>\n",
              "      <th>4</th>\n",
              "      <td>5.0</td>\n",
              "      <td>74.0</td>\n",
              "      <td>1.0</td>\n",
              "      <td>5.0</td>\n",
              "      <td>NaN</td>\n",
              "      <td>1</td>\n",
              "    </tr>\n",
              "  </tbody>\n",
              "</table>\n",
              "</div>\n",
              "      <button class=\"colab-df-convert\" onclick=\"convertToInteractive('df-80fc7645-8255-46d5-baaf-0d1c026be379')\"\n",
              "              title=\"Convert this dataframe to an interactive table.\"\n",
              "              style=\"display:none;\">\n",
              "        \n",
              "  <svg xmlns=\"http://www.w3.org/2000/svg\" height=\"24px\"viewBox=\"0 0 24 24\"\n",
              "       width=\"24px\">\n",
              "    <path d=\"M0 0h24v24H0V0z\" fill=\"none\"/>\n",
              "    <path d=\"M18.56 5.44l.94 2.06.94-2.06 2.06-.94-2.06-.94-.94-2.06-.94 2.06-2.06.94zm-11 1L8.5 8.5l.94-2.06 2.06-.94-2.06-.94L8.5 2.5l-.94 2.06-2.06.94zm10 10l.94 2.06.94-2.06 2.06-.94-2.06-.94-.94-2.06-.94 2.06-2.06.94z\"/><path d=\"M17.41 7.96l-1.37-1.37c-.4-.4-.92-.59-1.43-.59-.52 0-1.04.2-1.43.59L10.3 9.45l-7.72 7.72c-.78.78-.78 2.05 0 2.83L4 21.41c.39.39.9.59 1.41.59.51 0 1.02-.2 1.41-.59l7.78-7.78 2.81-2.81c.8-.78.8-2.07 0-2.86zM5.41 20L4 18.59l7.72-7.72 1.47 1.35L5.41 20z\"/>\n",
              "  </svg>\n",
              "      </button>\n",
              "      \n",
              "  <style>\n",
              "    .colab-df-container {\n",
              "      display:flex;\n",
              "      flex-wrap:wrap;\n",
              "      gap: 12px;\n",
              "    }\n",
              "\n",
              "    .colab-df-convert {\n",
              "      background-color: #E8F0FE;\n",
              "      border: none;\n",
              "      border-radius: 50%;\n",
              "      cursor: pointer;\n",
              "      display: none;\n",
              "      fill: #1967D2;\n",
              "      height: 32px;\n",
              "      padding: 0 0 0 0;\n",
              "      width: 32px;\n",
              "    }\n",
              "\n",
              "    .colab-df-convert:hover {\n",
              "      background-color: #E2EBFA;\n",
              "      box-shadow: 0px 1px 2px rgba(60, 64, 67, 0.3), 0px 1px 3px 1px rgba(60, 64, 67, 0.15);\n",
              "      fill: #174EA6;\n",
              "    }\n",
              "\n",
              "    [theme=dark] .colab-df-convert {\n",
              "      background-color: #3B4455;\n",
              "      fill: #D2E3FC;\n",
              "    }\n",
              "\n",
              "    [theme=dark] .colab-df-convert:hover {\n",
              "      background-color: #434B5C;\n",
              "      box-shadow: 0px 1px 3px 1px rgba(0, 0, 0, 0.15);\n",
              "      filter: drop-shadow(0px 1px 2px rgba(0, 0, 0, 0.3));\n",
              "      fill: #FFFFFF;\n",
              "    }\n",
              "  </style>\n",
              "\n",
              "      <script>\n",
              "        const buttonEl =\n",
              "          document.querySelector('#df-80fc7645-8255-46d5-baaf-0d1c026be379 button.colab-df-convert');\n",
              "        buttonEl.style.display =\n",
              "          google.colab.kernel.accessAllowed ? 'block' : 'none';\n",
              "\n",
              "        async function convertToInteractive(key) {\n",
              "          const element = document.querySelector('#df-80fc7645-8255-46d5-baaf-0d1c026be379');\n",
              "          const dataTable =\n",
              "            await google.colab.kernel.invokeFunction('convertToInteractive',\n",
              "                                                     [key], {});\n",
              "          if (!dataTable) return;\n",
              "\n",
              "          const docLinkHtml = 'Like what you see? Visit the ' +\n",
              "            '<a target=\"_blank\" href=https://colab.research.google.com/notebooks/data_table.ipynb>data table notebook</a>'\n",
              "            + ' to learn more about interactive tables.';\n",
              "          element.innerHTML = '';\n",
              "          dataTable['output_type'] = 'display_data';\n",
              "          await google.colab.output.renderOutput(dataTable, element);\n",
              "          const docLink = document.createElement('div');\n",
              "          docLink.innerHTML = docLinkHtml;\n",
              "          element.appendChild(docLink);\n",
              "        }\n",
              "      </script>\n",
              "    </div>\n",
              "  </div>\n",
              "  "
            ]
          },
          "metadata": {},
          "execution_count": 36
        }
      ]
    },
    {
      "cell_type": "markdown",
      "source": [
        "Deal with the missing values. For the age column, replace NaN with the mean value. For the other columns, since they are categorical data, use the mode(most frequent value)"
      ],
      "metadata": {
        "id": "il_A35fj3gb4"
      }
    },
    {
      "cell_type": "code",
      "source": [
        "_imputer_mean = SimpleImputer(missing_values=np.nan, strategy=\"mean\", add_indicator=True )\n",
        "_age_col = np.array(_dataset['Age']).reshape(-1,1)\n",
        "_imputer_mean.fit(_age_col)\n",
        "_age_preproc = _imputer_mean.transform(_age_col)\n",
        "\n",
        "_dataset['Age'] = _age_preproc\n"
      ],
      "metadata": {
        "colab": {
          "base_uri": "https://localhost:8080/",
          "height": 206
        },
        "id": "59fHYsBFxQYz",
        "outputId": "f6937f75-5faf-494a-d3c9-340dbd96d375"
      },
      "execution_count": 37,
      "outputs": [
        {
          "output_type": "execute_result",
          "data": {
            "text/plain": [
              "   BI-Rads   Age  Shape  Margin  Density  Severity\n",
              "0      5.0  67.0    3.0     5.0      3.0         1\n",
              "1      4.0  43.0    1.0     1.0      NaN         1\n",
              "2      5.0  58.0    4.0     5.0      3.0         1\n",
              "3      4.0  28.0    1.0     1.0      3.0         0\n",
              "4      5.0  74.0    1.0     5.0      NaN         1"
            ],
            "text/html": [
              "\n",
              "  <div id=\"df-43b3695e-99c7-468f-8388-4bac321e14de\">\n",
              "    <div class=\"colab-df-container\">\n",
              "      <div>\n",
              "<style scoped>\n",
              "    .dataframe tbody tr th:only-of-type {\n",
              "        vertical-align: middle;\n",
              "    }\n",
              "\n",
              "    .dataframe tbody tr th {\n",
              "        vertical-align: top;\n",
              "    }\n",
              "\n",
              "    .dataframe thead th {\n",
              "        text-align: right;\n",
              "    }\n",
              "</style>\n",
              "<table border=\"1\" class=\"dataframe\">\n",
              "  <thead>\n",
              "    <tr style=\"text-align: right;\">\n",
              "      <th></th>\n",
              "      <th>BI-Rads</th>\n",
              "      <th>Age</th>\n",
              "      <th>Shape</th>\n",
              "      <th>Margin</th>\n",
              "      <th>Density</th>\n",
              "      <th>Severity</th>\n",
              "    </tr>\n",
              "  </thead>\n",
              "  <tbody>\n",
              "    <tr>\n",
              "      <th>0</th>\n",
              "      <td>5.0</td>\n",
              "      <td>67.0</td>\n",
              "      <td>3.0</td>\n",
              "      <td>5.0</td>\n",
              "      <td>3.0</td>\n",
              "      <td>1</td>\n",
              "    </tr>\n",
              "    <tr>\n",
              "      <th>1</th>\n",
              "      <td>4.0</td>\n",
              "      <td>43.0</td>\n",
              "      <td>1.0</td>\n",
              "      <td>1.0</td>\n",
              "      <td>NaN</td>\n",
              "      <td>1</td>\n",
              "    </tr>\n",
              "    <tr>\n",
              "      <th>2</th>\n",
              "      <td>5.0</td>\n",
              "      <td>58.0</td>\n",
              "      <td>4.0</td>\n",
              "      <td>5.0</td>\n",
              "      <td>3.0</td>\n",
              "      <td>1</td>\n",
              "    </tr>\n",
              "    <tr>\n",
              "      <th>3</th>\n",
              "      <td>4.0</td>\n",
              "      <td>28.0</td>\n",
              "      <td>1.0</td>\n",
              "      <td>1.0</td>\n",
              "      <td>3.0</td>\n",
              "      <td>0</td>\n",
              "    </tr>\n",
              "    <tr>\n",
              "      <th>4</th>\n",
              "      <td>5.0</td>\n",
              "      <td>74.0</td>\n",
              "      <td>1.0</td>\n",
              "      <td>5.0</td>\n",
              "      <td>NaN</td>\n",
              "      <td>1</td>\n",
              "    </tr>\n",
              "  </tbody>\n",
              "</table>\n",
              "</div>\n",
              "      <button class=\"colab-df-convert\" onclick=\"convertToInteractive('df-43b3695e-99c7-468f-8388-4bac321e14de')\"\n",
              "              title=\"Convert this dataframe to an interactive table.\"\n",
              "              style=\"display:none;\">\n",
              "        \n",
              "  <svg xmlns=\"http://www.w3.org/2000/svg\" height=\"24px\"viewBox=\"0 0 24 24\"\n",
              "       width=\"24px\">\n",
              "    <path d=\"M0 0h24v24H0V0z\" fill=\"none\"/>\n",
              "    <path d=\"M18.56 5.44l.94 2.06.94-2.06 2.06-.94-2.06-.94-.94-2.06-.94 2.06-2.06.94zm-11 1L8.5 8.5l.94-2.06 2.06-.94-2.06-.94L8.5 2.5l-.94 2.06-2.06.94zm10 10l.94 2.06.94-2.06 2.06-.94-2.06-.94-.94-2.06-.94 2.06-2.06.94z\"/><path d=\"M17.41 7.96l-1.37-1.37c-.4-.4-.92-.59-1.43-.59-.52 0-1.04.2-1.43.59L10.3 9.45l-7.72 7.72c-.78.78-.78 2.05 0 2.83L4 21.41c.39.39.9.59 1.41.59.51 0 1.02-.2 1.41-.59l7.78-7.78 2.81-2.81c.8-.78.8-2.07 0-2.86zM5.41 20L4 18.59l7.72-7.72 1.47 1.35L5.41 20z\"/>\n",
              "  </svg>\n",
              "      </button>\n",
              "      \n",
              "  <style>\n",
              "    .colab-df-container {\n",
              "      display:flex;\n",
              "      flex-wrap:wrap;\n",
              "      gap: 12px;\n",
              "    }\n",
              "\n",
              "    .colab-df-convert {\n",
              "      background-color: #E8F0FE;\n",
              "      border: none;\n",
              "      border-radius: 50%;\n",
              "      cursor: pointer;\n",
              "      display: none;\n",
              "      fill: #1967D2;\n",
              "      height: 32px;\n",
              "      padding: 0 0 0 0;\n",
              "      width: 32px;\n",
              "    }\n",
              "\n",
              "    .colab-df-convert:hover {\n",
              "      background-color: #E2EBFA;\n",
              "      box-shadow: 0px 1px 2px rgba(60, 64, 67, 0.3), 0px 1px 3px 1px rgba(60, 64, 67, 0.15);\n",
              "      fill: #174EA6;\n",
              "    }\n",
              "\n",
              "    [theme=dark] .colab-df-convert {\n",
              "      background-color: #3B4455;\n",
              "      fill: #D2E3FC;\n",
              "    }\n",
              "\n",
              "    [theme=dark] .colab-df-convert:hover {\n",
              "      background-color: #434B5C;\n",
              "      box-shadow: 0px 1px 3px 1px rgba(0, 0, 0, 0.15);\n",
              "      filter: drop-shadow(0px 1px 2px rgba(0, 0, 0, 0.3));\n",
              "      fill: #FFFFFF;\n",
              "    }\n",
              "  </style>\n",
              "\n",
              "      <script>\n",
              "        const buttonEl =\n",
              "          document.querySelector('#df-43b3695e-99c7-468f-8388-4bac321e14de button.colab-df-convert');\n",
              "        buttonEl.style.display =\n",
              "          google.colab.kernel.accessAllowed ? 'block' : 'none';\n",
              "\n",
              "        async function convertToInteractive(key) {\n",
              "          const element = document.querySelector('#df-43b3695e-99c7-468f-8388-4bac321e14de');\n",
              "          const dataTable =\n",
              "            await google.colab.kernel.invokeFunction('convertToInteractive',\n",
              "                                                     [key], {});\n",
              "          if (!dataTable) return;\n",
              "\n",
              "          const docLinkHtml = 'Like what you see? Visit the ' +\n",
              "            '<a target=\"_blank\" href=https://colab.research.google.com/notebooks/data_table.ipynb>data table notebook</a>'\n",
              "            + ' to learn more about interactive tables.';\n",
              "          element.innerHTML = '';\n",
              "          dataTable['output_type'] = 'display_data';\n",
              "          await google.colab.output.renderOutput(dataTable, element);\n",
              "          const docLink = document.createElement('div');\n",
              "          docLink.innerHTML = docLinkHtml;\n",
              "          element.appendChild(docLink);\n",
              "        }\n",
              "      </script>\n",
              "    </div>\n",
              "  </div>\n",
              "  "
            ]
          },
          "metadata": {},
          "execution_count": 37
        }
      ]
    },
    {
      "cell_type": "code",
      "source": [
        "_imputer_mode = SimpleImputer(missing_values = np.nan , strategy=\"most_frequent\", add_indicator=True)\n",
        "\n",
        "_shape_col = np.array(_dataset['Shape']).reshape(-1,1)\n",
        "_imputer_mode.fit(_shape_col)\n",
        "_shape_preproc = _imputer_mode.transform(_shape_col)\n",
        "_dataset['Shape'] = _shape_preproc\n",
        "\n",
        "_margin_col = np.array(_dataset['Margin']).reshape(-1,1)\n",
        "_imputer_mode.fit(_margin_col)\n",
        "_margin_preproc = _imputer_mode.transform(_margin_col)\n",
        "_dataset['Margin'] = _margin_preproc\n",
        "\n",
        "_density_col = np.array(_dataset['Density']).reshape(-1,1)\n",
        "_imputer_mode.fit(_density_col)\n",
        "_density_preproc = _imputer_mode.transform(_density_col)\n",
        "_dataset['Density'] = _density_preproc\n",
        "\n",
        "_dataset.head()"
      ],
      "metadata": {
        "colab": {
          "base_uri": "https://localhost:8080/",
          "height": 206
        },
        "id": "iK25pxVE1MAT",
        "outputId": "be5c72be-0b8b-4c61-b06e-3bb965c7567b"
      },
      "execution_count": 38,
      "outputs": [
        {
          "output_type": "execute_result",
          "data": {
            "text/plain": [
              "   BI-Rads   Age  Shape  Margin  Density  Severity\n",
              "0      5.0  67.0    3.0     5.0      3.0         1\n",
              "1      4.0  43.0    1.0     1.0      3.0         1\n",
              "2      5.0  58.0    4.0     5.0      3.0         1\n",
              "3      4.0  28.0    1.0     1.0      3.0         0\n",
              "4      5.0  74.0    1.0     5.0      3.0         1"
            ],
            "text/html": [
              "\n",
              "  <div id=\"df-033b6ae7-cd89-43c6-8ebf-4fa24bd1394f\">\n",
              "    <div class=\"colab-df-container\">\n",
              "      <div>\n",
              "<style scoped>\n",
              "    .dataframe tbody tr th:only-of-type {\n",
              "        vertical-align: middle;\n",
              "    }\n",
              "\n",
              "    .dataframe tbody tr th {\n",
              "        vertical-align: top;\n",
              "    }\n",
              "\n",
              "    .dataframe thead th {\n",
              "        text-align: right;\n",
              "    }\n",
              "</style>\n",
              "<table border=\"1\" class=\"dataframe\">\n",
              "  <thead>\n",
              "    <tr style=\"text-align: right;\">\n",
              "      <th></th>\n",
              "      <th>BI-Rads</th>\n",
              "      <th>Age</th>\n",
              "      <th>Shape</th>\n",
              "      <th>Margin</th>\n",
              "      <th>Density</th>\n",
              "      <th>Severity</th>\n",
              "    </tr>\n",
              "  </thead>\n",
              "  <tbody>\n",
              "    <tr>\n",
              "      <th>0</th>\n",
              "      <td>5.0</td>\n",
              "      <td>67.0</td>\n",
              "      <td>3.0</td>\n",
              "      <td>5.0</td>\n",
              "      <td>3.0</td>\n",
              "      <td>1</td>\n",
              "    </tr>\n",
              "    <tr>\n",
              "      <th>1</th>\n",
              "      <td>4.0</td>\n",
              "      <td>43.0</td>\n",
              "      <td>1.0</td>\n",
              "      <td>1.0</td>\n",
              "      <td>3.0</td>\n",
              "      <td>1</td>\n",
              "    </tr>\n",
              "    <tr>\n",
              "      <th>2</th>\n",
              "      <td>5.0</td>\n",
              "      <td>58.0</td>\n",
              "      <td>4.0</td>\n",
              "      <td>5.0</td>\n",
              "      <td>3.0</td>\n",
              "      <td>1</td>\n",
              "    </tr>\n",
              "    <tr>\n",
              "      <th>3</th>\n",
              "      <td>4.0</td>\n",
              "      <td>28.0</td>\n",
              "      <td>1.0</td>\n",
              "      <td>1.0</td>\n",
              "      <td>3.0</td>\n",
              "      <td>0</td>\n",
              "    </tr>\n",
              "    <tr>\n",
              "      <th>4</th>\n",
              "      <td>5.0</td>\n",
              "      <td>74.0</td>\n",
              "      <td>1.0</td>\n",
              "      <td>5.0</td>\n",
              "      <td>3.0</td>\n",
              "      <td>1</td>\n",
              "    </tr>\n",
              "  </tbody>\n",
              "</table>\n",
              "</div>\n",
              "      <button class=\"colab-df-convert\" onclick=\"convertToInteractive('df-033b6ae7-cd89-43c6-8ebf-4fa24bd1394f')\"\n",
              "              title=\"Convert this dataframe to an interactive table.\"\n",
              "              style=\"display:none;\">\n",
              "        \n",
              "  <svg xmlns=\"http://www.w3.org/2000/svg\" height=\"24px\"viewBox=\"0 0 24 24\"\n",
              "       width=\"24px\">\n",
              "    <path d=\"M0 0h24v24H0V0z\" fill=\"none\"/>\n",
              "    <path d=\"M18.56 5.44l.94 2.06.94-2.06 2.06-.94-2.06-.94-.94-2.06-.94 2.06-2.06.94zm-11 1L8.5 8.5l.94-2.06 2.06-.94-2.06-.94L8.5 2.5l-.94 2.06-2.06.94zm10 10l.94 2.06.94-2.06 2.06-.94-2.06-.94-.94-2.06-.94 2.06-2.06.94z\"/><path d=\"M17.41 7.96l-1.37-1.37c-.4-.4-.92-.59-1.43-.59-.52 0-1.04.2-1.43.59L10.3 9.45l-7.72 7.72c-.78.78-.78 2.05 0 2.83L4 21.41c.39.39.9.59 1.41.59.51 0 1.02-.2 1.41-.59l7.78-7.78 2.81-2.81c.8-.78.8-2.07 0-2.86zM5.41 20L4 18.59l7.72-7.72 1.47 1.35L5.41 20z\"/>\n",
              "  </svg>\n",
              "      </button>\n",
              "      \n",
              "  <style>\n",
              "    .colab-df-container {\n",
              "      display:flex;\n",
              "      flex-wrap:wrap;\n",
              "      gap: 12px;\n",
              "    }\n",
              "\n",
              "    .colab-df-convert {\n",
              "      background-color: #E8F0FE;\n",
              "      border: none;\n",
              "      border-radius: 50%;\n",
              "      cursor: pointer;\n",
              "      display: none;\n",
              "      fill: #1967D2;\n",
              "      height: 32px;\n",
              "      padding: 0 0 0 0;\n",
              "      width: 32px;\n",
              "    }\n",
              "\n",
              "    .colab-df-convert:hover {\n",
              "      background-color: #E2EBFA;\n",
              "      box-shadow: 0px 1px 2px rgba(60, 64, 67, 0.3), 0px 1px 3px 1px rgba(60, 64, 67, 0.15);\n",
              "      fill: #174EA6;\n",
              "    }\n",
              "\n",
              "    [theme=dark] .colab-df-convert {\n",
              "      background-color: #3B4455;\n",
              "      fill: #D2E3FC;\n",
              "    }\n",
              "\n",
              "    [theme=dark] .colab-df-convert:hover {\n",
              "      background-color: #434B5C;\n",
              "      box-shadow: 0px 1px 3px 1px rgba(0, 0, 0, 0.15);\n",
              "      filter: drop-shadow(0px 1px 2px rgba(0, 0, 0, 0.3));\n",
              "      fill: #FFFFFF;\n",
              "    }\n",
              "  </style>\n",
              "\n",
              "      <script>\n",
              "        const buttonEl =\n",
              "          document.querySelector('#df-033b6ae7-cd89-43c6-8ebf-4fa24bd1394f button.colab-df-convert');\n",
              "        buttonEl.style.display =\n",
              "          google.colab.kernel.accessAllowed ? 'block' : 'none';\n",
              "\n",
              "        async function convertToInteractive(key) {\n",
              "          const element = document.querySelector('#df-033b6ae7-cd89-43c6-8ebf-4fa24bd1394f');\n",
              "          const dataTable =\n",
              "            await google.colab.kernel.invokeFunction('convertToInteractive',\n",
              "                                                     [key], {});\n",
              "          if (!dataTable) return;\n",
              "\n",
              "          const docLinkHtml = 'Like what you see? Visit the ' +\n",
              "            '<a target=\"_blank\" href=https://colab.research.google.com/notebooks/data_table.ipynb>data table notebook</a>'\n",
              "            + ' to learn more about interactive tables.';\n",
              "          element.innerHTML = '';\n",
              "          dataTable['output_type'] = 'display_data';\n",
              "          await google.colab.output.renderOutput(dataTable, element);\n",
              "          const docLink = document.createElement('div');\n",
              "          docLink.innerHTML = docLinkHtml;\n",
              "          element.appendChild(docLink);\n",
              "        }\n",
              "      </script>\n",
              "    </div>\n",
              "  </div>\n",
              "  "
            ]
          },
          "metadata": {},
          "execution_count": 38
        }
      ]
    },
    {
      "cell_type": "markdown",
      "source": [
        "# Split the dataset into train and test"
      ],
      "metadata": {
        "id": "KudvbMbM3vNe"
      }
    },
    {
      "cell_type": "code",
      "source": [
        "X = _dataset.iloc[: , 1:-1]\n",
        "Y = _dataset.iloc[:,-1]\n",
        "X_train, X_test, Y_train, Y_test = train_test_split(X, Y, test_size=0.2, random_state=42)\n",
        "\n",
        "_scaler = preprocessing.StandardScaler()\n",
        "_scaler.fit_transform(X_train[['Age', 'Shape', 'Density', 'Margin']])\n",
        "_scaler.fit_transform(X_test[['Age', 'Shape', 'Density', 'Margin']])"
      ],
      "metadata": {
        "id": "CFKKJ23931yu",
        "outputId": "27ff1f88-4c02-4889-816a-8625f83e40c7",
        "colab": {
          "base_uri": "https://localhost:8080/"
        }
      },
      "execution_count": 39,
      "outputs": [
        {
          "output_type": "execute_result",
          "data": {
            "text/plain": [
              "array([[ 0.52157359, -1.49111991,  0.3230796 , -1.1191299 ],\n",
              "       [-0.32999761,  0.93404422,  0.3230796 ,  0.16653719],\n",
              "       [-1.11060454,  0.93404422,  0.3230796 ,  0.16653719],\n",
              "       [-1.53639014, -1.49111991,  0.3230796 , -1.1191299 ],\n",
              "       [-1.39446161,  0.93404422,  0.3230796 , -0.47629636],\n",
              "       [-0.04614054,  0.93404422,  0.3230796 ,  0.16653719],\n",
              "       [-0.61385467, -1.49111991,  0.3230796 , -1.1191299 ],\n",
              "       [-0.11710481, -1.49111991,  0.3230796 , -1.1191299 ],\n",
              "       [ 0.23771652,  0.93404422,  0.3230796 ,  0.80937073],\n",
              "       [ 1.30218052,  0.93404422,  0.3230796 ,  0.16653719],\n",
              "       [ 0.66350212, -1.49111991,  0.3230796 , -1.1191299 ],\n",
              "       [ 1.23121626,  0.93404422,  0.3230796 ,  0.16653719],\n",
              "       [-0.82674747,  0.93404422,  0.3230796 ,  1.45220428],\n",
              "       [-0.54289041, -0.68273187,  0.3230796 , -1.1191299 ],\n",
              "       [ 0.09578799, -0.68273187,  0.3230796 , -0.47629636],\n",
              "       [-0.04614054, -1.49111991,  0.3230796 , -1.1191299 ],\n",
              "       [-0.61385467, -1.49111991, -2.38797963,  1.45220428],\n",
              "       [-1.25253307, -1.49111991,  0.3230796 , -1.1191299 ],\n",
              "       [-0.75578321, -0.68273187, -2.38797963, -1.1191299 ],\n",
              "       [ 1.23121626,  0.93404422,  0.3230796 ,  0.16653719],\n",
              "       [ 0.66350212,  0.93404422,  0.3230796 ,  0.80937073],\n",
              "       [-0.25903334,  0.93404422,  0.3230796 ,  0.80937073],\n",
              "       [ 0.66350212, -0.68273187,  0.3230796 ,  0.80937073],\n",
              "       [ 0.66350212,  0.93404422, -2.38797963,  0.80937073],\n",
              "       [ 0.02482372,  0.12565617,  0.3230796 ,  0.80937073],\n",
              "       [-0.89771174,  0.93404422,  0.3230796 ,  0.80937073],\n",
              "       [ 1.79893039,  0.93404422,  0.3230796 ,  0.16653719],\n",
              "       [ 0.09578799,  0.93404422,  0.3230796 , -0.47629636],\n",
              "       [ 1.79893039,  0.93404422,  0.3230796 ,  0.16653719],\n",
              "       [ 1.30218052, -0.68273187, -2.38797963, -1.1191299 ],\n",
              "       [ 0.80543066,  0.93404422,  0.3230796 ,  1.45220428],\n",
              "       [-1.46542587, -0.68273187,  0.3230796 , -1.1191299 ],\n",
              "       [-0.11710481, -1.49111991,  0.3230796 , -1.1191299 ],\n",
              "       [ 2.29568025,  0.93404422,  0.3230796 ,  1.45220428],\n",
              "       [ 1.79893039,  0.93404422,  0.3230796 ,  1.45220428],\n",
              "       [ 0.80543066,  0.93404422,  0.3230796 ,  1.45220428],\n",
              "       [ 0.30868079, -0.68273187,  0.3230796 ,  0.80937073],\n",
              "       [ 0.30868079, -0.68273187,  0.3230796 , -1.1191299 ],\n",
              "       [-0.04614054,  0.12565617,  0.3230796 ,  1.45220428],\n",
              "       [-0.75578321,  0.93404422, -5.09903886, -1.1191299 ],\n",
              "       [-0.40096188, -0.68273187,  0.3230796 , -0.47629636],\n",
              "       [ 0.02482372,  0.12565617, -2.38797963,  0.80937073],\n",
              "       [-1.89121147, -0.68273187,  0.3230796 , -1.1191299 ],\n",
              "       [-1.18156881,  0.93404422,  0.3230796 , -1.1191299 ],\n",
              "       [ 0.52157359, -0.68273187,  0.3230796 , -1.1191299 ],\n",
              "       [ 0.16675226, -0.68273187,  0.3230796 ,  0.80937073],\n",
              "       [-1.82024721, -1.49111991,  0.3230796 , -1.1191299 ],\n",
              "       [ 0.30868079,  0.93404422,  0.3230796 ,  0.80937073],\n",
              "       [ 1.37314479,  0.93404422,  0.3230796 ,  0.16653719],\n",
              "       [ 0.23771652,  0.93404422,  0.3230796 ,  1.45220428],\n",
              "       [-0.40096188, -1.49111991,  0.3230796 , -1.1191299 ],\n",
              "       [ 1.51507332,  0.93404422,  0.3230796 ,  0.80937073],\n",
              "       [-0.40096188, -1.49111991,  0.3230796 , -1.1191299 ],\n",
              "       [-0.61385467,  0.93404422,  0.3230796 ,  0.80937073],\n",
              "       [-0.40096188,  0.93404422,  0.3230796 ,  0.16653719],\n",
              "       [ 0.52157359,  0.12565617,  0.3230796 ,  0.16653719],\n",
              "       [ 0.87639492,  0.12565617,  0.3230796 ,  1.45220428],\n",
              "       [ 0.16675226, -1.49111991,  0.3230796 , -1.1191299 ],\n",
              "       [ 1.16025199, -1.49111991,  0.3230796 , -1.1191299 ],\n",
              "       [ 1.37314479, -1.49111991, -2.38797963, -1.1191299 ],\n",
              "       [-0.82674747, -1.49111991,  0.3230796 , -1.1191299 ],\n",
              "       [-0.89771174,  0.93404422,  0.3230796 ,  1.45220428],\n",
              "       [ 0.30868079,  0.93404422,  0.3230796 ,  0.80937073],\n",
              "       [-0.04614054, -1.49111991,  0.3230796 , -1.1191299 ],\n",
              "       [-0.61385467,  0.93404422,  0.3230796 ,  0.16653719],\n",
              "       [ 0.23771652,  0.93404422,  0.3230796 ,  0.80937073],\n",
              "       [ 0.16675226, -0.68273187,  0.3230796 , -1.1191299 ],\n",
              "       [-0.96867601,  0.93404422, -2.38797963,  0.16653719],\n",
              "       [ 0.87639492,  0.93404422,  0.3230796 ,  1.45220428],\n",
              "       [-1.03964027, -0.68273187,  0.3230796 , -1.1191299 ],\n",
              "       [-0.89771174,  0.12565617, -2.38797963,  0.80937073],\n",
              "       [-1.03964027, -1.49111991,  0.3230796 , -1.1191299 ],\n",
              "       [-0.18806908,  0.12565617,  0.3230796 ,  0.80937073],\n",
              "       [ 0.59253786,  0.12565617,  0.3230796 ,  0.80937073],\n",
              "       [ 1.72796612,  0.93404422,  0.3230796 ,  0.80937073],\n",
              "       [ 1.79893039,  0.93404422,  0.3230796 ,  0.80937073],\n",
              "       [ 0.59253786, -1.49111991,  0.3230796 , -1.1191299 ],\n",
              "       [-0.47192614,  0.93404422,  0.3230796 ,  0.80937073],\n",
              "       [ 0.80543066, -0.68273187,  0.3230796 , -1.1191299 ],\n",
              "       [ 0.02482372,  0.93404422,  0.3230796 ,  0.80937073],\n",
              "       [ 0.66350212,  0.93404422,  0.3230796 ,  0.80937073],\n",
              "       [-0.68481894, -0.68273187,  0.3230796 ,  0.80937073],\n",
              "       [-0.32999761,  0.93404422,  0.3230796 ,  0.80937073],\n",
              "       [-1.67831867, -0.68273187,  0.3230796 , -1.1191299 ],\n",
              "       [ 2.15375172,  0.93404422,  0.3230796 ,  0.16653719],\n",
              "       [ 0.73446639,  0.93404422,  0.3230796 ,  1.45220428],\n",
              "       [-0.25903334,  0.93404422,  0.3230796 ,  0.80937073],\n",
              "       [ 0.52157359,  0.93404422,  0.3230796 ,  0.80937073],\n",
              "       [-1.03964027, -1.49111991,  0.3230796 , -1.1191299 ],\n",
              "       [-0.32999761, -0.68273187,  0.3230796 , -1.1191299 ],\n",
              "       [ 2.22471599,  0.93404422,  0.3230796 ,  0.16653719],\n",
              "       [ 1.08928772,  0.93404422, -2.38797963, -0.47629636],\n",
              "       [-0.25903334,  0.93404422, -2.38797963,  0.80937073],\n",
              "       [ 1.58603759,  0.93404422,  0.3230796 ,  1.45220428],\n",
              "       [-0.61385467, -1.49111991,  0.3230796 , -1.1191299 ],\n",
              "       [ 0.30868079, -1.49111991,  0.3230796 ,  1.45220428],\n",
              "       [ 0.73446639,  0.12565617,  0.3230796 ,  0.16653719],\n",
              "       [-0.18806908,  0.93404422,  0.3230796 ,  1.45220428],\n",
              "       [ 0.73446639,  0.93404422,  0.3230796 ,  1.45220428],\n",
              "       [ 0.52157359,  0.12565617, -2.38797963,  1.45220428],\n",
              "       [-0.32999761,  0.93404422,  0.3230796 , -1.1191299 ],\n",
              "       [ 1.30218052,  0.12565617, -2.38797963, -1.1191299 ],\n",
              "       [-0.61385467,  0.93404422,  0.3230796 ,  1.45220428],\n",
              "       [-0.96867601, -1.49111991,  0.3230796 , -1.1191299 ],\n",
              "       [ 0.94735919,  0.93404422,  0.3230796 , -1.1191299 ],\n",
              "       [-1.46542587,  0.93404422,  0.3230796 ,  0.80937073],\n",
              "       [ 1.23121626,  0.93404422,  0.3230796 ,  1.45220428],\n",
              "       [ 0.66350212,  0.93404422,  0.3230796 ,  0.16653719],\n",
              "       [ 0.80543066,  0.93404422,  0.3230796 ,  0.80937073],\n",
              "       [-0.75578321,  0.93404422,  0.3230796 ,  1.45220428],\n",
              "       [ 0.37964506,  0.93404422,  0.3230796 ,  0.16653719],\n",
              "       [ 0.09578799,  0.93404422,  0.3230796 ,  0.80937073],\n",
              "       [-1.11060454, -1.49111991,  0.3230796 ,  0.16653719],\n",
              "       [ 0.30868079, -1.49111991,  0.3230796 , -1.1191299 ],\n",
              "       [ 0.94735919,  0.93404422,  0.3230796 ,  0.16653719],\n",
              "       [-0.32999761, -1.49111991,  0.3230796 , -1.1191299 ],\n",
              "       [-1.03964027, -0.68273187, -2.38797963,  0.80937073],\n",
              "       [-1.25253307, -0.68273187, -2.38797963, -1.1191299 ],\n",
              "       [ 0.59253786,  0.93404422,  0.3230796 ,  0.80937073],\n",
              "       [ 0.80543066,  0.93404422,  0.3230796 ,  0.16653719],\n",
              "       [-0.40096188,  0.93404422,  0.3230796 ,  0.80937073],\n",
              "       [ 0.66350212,  0.93404422,  0.3230796 ,  0.80937073],\n",
              "       [-0.18806908,  0.93404422,  0.3230796 ,  0.16653719],\n",
              "       [ 0.02482372,  0.93404422,  0.3230796 ,  0.80937073],\n",
              "       [-0.61385467, -0.68273187, -2.38797963, -1.1191299 ],\n",
              "       [ 0.73446639,  0.93404422,  0.3230796 ,  1.45220428],\n",
              "       [ 0.16675226, -0.68273187,  0.3230796 , -1.1191299 ],\n",
              "       [-0.40096188, -1.49111991,  0.3230796 , -1.1191299 ],\n",
              "       [ 2.01182319,  0.93404422, -2.38797963,  0.80937073],\n",
              "       [ 0.94735919,  0.93404422,  0.3230796 ,  0.80937073],\n",
              "       [-0.75578321, -0.68273187,  0.3230796 , -1.1191299 ],\n",
              "       [-0.11710481, -1.49111991,  0.3230796 , -1.1191299 ],\n",
              "       [-0.54289041,  0.93404422,  0.3230796 ,  0.80937073],\n",
              "       [-1.46542587,  0.93404422,  3.03413883, -1.1191299 ],\n",
              "       [-2.52988987,  0.12565617,  0.3230796 , -1.1191299 ],\n",
              "       [ 1.30218052, -0.68273187,  0.3230796 , -1.1191299 ],\n",
              "       [-0.68481894,  0.93404422,  0.3230796 ,  0.80937073],\n",
              "       [-1.96217574, -0.68273187,  0.3230796 , -1.1191299 ],\n",
              "       [-1.53639014, -1.49111991,  0.3230796 , -1.1191299 ],\n",
              "       [-0.54289041,  0.12565617,  0.3230796 , -1.1191299 ],\n",
              "       [-0.11710481,  0.93404422,  0.3230796 ,  1.45220428],\n",
              "       [-1.46542587, -0.68273187,  0.3230796 , -1.1191299 ],\n",
              "       [ 0.37964506,  0.12565617,  0.3230796 , -1.1191299 ],\n",
              "       [-0.11710481, -0.68273187,  0.3230796 , -1.1191299 ],\n",
              "       [ 0.30868079, -0.68273187,  0.3230796 , -1.1191299 ],\n",
              "       [ 0.73446639,  0.12565617,  0.3230796 ,  0.16653719],\n",
              "       [-0.75578321, -1.49111991,  0.3230796 ,  0.80937073],\n",
              "       [-0.75578321, -0.68273187,  0.3230796 , -1.1191299 ],\n",
              "       [ 0.73446639,  0.93404422,  0.3230796 ,  0.80937073],\n",
              "       [-1.46542587,  0.93404422, -2.38797963,  1.45220428],\n",
              "       [ 0.45060932,  0.93404422,  0.3230796 ,  0.80937073],\n",
              "       [ 0.02482372,  0.93404422,  0.3230796 ,  1.45220428],\n",
              "       [ 1.16025199,  0.93404422,  0.3230796 ,  0.80937073],\n",
              "       [ 0.80543066, -1.49111991,  0.3230796 , -1.1191299 ],\n",
              "       [ 0.02482372,  0.93404422,  0.3230796 , -1.1191299 ],\n",
              "       [-0.54289041, -0.68273187,  0.3230796 , -1.1191299 ],\n",
              "       [-1.53639014,  0.93404422,  0.3230796 ,  0.80937073],\n",
              "       [ 1.79893039,  0.93404422,  0.3230796 ,  0.80937073],\n",
              "       [-1.32349734, -0.68273187,  0.3230796 ,  0.16653719],\n",
              "       [ 0.37964506,  0.93404422, -2.38797963,  0.16653719],\n",
              "       [ 0.52157359,  0.12565617,  0.3230796 ,  0.16653719],\n",
              "       [-1.60735441, -1.49111991,  0.3230796 , -1.1191299 ],\n",
              "       [ 1.30218052,  0.93404422,  0.3230796 ,  1.45220428],\n",
              "       [-1.39446161, -0.68273187,  0.3230796 , -1.1191299 ],\n",
              "       [ 2.72146585, -1.49111991,  0.3230796 ,  1.45220428],\n",
              "       [ 0.45060932,  0.93404422,  0.3230796 ,  0.16653719],\n",
              "       [-0.82674747,  0.93404422,  0.3230796 ,  0.16653719],\n",
              "       [-2.10410427, -0.68273187,  0.3230796 , -1.1191299 ],\n",
              "       [ 0.02482372, -0.68273187,  0.3230796 , -1.1191299 ],\n",
              "       [ 0.02482372, -1.49111991,  0.3230796 , -1.1191299 ],\n",
              "       [-0.96867601, -0.68273187,  0.3230796 , -1.1191299 ],\n",
              "       [ 0.23771652, -1.49111991,  0.3230796 ,  1.45220428],\n",
              "       [-0.96867601, -0.68273187,  0.3230796 , -1.1191299 ],\n",
              "       [ 1.16025199,  0.93404422,  0.3230796 ,  0.16653719],\n",
              "       [-0.25903334, -0.68273187,  0.3230796 ,  0.80937073],\n",
              "       [-0.61385467, -1.49111991, -5.09903886, -1.1191299 ],\n",
              "       [ 1.16025199,  0.93404422,  0.3230796 ,  0.80937073],\n",
              "       [ 1.16025199, -1.49111991,  0.3230796 , -1.1191299 ],\n",
              "       [ 0.87639492,  0.93404422,  0.3230796 ,  1.45220428],\n",
              "       [ 0.30868079, -0.68273187,  0.3230796 , -1.1191299 ],\n",
              "       [-0.82674747, -0.68273187,  0.3230796 , -1.1191299 ],\n",
              "       [-2.2460328 , -1.49111991,  0.3230796 , -1.1191299 ],\n",
              "       [-0.47192614, -1.49111991,  0.3230796 , -1.1191299 ],\n",
              "       [-1.11060454, -1.49111991,  0.3230796 , -1.1191299 ],\n",
              "       [ 1.30218052,  0.93404422,  0.3230796 ,  1.45220428],\n",
              "       [-1.67831867, -0.68273187,  0.3230796 , -1.1191299 ],\n",
              "       [-0.18806908,  0.93404422,  0.3230796 ,  0.80937073],\n",
              "       [ 0.05941509,  0.93404422,  0.3230796 ,  0.16653719],\n",
              "       [-1.96217574, -0.68273187,  0.3230796 , -1.1191299 ],\n",
              "       [-1.11060454, -1.49111991, -2.38797963, -1.1191299 ],\n",
              "       [-0.04614054,  0.93404422,  0.3230796 ,  0.80937073],\n",
              "       [ 0.73446639, -0.68273187, -2.38797963,  0.16653719],\n",
              "       [ 0.23771652,  0.93404422,  0.3230796 ,  0.80937073]])"
            ]
          },
          "metadata": {},
          "execution_count": 39
        }
      ]
    },
    {
      "cell_type": "markdown",
      "source": [
        "# Logistic Regression Model"
      ],
      "metadata": {
        "id": "CSTfgPJh6Re7"
      }
    },
    {
      "cell_type": "markdown",
      "source": [
        "## Train the model"
      ],
      "metadata": {
        "id": "iUt-xHSIksHG"
      }
    },
    {
      "cell_type": "code",
      "source": [
        "from sklearn.linear_model import LogisticRegression\n",
        "\n",
        "_logistic_regressor = LogisticRegression().fit(X_train, Y_train)\n",
        "_logistic_regressor.score(X_train, Y_train)"
      ],
      "metadata": {
        "id": "5QGO0wkE6V-R",
        "outputId": "c85ff1fd-3afd-4034-b624-fc10173f5582",
        "colab": {
          "base_uri": "https://localhost:8080/"
        }
      },
      "execution_count": 40,
      "outputs": [
        {
          "output_type": "execute_result",
          "data": {
            "text/plain": [
              "0.7916666666666666"
            ]
          },
          "metadata": {},
          "execution_count": 40
        }
      ]
    },
    {
      "cell_type": "markdown",
      "source": [
        "## Evaluate the Logistic Regressor"
      ],
      "metadata": {
        "id": "BpZj55yAkwJN"
      }
    },
    {
      "cell_type": "code",
      "source": [
        "Y_pred_lr = _logistic_regressor.predict(X_test)\n",
        "_logistic_regressor.score(X_test, Y_test)"
      ],
      "metadata": {
        "id": "F89babcU80h3",
        "outputId": "e85e6722-725d-4bbc-871a-99ba102e3a3d",
        "colab": {
          "base_uri": "https://localhost:8080/"
        }
      },
      "execution_count": 41,
      "outputs": [
        {
          "output_type": "execute_result",
          "data": {
            "text/plain": [
              "0.8134715025906736"
            ]
          },
          "metadata": {},
          "execution_count": 41
        }
      ]
    },
    {
      "cell_type": "code",
      "source": [
        "from sklearn.metrics import ConfusionMatrixDisplay\n",
        "ConfusionMatrixDisplay.from_predictions(Y_test, Y_pred_lr)"
      ],
      "metadata": {
        "id": "puKiOnan87YA",
        "outputId": "8f8fb865-0be0-440d-d236-ac6be7fc8db0",
        "colab": {
          "base_uri": "https://localhost:8080/",
          "height": 300
        }
      },
      "execution_count": 42,
      "outputs": [
        {
          "output_type": "execute_result",
          "data": {
            "text/plain": [
              "<sklearn.metrics._plot.confusion_matrix.ConfusionMatrixDisplay at 0x7fc3db3d74d0>"
            ]
          },
          "metadata": {},
          "execution_count": 42
        },
        {
          "output_type": "display_data",
          "data": {
            "text/plain": [
              "<Figure size 432x288 with 2 Axes>"
            ],
            "image/png": "[encoded data removed]"
          },
          "metadata": {
            "needs_background": "light"
          }
        }
      ]
    },
    {
      "cell_type": "markdown",
      "source": [
        "# Random Forest Model"
      ],
      "metadata": {
        "id": "YdNkhCs_k34P"
      }
    },
    {
      "cell_type": "markdown",
      "source": [
        "## Train the model"
      ],
      "metadata": {
        "id": "wvj30nljnL7U"
      }
    },
    {
      "cell_type": "code",
      "source": [
        "from sklearn.ensemble import RandomForestClassifier\n",
        "\n",
        "_random_forest = RandomForestClassifier(criterion = \"entropy\", random_state=0)\n",
        "_random_forest.fit(X_train, Y_train)\n"
      ],
      "metadata": {
        "id": "6e4e3-Lak7it",
        "outputId": "47a652dc-8cb0-49f1-ae21-2686e991f116",
        "colab": {
          "base_uri": "https://localhost:8080/"
        }
      },
      "execution_count": 43,
      "outputs": [
        {
          "output_type": "execute_result",
          "data": {
            "text/plain": [
              "RandomForestClassifier(criterion='entropy', random_state=0)"
            ]
          },
          "metadata": {},
          "execution_count": 43
        }
      ]
    },
    {
      "cell_type": "markdown",
      "source": [
        "## Test the Random Forest"
      ],
      "metadata": {
        "id": "9GpIfbm-nO_0"
      }
    },
    {
      "cell_type": "code",
      "source": [
        "Y_pred_rf = _random_forest.predict(X_test)\n",
        "_random_forest.score(X_test, Y_test)"
      ],
      "metadata": {
        "id": "i4wLIRdHlpa2",
        "outputId": "6e79531b-d063-4285-9f0d-0ec2c18adef9",
        "colab": {
          "base_uri": "https://localhost:8080/"
        }
      },
      "execution_count": 44,
      "outputs": [
        {
          "output_type": "execute_result",
          "data": {
            "text/plain": [
              "0.7772020725388601"
            ]
          },
          "metadata": {},
          "execution_count": 44
        }
      ]
    },
    {
      "cell_type": "code",
      "source": [
        "from sklearn.metrics import ConfusionMatrixDisplay\n",
        "ConfusionMatrixDisplay.from_predictions(Y_test, Y_pred_rf)"
      ],
      "metadata": {
        "id": "3aubL5IQmBDN",
        "outputId": "67ea296d-cca0-4aa3-eff6-24ce9dd22fed",
        "colab": {
          "base_uri": "https://localhost:8080/",
          "height": 296
        }
      },
      "execution_count": 45,
      "outputs": [
        {
          "output_type": "execute_result",
          "data": {
            "text/plain": [
              "<sklearn.metrics._plot.confusion_matrix.ConfusionMatrixDisplay at 0x7fc3db373f50>"
            ]
          },
          "metadata": {},
          "execution_count": 45
        },
        {
          "output_type": "display_data",
          "data": {
            "text/plain": [
              "<Figure size 432x288 with 2 Axes>"
            ],
            "image/png": "[encoded data removed]"
          },
          "metadata": {
            "needs_background": "light"
          }
        }
      ]
    },
    {
      "cell_type": "markdown",
      "source": [
        "# Multi-Layer Perceptron"
      ],
      "metadata": {
        "id": "QwsmLnxx5qNy"
      }
    },
    {
      "cell_type": "code",
      "source": [
        "from tensorflow import keras \n",
        "import tensorflow as tf\n",
        "from keras.layers import Dense, Dropout\n",
        "from keras.models import Sequential\n",
        "\n",
        "_model = Sequential()\n",
        "_model.add(Dense(4, input_dim=4, activation='relu', kernel_initializer='normal' ))\n",
        "_model.add(Dense(100, activation='relu', kernel_initializer='normal' ))\n",
        "_model.add(Dense(50, activation='relu', kernel_initializer='normal' ))\n",
        "_model.add(Dense(1,kernel_initializer='normal', activation='sigmoid'))\n",
        "\n",
        "_model.compile(loss='binary_crossentropy', optimizer='adam', metrics=[\"accuracy\"])\n",
        "\n",
        "_model.summary()"
      ],
      "metadata": {
        "colab": {
          "base_uri": "https://localhost:8080/"
        },
        "id": "Tctmpw0K5uJm",
        "outputId": "1b419d20-e4e5-4e26-cf0b-ad0b47690f28"
      },
      "execution_count": 95,
      "outputs": [
        {
          "output_type": "stream",
          "name": "stdout",
          "text": [
            "Model: \"sequential_18\"\n",
            "_________________________________________________________________\n",
            " Layer (type)                Output Shape              Param #   \n",
            "=================================================================\n",
            " dense_52 (Dense)            (None, 4)                 20        \n",
            "                                                                 \n",
            " dense_53 (Dense)            (None, 100)               500       \n",
            "                                                                 \n",
            " dense_54 (Dense)            (None, 50)                5050      \n",
            "                                                                 \n",
            " dense_55 (Dense)            (None, 1)                 51        \n",
            "                                                                 \n",
            "=================================================================\n",
            "Total params: 5,621\n",
            "Trainable params: 5,621\n",
            "Non-trainable params: 0\n",
            "_________________________________________________________________\n"
          ]
        }
      ]
    },
    {
      "cell_type": "markdown",
      "source": [
        "## Train the model"
      ],
      "metadata": {
        "id": "5yGNoNv9BOz_"
      }
    },
    {
      "cell_type": "code",
      "source": [
        "_history = _model.fit(X_train, Y_train, epochs = 100)"
      ],
      "metadata": {
        "colab": {
          "base_uri": "https://localhost:8080/"
        },
        "id": "ExU9cpl__3yK",
        "outputId": "3add25d2-f9ac-4061-b7a7-bde572c7b39e"
      },
      "execution_count": 96,
      "outputs": [
        {
          "output_type": "stream",
          "name": "stdout",
          "text": [
            "Epoch 1/100\n",
            "24/24 [==============================] - 1s 2ms/step - loss: 0.6926 - accuracy: 0.5404\n",
            "Epoch 2/100\n",
            "24/24 [==============================] - 0s 3ms/step - loss: 0.6907 - accuracy: 0.6198\n",
            "Epoch 3/100\n",
            "24/24 [==============================] - 0s 3ms/step - loss: 0.6844 - accuracy: 0.6654\n",
            "Epoch 4/100\n",
            "24/24 [==============================] - 0s 2ms/step - loss: 0.6649 - accuracy: 0.7266\n",
            "Epoch 5/100\n",
            "24/24 [==============================] - 0s 2ms/step - loss: 0.6192 - accuracy: 0.7708\n",
            "Epoch 6/100\n",
            "24/24 [==============================] - 0s 2ms/step - loss: 0.5533 - accuracy: 0.7591\n",
            "Epoch 7/100\n",
            "24/24 [==============================] - 0s 2ms/step - loss: 0.5091 - accuracy: 0.7786\n",
            "Epoch 8/100\n",
            "24/24 [==============================] - 0s 2ms/step - loss: 0.5226 - accuracy: 0.7604\n",
            "Epoch 9/100\n",
            "24/24 [==============================] - 0s 3ms/step - loss: 0.4917 - accuracy: 0.7799\n",
            "Epoch 10/100\n",
            "24/24 [==============================] - 0s 2ms/step - loss: 0.4852 - accuracy: 0.7852\n",
            "Epoch 11/100\n",
            "24/24 [==============================] - 0s 2ms/step - loss: 0.4908 - accuracy: 0.7826\n",
            "Epoch 12/100\n",
            "24/24 [==============================] - 0s 3ms/step - loss: 0.4947 - accuracy: 0.7839\n",
            "Epoch 13/100\n",
            "24/24 [==============================] - 0s 2ms/step - loss: 0.4812 - accuracy: 0.7760\n",
            "Epoch 14/100\n",
            "24/24 [==============================] - 0s 2ms/step - loss: 0.4795 - accuracy: 0.7747\n",
            "Epoch 15/100\n",
            "24/24 [==============================] - 0s 3ms/step - loss: 0.4809 - accuracy: 0.7826\n",
            "Epoch 16/100\n",
            "24/24 [==============================] - 0s 2ms/step - loss: 0.4824 - accuracy: 0.7734\n",
            "Epoch 17/100\n",
            "24/24 [==============================] - 0s 3ms/step - loss: 0.4844 - accuracy: 0.7839\n",
            "Epoch 18/100\n",
            "24/24 [==============================] - 0s 2ms/step - loss: 0.4970 - accuracy: 0.7721\n",
            "Epoch 19/100\n",
            "24/24 [==============================] - 0s 2ms/step - loss: 0.4794 - accuracy: 0.7878\n",
            "Epoch 20/100\n",
            "24/24 [==============================] - 0s 2ms/step - loss: 0.4793 - accuracy: 0.7786\n",
            "Epoch 21/100\n",
            "24/24 [==============================] - 0s 2ms/step - loss: 0.4780 - accuracy: 0.7760\n",
            "Epoch 22/100\n",
            "24/24 [==============================] - 0s 2ms/step - loss: 0.4823 - accuracy: 0.7773\n",
            "Epoch 23/100\n",
            "24/24 [==============================] - 0s 2ms/step - loss: 0.4774 - accuracy: 0.7878\n",
            "Epoch 24/100\n",
            "24/24 [==============================] - 0s 2ms/step - loss: 0.4756 - accuracy: 0.7786\n",
            "Epoch 25/100\n",
            "24/24 [==============================] - 0s 3ms/step - loss: 0.4744 - accuracy: 0.7760\n",
            "Epoch 26/100\n",
            "24/24 [==============================] - 0s 2ms/step - loss: 0.4860 - accuracy: 0.7852\n",
            "Epoch 27/100\n",
            "24/24 [==============================] - 0s 2ms/step - loss: 0.4744 - accuracy: 0.7682\n",
            "Epoch 28/100\n",
            "24/24 [==============================] - 0s 2ms/step - loss: 0.4776 - accuracy: 0.7760\n",
            "Epoch 29/100\n",
            "24/24 [==============================] - 0s 2ms/step - loss: 0.4744 - accuracy: 0.7747\n",
            "Epoch 30/100\n",
            "24/24 [==============================] - 0s 2ms/step - loss: 0.4707 - accuracy: 0.7760\n",
            "Epoch 31/100\n",
            "24/24 [==============================] - 0s 2ms/step - loss: 0.4845 - accuracy: 0.7682\n",
            "Epoch 32/100\n",
            "24/24 [==============================] - 0s 2ms/step - loss: 0.4883 - accuracy: 0.7734\n",
            "Epoch 33/100\n",
            "24/24 [==============================] - 0s 2ms/step - loss: 0.4827 - accuracy: 0.7760\n",
            "Epoch 34/100\n",
            "24/24 [==============================] - 0s 2ms/step - loss: 0.4752 - accuracy: 0.7734\n",
            "Epoch 35/100\n",
            "24/24 [==============================] - 0s 2ms/step - loss: 0.4722 - accuracy: 0.7773\n",
            "Epoch 36/100\n",
            "24/24 [==============================] - 0s 2ms/step - loss: 0.4775 - accuracy: 0.7839\n",
            "Epoch 37/100\n",
            "24/24 [==============================] - 0s 2ms/step - loss: 0.4768 - accuracy: 0.7695\n",
            "Epoch 38/100\n",
            "24/24 [==============================] - 0s 2ms/step - loss: 0.4797 - accuracy: 0.7695\n",
            "Epoch 39/100\n",
            "24/24 [==============================] - 0s 2ms/step - loss: 0.4767 - accuracy: 0.7799\n",
            "Epoch 40/100\n",
            "24/24 [==============================] - 0s 2ms/step - loss: 0.4771 - accuracy: 0.7760\n",
            "Epoch 41/100\n",
            "24/24 [==============================] - 0s 2ms/step - loss: 0.4718 - accuracy: 0.7786\n",
            "Epoch 42/100\n",
            "24/24 [==============================] - 0s 2ms/step - loss: 0.4809 - accuracy: 0.7799\n",
            "Epoch 43/100\n",
            "24/24 [==============================] - 0s 2ms/step - loss: 0.4757 - accuracy: 0.7721\n",
            "Epoch 44/100\n",
            "24/24 [==============================] - 0s 2ms/step - loss: 0.4797 - accuracy: 0.7852\n",
            "Epoch 45/100\n",
            "24/24 [==============================] - 0s 2ms/step - loss: 0.4752 - accuracy: 0.7839\n",
            "Epoch 46/100\n",
            "24/24 [==============================] - 0s 2ms/step - loss: 0.4840 - accuracy: 0.7826\n",
            "Epoch 47/100\n",
            "24/24 [==============================] - 0s 2ms/step - loss: 0.4764 - accuracy: 0.7812\n",
            "Epoch 48/100\n",
            "24/24 [==============================] - 0s 2ms/step - loss: 0.4731 - accuracy: 0.7747\n",
            "Epoch 49/100\n",
            "24/24 [==============================] - 0s 2ms/step - loss: 0.4859 - accuracy: 0.7734\n",
            "Epoch 50/100\n",
            "24/24 [==============================] - 0s 2ms/step - loss: 0.4826 - accuracy: 0.7812\n",
            "Epoch 51/100\n",
            "24/24 [==============================] - 0s 2ms/step - loss: 0.4799 - accuracy: 0.7812\n",
            "Epoch 52/100\n",
            "24/24 [==============================] - 0s 2ms/step - loss: 0.4731 - accuracy: 0.7734\n",
            "Epoch 53/100\n",
            "24/24 [==============================] - 0s 2ms/step - loss: 0.4736 - accuracy: 0.7760\n",
            "Epoch 54/100\n",
            "24/24 [==============================] - 0s 2ms/step - loss: 0.4724 - accuracy: 0.7747\n",
            "Epoch 55/100\n",
            "24/24 [==============================] - 0s 2ms/step - loss: 0.4738 - accuracy: 0.7839\n",
            "Epoch 56/100\n",
            "24/24 [==============================] - 0s 2ms/step - loss: 0.4748 - accuracy: 0.7865\n",
            "Epoch 57/100\n",
            "24/24 [==============================] - 0s 2ms/step - loss: 0.4759 - accuracy: 0.7734\n",
            "Epoch 58/100\n",
            "24/24 [==============================] - 0s 2ms/step - loss: 0.4848 - accuracy: 0.7747\n",
            "Epoch 59/100\n",
            "24/24 [==============================] - 0s 2ms/step - loss: 0.4760 - accuracy: 0.7773\n",
            "Epoch 60/100\n",
            "24/24 [==============================] - 0s 2ms/step - loss: 0.4783 - accuracy: 0.7773\n",
            "Epoch 61/100\n",
            "24/24 [==============================] - 0s 2ms/step - loss: 0.4774 - accuracy: 0.7799\n",
            "Epoch 62/100\n",
            "24/24 [==============================] - 0s 2ms/step - loss: 0.4753 - accuracy: 0.7878\n",
            "Epoch 63/100\n",
            "24/24 [==============================] - 0s 2ms/step - loss: 0.4739 - accuracy: 0.7747\n",
            "Epoch 64/100\n",
            "24/24 [==============================] - 0s 2ms/step - loss: 0.4762 - accuracy: 0.7812\n",
            "Epoch 65/100\n",
            "24/24 [==============================] - 0s 2ms/step - loss: 0.4717 - accuracy: 0.7734\n",
            "Epoch 66/100\n",
            "24/24 [==============================] - 0s 2ms/step - loss: 0.4732 - accuracy: 0.7760\n",
            "Epoch 67/100\n",
            "24/24 [==============================] - 0s 2ms/step - loss: 0.4722 - accuracy: 0.7708\n",
            "Epoch 68/100\n",
            "24/24 [==============================] - 0s 2ms/step - loss: 0.4772 - accuracy: 0.7747\n",
            "Epoch 69/100\n",
            "24/24 [==============================] - 0s 2ms/step - loss: 0.4712 - accuracy: 0.7734\n",
            "Epoch 70/100\n",
            "24/24 [==============================] - 0s 2ms/step - loss: 0.4752 - accuracy: 0.7721\n",
            "Epoch 71/100\n",
            "24/24 [==============================] - 0s 3ms/step - loss: 0.4704 - accuracy: 0.7799\n",
            "Epoch 72/100\n",
            "24/24 [==============================] - 0s 2ms/step - loss: 0.4730 - accuracy: 0.7708\n",
            "Epoch 73/100\n",
            "24/24 [==============================] - 0s 2ms/step - loss: 0.4739 - accuracy: 0.7773\n",
            "Epoch 74/100\n",
            "24/24 [==============================] - 0s 2ms/step - loss: 0.4695 - accuracy: 0.7773\n",
            "Epoch 75/100\n",
            "24/24 [==============================] - 0s 2ms/step - loss: 0.4731 - accuracy: 0.7839\n",
            "Epoch 76/100\n",
            "24/24 [==============================] - 0s 2ms/step - loss: 0.4739 - accuracy: 0.7786\n",
            "Epoch 77/100\n",
            "24/24 [==============================] - 0s 2ms/step - loss: 0.4720 - accuracy: 0.7852\n",
            "Epoch 78/100\n",
            "24/24 [==============================] - 0s 2ms/step - loss: 0.4697 - accuracy: 0.7786\n",
            "Epoch 79/100\n",
            "24/24 [==============================] - 0s 2ms/step - loss: 0.4692 - accuracy: 0.7786\n",
            "Epoch 80/100\n",
            "24/24 [==============================] - 0s 2ms/step - loss: 0.4727 - accuracy: 0.7708\n",
            "Epoch 81/100\n",
            "24/24 [==============================] - 0s 2ms/step - loss: 0.4735 - accuracy: 0.7878\n",
            "Epoch 82/100\n",
            "24/24 [==============================] - 0s 2ms/step - loss: 0.4766 - accuracy: 0.7604\n",
            "Epoch 83/100\n",
            "24/24 [==============================] - 0s 2ms/step - loss: 0.4740 - accuracy: 0.7734\n",
            "Epoch 84/100\n",
            "24/24 [==============================] - 0s 2ms/step - loss: 0.4804 - accuracy: 0.7734\n",
            "Epoch 85/100\n",
            "24/24 [==============================] - 0s 2ms/step - loss: 0.4765 - accuracy: 0.7760\n",
            "Epoch 86/100\n",
            "24/24 [==============================] - 0s 2ms/step - loss: 0.4738 - accuracy: 0.7786\n",
            "Epoch 87/100\n",
            "24/24 [==============================] - 0s 2ms/step - loss: 0.4711 - accuracy: 0.7773\n",
            "Epoch 88/100\n",
            "24/24 [==============================] - 0s 2ms/step - loss: 0.4684 - accuracy: 0.7760\n",
            "Epoch 89/100\n",
            "24/24 [==============================] - 0s 3ms/step - loss: 0.4837 - accuracy: 0.7839\n",
            "Epoch 90/100\n",
            "24/24 [==============================] - 0s 3ms/step - loss: 0.4666 - accuracy: 0.7865\n",
            "Epoch 91/100\n",
            "24/24 [==============================] - 0s 2ms/step - loss: 0.4851 - accuracy: 0.7747\n",
            "Epoch 92/100\n",
            "24/24 [==============================] - 0s 2ms/step - loss: 0.4767 - accuracy: 0.7786\n",
            "Epoch 93/100\n",
            "24/24 [==============================] - 0s 2ms/step - loss: 0.4724 - accuracy: 0.7747\n",
            "Epoch 94/100\n",
            "24/24 [==============================] - 0s 2ms/step - loss: 0.4692 - accuracy: 0.7839\n",
            "Epoch 95/100\n",
            "24/24 [==============================] - 0s 2ms/step - loss: 0.4783 - accuracy: 0.7812\n",
            "Epoch 96/100\n",
            "24/24 [==============================] - 0s 2ms/step - loss: 0.4870 - accuracy: 0.7760\n",
            "Epoch 97/100\n",
            "24/24 [==============================] - 0s 2ms/step - loss: 0.4723 - accuracy: 0.7760\n",
            "Epoch 98/100\n",
            "24/24 [==============================] - 0s 2ms/step - loss: 0.4687 - accuracy: 0.7760\n",
            "Epoch 99/100\n",
            "24/24 [==============================] - 0s 2ms/step - loss: 0.4740 - accuracy: 0.7812\n",
            "Epoch 100/100\n",
            "24/24 [==============================] - 0s 2ms/step - loss: 0.4704 - accuracy: 0.7747\n"
          ]
        }
      ]
    },
    {
      "cell_type": "code",
      "source": [
        "import matplotlib.pyplot as plt\n",
        "plt.plot(_history.history['accuracy'])\n",
        "plt.title('Training Accuracy')\n",
        "plt.ylabel('accuracy')\n",
        "plt.xlabel('epoch')\n",
        "plt.show()"
      ],
      "metadata": {
        "colab": {
          "base_uri": "https://localhost:8080/",
          "height": 295
        },
        "id": "2Re3cEHXBpGW",
        "outputId": "8aeba194-4cac-4fe2-d4cf-093d7e14ab3c"
      },
      "execution_count": 97,
      "outputs": [
        {
          "output_type": "display_data",
          "data": {
            "text/plain": [
              "<Figure size 432x288 with 1 Axes>"
            ],
            "image/png": "[encoded data removed]"
          },
          "metadata": {
            "needs_background": "light"
          }
        }
      ]
    },
    {
      "cell_type": "code",
      "source": [
        "import matplotlib.pyplot as plt\n",
        "plt.plot(_history.history['loss'])\n",
        "plt.title('Training Loss')\n",
        "plt.ylabel('loss')\n",
        "plt.xlabel('epoch')\n",
        "plt.show()"
      ],
      "metadata": {
        "colab": {
          "base_uri": "https://localhost:8080/",
          "height": 295
        },
        "id": "RM8vnMvXCsRY",
        "outputId": "cf97c0d6-e663-4477-bcf2-f56c5a8e4942"
      },
      "execution_count": 98,
      "outputs": [
        {
          "output_type": "display_data",
          "data": {
            "text/plain": [
              "<Figure size 432x288 with 1 Axes>"
            ],
            "image/png": "[encoded data removed]"
          },
          "metadata": {
            "needs_background": "light"
          }
        }
      ]
    },
    {
      "cell_type": "markdown",
      "source": [
        "## Evaluate the ANN"
      ],
      "metadata": {
        "id": "xuzMtNE5BSP1"
      }
    },
    {
      "cell_type": "code",
      "source": [
        "_test_loss, _test_acc = _model.evaluate(X_test, Y_test)\n"
      ],
      "metadata": {
        "colab": {
          "base_uri": "https://localhost:8080/"
        },
        "id": "tVxYp4bHAMqF",
        "outputId": "a28ef1c2-605c-4edc-aa38-c02f8661102f"
      },
      "execution_count": 99,
      "outputs": [
        {
          "output_type": "stream",
          "name": "stdout",
          "text": [
            "7/7 [==============================] - 0s 3ms/step - loss: 0.4332 - accuracy: 0.7979\n"
          ]
        }
      ]
    },
    {
      "cell_type": "code",
      "source": [
        "Y_pred_ann = _model.predict(X_test)\n",
        "Y_pred_ann"
      ],
      "metadata": {
        "id": "V75FyeN390vn",
        "outputId": "8f125300-2b2d-4a2b-98af-af0165075d04",
        "colab": {
          "base_uri": "https://localhost:8080/"
        }
      },
      "execution_count": 100,
      "outputs": [
        {
          "output_type": "execute_result",
          "data": {
            "text/plain": [
              "array([[0.15290013],\n",
              "       [0.6405094 ],\n",
              "       [0.49589825],\n",
              "       [0.04073986],\n",
              "       [0.3579823 ],\n",
              "       [0.6885974 ],\n",
              "       [0.07931262],\n",
              "       [0.10682508],\n",
              "       [0.75986   ],\n",
              "       [0.8400303 ],\n",
              "       [0.16512531],\n",
              "       [0.8343658 ],\n",
              "       [0.61875874],\n",
              "       [0.13624755],\n",
              "       [0.32604456],\n",
              "       [0.11126727],\n",
              "       [0.54642487],\n",
              "       [0.05052301],\n",
              "       [0.19599652],\n",
              "       [0.8343658 ],\n",
              "       [0.813953  ],\n",
              "       [0.68436885],\n",
              "       [0.71661234],\n",
              "       [0.8189527 ],\n",
              "       [0.6953915 ],\n",
              "       [0.5714908 ],\n",
              "       [0.875381  ],\n",
              "       [0.57665944],\n",
              "       [0.875381  ],\n",
              "       [0.47306004],\n",
              "       [0.8489319 ],\n",
              "       [0.07755089],\n",
              "       [0.10682508],\n",
              "       [0.9172895 ],\n",
              "       [0.9007952 ],\n",
              "       [0.8489319 ],\n",
              "       [0.67258537],\n",
              "       [0.21448976],\n",
              "       [0.7137766 ],\n",
              "       [0.5089037 ],\n",
              "       [0.25994992],\n",
              "       [0.7024125 ],\n",
              "       [0.05655599],\n",
              "       [0.23938134],\n",
              "       [0.23850626],\n",
              "       [0.654024  ],\n",
              "       [0.03343272],\n",
              "       [0.76957464],\n",
              "       [0.84553695],\n",
              "       [0.7848674 ],\n",
              "       [0.0905858 ],\n",
              "       [0.8825191 ],\n",
              "       [0.0905858 ],\n",
              "       [0.62338257],\n",
              "       [0.627984  ],\n",
              "       [0.66852564],\n",
              "       [0.834212  ],\n",
              "       [0.12557364],\n",
              "       [0.21408466],\n",
              "       [0.35645133],\n",
              "       [0.068847  ],\n",
              "       [0.60594165],\n",
              "       [0.76957464],\n",
              "       [0.11126727],\n",
              "       [0.5894234 ],\n",
              "       [0.75986   ],\n",
              "       [0.19948307],\n",
              "       [0.5311981 ],\n",
              "       [0.8557273 ],\n",
              "       [0.1025393 ],\n",
              "       [0.5391278 ],\n",
              "       [0.05927974],\n",
              "       [0.66003543],\n",
              "       [0.77858436],\n",
              "       [0.89111793],\n",
              "       [0.893859  ],\n",
              "       [0.15891746],\n",
              "       [0.64838034],\n",
              "       [0.27329427],\n",
              "       [0.72907144],\n",
              "       [0.813953  ],\n",
              "       [0.5302115 ],\n",
              "       [0.6725904 ],\n",
              "       [0.06628534],\n",
              "       [0.8948031 ],\n",
              "       [0.84187555],\n",
              "       [0.68436885],\n",
              "       [0.79704165],\n",
              "       [0.05927974],\n",
              "       [0.15321198],\n",
              "       [0.89725006],\n",
              "       [0.80371916],\n",
              "       [0.6915312 ],\n",
              "       [0.8928688 ],\n",
              "       [0.07931262],\n",
              "       [0.70158386],\n",
              "       [0.69555396],\n",
              "       [0.7251731 ],\n",
              "       [0.84187555],\n",
              "       [0.7988545 ],\n",
              "       [0.3526678 ],\n",
              "       [0.5967317 ],\n",
              "       [0.6561714 ],\n",
              "       [0.06250232],\n",
              "       [0.5411664 ],\n",
              "       [0.46404934],\n",
              "       [0.8784187 ],\n",
              "       [0.78319466],\n",
              "       [0.8297562 ],\n",
              "       [0.63141257],\n",
              "       [0.75353605],\n",
              "       [0.7396047 ],\n",
              "       [0.20660153],\n",
              "       [0.1359646 ],\n",
              "       [0.81009626],\n",
              "       [0.09442398],\n",
              "       [0.47112364],\n",
              "       [0.15038231],\n",
              "       [0.8056369 ],\n",
              "       [0.79697734],\n",
              "       [0.66059023],\n",
              "       [0.813953  ],\n",
              "       [0.6649814 ],\n",
              "       [0.72907144],\n",
              "       [0.21081004],\n",
              "       [0.84187555],\n",
              "       [0.19948307],\n",
              "       [0.09058574],\n",
              "       [0.9032737 ],\n",
              "       [0.8444735 ],\n",
              "       [0.12089321],\n",
              "       [0.10682508],\n",
              "       [0.6359732 ],\n",
              "       [0.1288147 ],\n",
              "       [0.0636076 ],\n",
              "       [0.3412175 ],\n",
              "       [0.61062306],\n",
              "       [0.05362239],\n",
              "       [0.04073986],\n",
              "       [0.2148954 ],\n",
              "       [0.7358031 ],\n",
              "       [0.07755089],\n",
              "       [0.3315472 ],\n",
              "       [0.17186847],\n",
              "       [0.21448976],\n",
              "       [0.69555396],\n",
              "       [0.3994484 ],\n",
              "       [0.12089321],\n",
              "       [0.8219919 ],\n",
              "       [0.5079147 ],\n",
              "       [0.78816634],\n",
              "       [0.7562567 ],\n",
              "       [0.8645835 ],\n",
              "       [0.17812249],\n",
              "       [0.4064428 ],\n",
              "       [0.13624755],\n",
              "       [0.45064873],\n",
              "       [0.893859  ],\n",
              "       [0.28260604],\n",
              "       [0.75968003],\n",
              "       [0.66852564],\n",
              "       [0.03859311],\n",
              "       [0.88143694],\n",
              "       [0.08145911],\n",
              "       [0.9037455 ],\n",
              "       [0.76127654],\n",
              "       [0.5497317 ],\n",
              "       [0.04820836],\n",
              "       [0.18527862],\n",
              "       [0.11587024],\n",
              "       [0.1070548 ],\n",
              "       [0.6901569 ],\n",
              "       [0.1070548 ],\n",
              "       [0.82854164],\n",
              "       [0.595655  ],\n",
              "       [0.21438307],\n",
              "       [0.8645835 ],\n",
              "       [0.21408466],\n",
              "       [0.8557273 ],\n",
              "       [0.21448976],\n",
              "       [0.11611694],\n",
              "       [0.03310519],\n",
              "       [0.08682734],\n",
              "       [0.05621329],\n",
              "       [0.88143694],\n",
              "       [0.06628534],\n",
              "       [0.6959152 ],\n",
              "       [0.7055544 ],\n",
              "       [0.05362239],\n",
              "       [0.09947625],\n",
              "       [0.71827435],\n",
              "       [0.6995642 ],\n",
              "       [0.75986   ]], dtype=float32)"
            ]
          },
          "metadata": {},
          "execution_count": 100
        }
      ]
    }
  ]
}