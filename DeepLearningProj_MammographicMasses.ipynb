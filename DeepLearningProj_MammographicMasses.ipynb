{
  "nbformat": 4,
  "nbformat_minor": 0,
  "metadata": {
    "colab": {
      "name": "DeepLearningProj-MammographicMasses.ipynb",
      "provenance": [],
      "toc_visible": true,
      "authorship_tag": "ABX9TyO6c5q7C+qMpuw6AdRhIwh2",
      "include_colab_link": true
    },
    "kernelspec": {
      "name": "python3",
      "display_name": "Python 3"
    },
    "language_info": {
      "name": "python"
    }
  },
  "cells": [
    {
      "cell_type": "markdown",
      "metadata": {
        "id": "view-in-github",
        "colab_type": "text"
      },
      "source": [
        "<a href=\"https://colab.research.google.com/github/DianaElena99/DataScience-Crashcourse/blob/main/DeepLearningProj_MammographicMasses.ipynb\" target=\"_parent\"><img src=\"https://colab.research.google.com/assets/colab-badge.svg\" alt=\"Open In Colab\"/></a>"
      ]
    },
    {
      "cell_type": "markdown",
      "source": [
        "## Predict whether a mammogram mass is benign or malignant"
      ],
      "metadata": {
        "id": "vrthBK9xvNJ5"
      }
    },
    {
      "cell_type": "markdown",
      "source": [
        "Data set used for this project: https://archive.ics.uci.edu/ml/datasets/Mammographic+Mass\n",
        "\n",
        "This data contains 961 instances of masses detected in mammograms, and contains the following attributes:\n",
        "\n",
        "\n",
        "   1. BI-RADS assessment: 1 to 5 (ordinal)  \n",
        "   2. Age: patient's age in years (integer)\n",
        "   3. Shape: mass shape: round=1 oval=2 lobular=3 irregular=4 (nominal)\n",
        "   4. Margin: mass margin: circumscribed=1 microlobulated=2 obscured=3 ill-defined=4 spiculated=5 (nominal)\n",
        "   5. Density: mass density high=1 iso=2 low=3 fat-containing=4 (ordinal)\n",
        "   6. Severity: benign=0 or malignant=1 (binominal)\n",
        "\n",
        "   Missing Attribute Values: Yes\n",
        "    - BI-RADS assessment:    2\n",
        "    - Age:                   5\n",
        "    - Shape:                31\n",
        "    - Margin:               48\n",
        "    - Density:              76\n",
        "    - Severity:              0\n",
        "\n",
        "  Class Distribution: benign: 516; malignant: 445"
      ],
      "metadata": {
        "id": "2-FWmchHvRNm"
      }
    },
    {
      "cell_type": "markdown",
      "source": [
        "## 1. Data Preprocessing"
      ],
      "metadata": {
        "id": "bw-LtL-XxJKt"
      }
    },
    {
      "cell_type": "markdown",
      "source": [
        "Import the necessary libraries/packages"
      ],
      "metadata": {
        "id": "Wl1fpVJy3Wpd"
      }
    },
    {
      "cell_type": "code",
      "source": [
        "import pandas as pd\n",
        "import numpy as np\n",
        "from sklearn import preprocessing\n",
        "from sklearn.impute import SimpleImputer\n",
        "from sklearn.model_selection import train_test_split"
      ],
      "metadata": {
        "id": "RQH0YPYsvfQh"
      },
      "execution_count": 26,
      "outputs": []
    },
    {
      "cell_type": "markdown",
      "source": [
        "Import the data set using pandas"
      ],
      "metadata": {
        "id": "XoUvy7TWwzjg"
      }
    },
    {
      "cell_type": "code",
      "source": [
        "_dataset = pd.read_csv(\"mammographic_masses.data\")\n",
        "_dataset.size\n",
        "_dataset.head()"
      ],
      "metadata": {
        "colab": {
          "base_uri": "https://localhost:8080/",
          "height": 206
        },
        "id": "AMhudgpDw1GJ",
        "outputId": "d532acf6-381d-4758-c8e9-38abc68d518c"
      },
      "execution_count": 11,
      "outputs": [
        {
          "output_type": "execute_result",
          "data": {
            "text/plain": [
              "   BI-Rads   Age  Shape  Margin  Density  Severity\n",
              "0      5.0  67.0    3.0     5.0      3.0         1\n",
              "1      4.0  43.0    1.0     1.0      NaN         1\n",
              "2      5.0  58.0    4.0     5.0      3.0         1\n",
              "3      4.0  28.0    1.0     1.0      3.0         0\n",
              "4      5.0  74.0    1.0     5.0      NaN         1"
            ],
            "text/html": [
              "\n",
              "  <div id=\"df-cf425806-cd4b-41d8-b3a3-063692a3b3da\">\n",
              "    <div class=\"colab-df-container\">\n",
              "      <div>\n",
              "<style scoped>\n",
              "    .dataframe tbody tr th:only-of-type {\n",
              "        vertical-align: middle;\n",
              "    }\n",
              "\n",
              "    .dataframe tbody tr th {\n",
              "        vertical-align: top;\n",
              "    }\n",
              "\n",
              "    .dataframe thead th {\n",
              "        text-align: right;\n",
              "    }\n",
              "</style>\n",
              "<table border=\"1\" class=\"dataframe\">\n",
              "  <thead>\n",
              "    <tr style=\"text-align: right;\">\n",
              "      <th></th>\n",
              "      <th>BI-Rads</th>\n",
              "      <th>Age</th>\n",
              "      <th>Shape</th>\n",
              "      <th>Margin</th>\n",
              "      <th>Density</th>\n",
              "      <th>Severity</th>\n",
              "    </tr>\n",
              "  </thead>\n",
              "  <tbody>\n",
              "    <tr>\n",
              "      <th>0</th>\n",
              "      <td>5.0</td>\n",
              "      <td>67.0</td>\n",
              "      <td>3.0</td>\n",
              "      <td>5.0</td>\n",
              "      <td>3.0</td>\n",
              "      <td>1</td>\n",
              "    </tr>\n",
              "    <tr>\n",
              "      <th>1</th>\n",
              "      <td>4.0</td>\n",
              "      <td>43.0</td>\n",
              "      <td>1.0</td>\n",
              "      <td>1.0</td>\n",
              "      <td>NaN</td>\n",
              "      <td>1</td>\n",
              "    </tr>\n",
              "    <tr>\n",
              "      <th>2</th>\n",
              "      <td>5.0</td>\n",
              "      <td>58.0</td>\n",
              "      <td>4.0</td>\n",
              "      <td>5.0</td>\n",
              "      <td>3.0</td>\n",
              "      <td>1</td>\n",
              "    </tr>\n",
              "    <tr>\n",
              "      <th>3</th>\n",
              "      <td>4.0</td>\n",
              "      <td>28.0</td>\n",
              "      <td>1.0</td>\n",
              "      <td>1.0</td>\n",
              "      <td>3.0</td>\n",
              "      <td>0</td>\n",
              "    </tr>\n",
              "    <tr>\n",
              "      <th>4</th>\n",
              "      <td>5.0</td>\n",
              "      <td>74.0</td>\n",
              "      <td>1.0</td>\n",
              "      <td>5.0</td>\n",
              "      <td>NaN</td>\n",
              "      <td>1</td>\n",
              "    </tr>\n",
              "  </tbody>\n",
              "</table>\n",
              "</div>\n",
              "      <button class=\"colab-df-convert\" onclick=\"convertToInteractive('df-cf425806-cd4b-41d8-b3a3-063692a3b3da')\"\n",
              "              title=\"Convert this dataframe to an interactive table.\"\n",
              "              style=\"display:none;\">\n",
              "        \n",
              "  <svg xmlns=\"http://www.w3.org/2000/svg\" height=\"24px\"viewBox=\"0 0 24 24\"\n",
              "       width=\"24px\">\n",
              "    <path d=\"M0 0h24v24H0V0z\" fill=\"none\"/>\n",
              "    <path d=\"M18.56 5.44l.94 2.06.94-2.06 2.06-.94-2.06-.94-.94-2.06-.94 2.06-2.06.94zm-11 1L8.5 8.5l.94-2.06 2.06-.94-2.06-.94L8.5 2.5l-.94 2.06-2.06.94zm10 10l.94 2.06.94-2.06 2.06-.94-2.06-.94-.94-2.06-.94 2.06-2.06.94z\"/><path d=\"M17.41 7.96l-1.37-1.37c-.4-.4-.92-.59-1.43-.59-.52 0-1.04.2-1.43.59L10.3 9.45l-7.72 7.72c-.78.78-.78 2.05 0 2.83L4 21.41c.39.39.9.59 1.41.59.51 0 1.02-.2 1.41-.59l7.78-7.78 2.81-2.81c.8-.78.8-2.07 0-2.86zM5.41 20L4 18.59l7.72-7.72 1.47 1.35L5.41 20z\"/>\n",
              "  </svg>\n",
              "      </button>\n",
              "      \n",
              "  <style>\n",
              "    .colab-df-container {\n",
              "      display:flex;\n",
              "      flex-wrap:wrap;\n",
              "      gap: 12px;\n",
              "    }\n",
              "\n",
              "    .colab-df-convert {\n",
              "      background-color: #E8F0FE;\n",
              "      border: none;\n",
              "      border-radius: 50%;\n",
              "      cursor: pointer;\n",
              "      display: none;\n",
              "      fill: #1967D2;\n",
              "      height: 32px;\n",
              "      padding: 0 0 0 0;\n",
              "      width: 32px;\n",
              "    }\n",
              "\n",
              "    .colab-df-convert:hover {\n",
              "      background-color: #E2EBFA;\n",
              "      box-shadow: 0px 1px 2px rgba(60, 64, 67, 0.3), 0px 1px 3px 1px rgba(60, 64, 67, 0.15);\n",
              "      fill: #174EA6;\n",
              "    }\n",
              "\n",
              "    [theme=dark] .colab-df-convert {\n",
              "      background-color: #3B4455;\n",
              "      fill: #D2E3FC;\n",
              "    }\n",
              "\n",
              "    [theme=dark] .colab-df-convert:hover {\n",
              "      background-color: #434B5C;\n",
              "      box-shadow: 0px 1px 3px 1px rgba(0, 0, 0, 0.15);\n",
              "      filter: drop-shadow(0px 1px 2px rgba(0, 0, 0, 0.3));\n",
              "      fill: #FFFFFF;\n",
              "    }\n",
              "  </style>\n",
              "\n",
              "      <script>\n",
              "        const buttonEl =\n",
              "          document.querySelector('#df-cf425806-cd4b-41d8-b3a3-063692a3b3da button.colab-df-convert');\n",
              "        buttonEl.style.display =\n",
              "          google.colab.kernel.accessAllowed ? 'block' : 'none';\n",
              "\n",
              "        async function convertToInteractive(key) {\n",
              "          const element = document.querySelector('#df-cf425806-cd4b-41d8-b3a3-063692a3b3da');\n",
              "          const dataTable =\n",
              "            await google.colab.kernel.invokeFunction('convertToInteractive',\n",
              "                                                     [key], {});\n",
              "          if (!dataTable) return;\n",
              "\n",
              "          const docLinkHtml = 'Like what you see? Visit the ' +\n",
              "            '<a target=\"_blank\" href=https://colab.research.google.com/notebooks/data_table.ipynb>data table notebook</a>'\n",
              "            + ' to learn more about interactive tables.';\n",
              "          element.innerHTML = '';\n",
              "          dataTable['output_type'] = 'display_data';\n",
              "          await google.colab.output.renderOutput(dataTable, element);\n",
              "          const docLink = document.createElement('div');\n",
              "          docLink.innerHTML = docLinkHtml;\n",
              "          element.appendChild(docLink);\n",
              "        }\n",
              "      </script>\n",
              "    </div>\n",
              "  </div>\n",
              "  "
            ]
          },
          "metadata": {},
          "execution_count": 11
        }
      ]
    },
    {
      "cell_type": "markdown",
      "source": [
        "Deal with the missing values. For the age column, replace NaN with the mean value. For the other columns, since they are categorical data, use the mode(most frequent value)"
      ],
      "metadata": {
        "id": "il_A35fj3gb4"
      }
    },
    {
      "cell_type": "code",
      "source": [
        "_imputer_mean = SimpleImputer(missing_values=np.nan, strategy=\"mean\", add_indicator=True )\n",
        "_age_col = np.array(_dataset['Age']).reshape(-1,1)\n",
        "_imputer_mean.fit(_age_col)\n",
        "_age_preproc = _imputer_mean.transform(_age_col)\n",
        "\n",
        "_dataset['Age'] = _age_preproc\n",
        "_dataset.head()\n"
      ],
      "metadata": {
        "colab": {
          "base_uri": "https://localhost:8080/",
          "height": 206
        },
        "id": "59fHYsBFxQYz",
        "outputId": "25774ebc-a297-4da8-b30a-0faa17b29607"
      },
      "execution_count": 12,
      "outputs": [
        {
          "output_type": "execute_result",
          "data": {
            "text/plain": [
              "   BI-Rads   Age  Shape  Margin  Density  Severity\n",
              "0      5.0  67.0    3.0     5.0      3.0         1\n",
              "1      4.0  43.0    1.0     1.0      NaN         1\n",
              "2      5.0  58.0    4.0     5.0      3.0         1\n",
              "3      4.0  28.0    1.0     1.0      3.0         0\n",
              "4      5.0  74.0    1.0     5.0      NaN         1"
            ],
            "text/html": [
              "\n",
              "  <div id=\"df-ee065af6-01ea-4f46-89ca-2faae539a086\">\n",
              "    <div class=\"colab-df-container\">\n",
              "      <div>\n",
              "<style scoped>\n",
              "    .dataframe tbody tr th:only-of-type {\n",
              "        vertical-align: middle;\n",
              "    }\n",
              "\n",
              "    .dataframe tbody tr th {\n",
              "        vertical-align: top;\n",
              "    }\n",
              "\n",
              "    .dataframe thead th {\n",
              "        text-align: right;\n",
              "    }\n",
              "</style>\n",
              "<table border=\"1\" class=\"dataframe\">\n",
              "  <thead>\n",
              "    <tr style=\"text-align: right;\">\n",
              "      <th></th>\n",
              "      <th>BI-Rads</th>\n",
              "      <th>Age</th>\n",
              "      <th>Shape</th>\n",
              "      <th>Margin</th>\n",
              "      <th>Density</th>\n",
              "      <th>Severity</th>\n",
              "    </tr>\n",
              "  </thead>\n",
              "  <tbody>\n",
              "    <tr>\n",
              "      <th>0</th>\n",
              "      <td>5.0</td>\n",
              "      <td>67.0</td>\n",
              "      <td>3.0</td>\n",
              "      <td>5.0</td>\n",
              "      <td>3.0</td>\n",
              "      <td>1</td>\n",
              "    </tr>\n",
              "    <tr>\n",
              "      <th>1</th>\n",
              "      <td>4.0</td>\n",
              "      <td>43.0</td>\n",
              "      <td>1.0</td>\n",
              "      <td>1.0</td>\n",
              "      <td>NaN</td>\n",
              "      <td>1</td>\n",
              "    </tr>\n",
              "    <tr>\n",
              "      <th>2</th>\n",
              "      <td>5.0</td>\n",
              "      <td>58.0</td>\n",
              "      <td>4.0</td>\n",
              "      <td>5.0</td>\n",
              "      <td>3.0</td>\n",
              "      <td>1</td>\n",
              "    </tr>\n",
              "    <tr>\n",
              "      <th>3</th>\n",
              "      <td>4.0</td>\n",
              "      <td>28.0</td>\n",
              "      <td>1.0</td>\n",
              "      <td>1.0</td>\n",
              "      <td>3.0</td>\n",
              "      <td>0</td>\n",
              "    </tr>\n",
              "    <tr>\n",
              "      <th>4</th>\n",
              "      <td>5.0</td>\n",
              "      <td>74.0</td>\n",
              "      <td>1.0</td>\n",
              "      <td>5.0</td>\n",
              "      <td>NaN</td>\n",
              "      <td>1</td>\n",
              "    </tr>\n",
              "  </tbody>\n",
              "</table>\n",
              "</div>\n",
              "      <button class=\"colab-df-convert\" onclick=\"convertToInteractive('df-ee065af6-01ea-4f46-89ca-2faae539a086')\"\n",
              "              title=\"Convert this dataframe to an interactive table.\"\n",
              "              style=\"display:none;\">\n",
              "        \n",
              "  <svg xmlns=\"http://www.w3.org/2000/svg\" height=\"24px\"viewBox=\"0 0 24 24\"\n",
              "       width=\"24px\">\n",
              "    <path d=\"M0 0h24v24H0V0z\" fill=\"none\"/>\n",
              "    <path d=\"M18.56 5.44l.94 2.06.94-2.06 2.06-.94-2.06-.94-.94-2.06-.94 2.06-2.06.94zm-11 1L8.5 8.5l.94-2.06 2.06-.94-2.06-.94L8.5 2.5l-.94 2.06-2.06.94zm10 10l.94 2.06.94-2.06 2.06-.94-2.06-.94-.94-2.06-.94 2.06-2.06.94z\"/><path d=\"M17.41 7.96l-1.37-1.37c-.4-.4-.92-.59-1.43-.59-.52 0-1.04.2-1.43.59L10.3 9.45l-7.72 7.72c-.78.78-.78 2.05 0 2.83L4 21.41c.39.39.9.59 1.41.59.51 0 1.02-.2 1.41-.59l7.78-7.78 2.81-2.81c.8-.78.8-2.07 0-2.86zM5.41 20L4 18.59l7.72-7.72 1.47 1.35L5.41 20z\"/>\n",
              "  </svg>\n",
              "      </button>\n",
              "      \n",
              "  <style>\n",
              "    .colab-df-container {\n",
              "      display:flex;\n",
              "      flex-wrap:wrap;\n",
              "      gap: 12px;\n",
              "    }\n",
              "\n",
              "    .colab-df-convert {\n",
              "      background-color: #E8F0FE;\n",
              "      border: none;\n",
              "      border-radius: 50%;\n",
              "      cursor: pointer;\n",
              "      display: none;\n",
              "      fill: #1967D2;\n",
              "      height: 32px;\n",
              "      padding: 0 0 0 0;\n",
              "      width: 32px;\n",
              "    }\n",
              "\n",
              "    .colab-df-convert:hover {\n",
              "      background-color: #E2EBFA;\n",
              "      box-shadow: 0px 1px 2px rgba(60, 64, 67, 0.3), 0px 1px 3px 1px rgba(60, 64, 67, 0.15);\n",
              "      fill: #174EA6;\n",
              "    }\n",
              "\n",
              "    [theme=dark] .colab-df-convert {\n",
              "      background-color: #3B4455;\n",
              "      fill: #D2E3FC;\n",
              "    }\n",
              "\n",
              "    [theme=dark] .colab-df-convert:hover {\n",
              "      background-color: #434B5C;\n",
              "      box-shadow: 0px 1px 3px 1px rgba(0, 0, 0, 0.15);\n",
              "      filter: drop-shadow(0px 1px 2px rgba(0, 0, 0, 0.3));\n",
              "      fill: #FFFFFF;\n",
              "    }\n",
              "  </style>\n",
              "\n",
              "      <script>\n",
              "        const buttonEl =\n",
              "          document.querySelector('#df-ee065af6-01ea-4f46-89ca-2faae539a086 button.colab-df-convert');\n",
              "        buttonEl.style.display =\n",
              "          google.colab.kernel.accessAllowed ? 'block' : 'none';\n",
              "\n",
              "        async function convertToInteractive(key) {\n",
              "          const element = document.querySelector('#df-ee065af6-01ea-4f46-89ca-2faae539a086');\n",
              "          const dataTable =\n",
              "            await google.colab.kernel.invokeFunction('convertToInteractive',\n",
              "                                                     [key], {});\n",
              "          if (!dataTable) return;\n",
              "\n",
              "          const docLinkHtml = 'Like what you see? Visit the ' +\n",
              "            '<a target=\"_blank\" href=https://colab.research.google.com/notebooks/data_table.ipynb>data table notebook</a>'\n",
              "            + ' to learn more about interactive tables.';\n",
              "          element.innerHTML = '';\n",
              "          dataTable['output_type'] = 'display_data';\n",
              "          await google.colab.output.renderOutput(dataTable, element);\n",
              "          const docLink = document.createElement('div');\n",
              "          docLink.innerHTML = docLinkHtml;\n",
              "          element.appendChild(docLink);\n",
              "        }\n",
              "      </script>\n",
              "    </div>\n",
              "  </div>\n",
              "  "
            ]
          },
          "metadata": {},
          "execution_count": 12
        }
      ]
    },
    {
      "cell_type": "code",
      "source": [
        "_imputer_mode = SimpleImputer(missing_values = np.nan , strategy=\"most_frequent\", add_indicator=True)\n",
        "\n",
        "_shape_col = np.array(_dataset['Shape']).reshape(-1,1)\n",
        "_imputer_mode.fit(_shape_col)\n",
        "_shape_preproc = _imputer_mode.transform(_shape_col)\n",
        "_dataset['Shape'] = _shape_preproc\n",
        "\n",
        "_margin_col = np.array(_dataset['Margin']).reshape(-1,1)\n",
        "_imputer_mode.fit(_margin_col)\n",
        "_margin_preproc = _imputer_mode.transform(_margin_col)\n",
        "_dataset['Margin'] = _margin_preproc\n",
        "\n",
        "_density_col = np.array(_dataset['Density']).reshape(-1,1)\n",
        "_imputer_mode.fit(_density_col)\n",
        "_density_preproc = _imputer_mode.transform(_density_col)\n",
        "_dataset['Density'] = _density_preproc\n",
        "\n",
        "_dataset.head()"
      ],
      "metadata": {
        "colab": {
          "base_uri": "https://localhost:8080/",
          "height": 206
        },
        "id": "iK25pxVE1MAT",
        "outputId": "949915cc-dd81-4b08-a8e0-a8c50ddc95c9"
      },
      "execution_count": 22,
      "outputs": [
        {
          "output_type": "execute_result",
          "data": {
            "text/plain": [
              "   BI-Rads   Age  Shape  Margin  Density  Severity\n",
              "0      5.0  67.0    3.0     5.0      3.0         1\n",
              "1      4.0  43.0    1.0     1.0      3.0         1\n",
              "2      5.0  58.0    4.0     5.0      3.0         1\n",
              "3      4.0  28.0    1.0     1.0      3.0         0\n",
              "4      5.0  74.0    1.0     5.0      3.0         1"
            ],
            "text/html": [
              "\n",
              "  <div id=\"df-ceb1462d-8c39-4209-9ea4-a13a0747cc9d\">\n",
              "    <div class=\"colab-df-container\">\n",
              "      <div>\n",
              "<style scoped>\n",
              "    .dataframe tbody tr th:only-of-type {\n",
              "        vertical-align: middle;\n",
              "    }\n",
              "\n",
              "    .dataframe tbody tr th {\n",
              "        vertical-align: top;\n",
              "    }\n",
              "\n",
              "    .dataframe thead th {\n",
              "        text-align: right;\n",
              "    }\n",
              "</style>\n",
              "<table border=\"1\" class=\"dataframe\">\n",
              "  <thead>\n",
              "    <tr style=\"text-align: right;\">\n",
              "      <th></th>\n",
              "      <th>BI-Rads</th>\n",
              "      <th>Age</th>\n",
              "      <th>Shape</th>\n",
              "      <th>Margin</th>\n",
              "      <th>Density</th>\n",
              "      <th>Severity</th>\n",
              "    </tr>\n",
              "  </thead>\n",
              "  <tbody>\n",
              "    <tr>\n",
              "      <th>0</th>\n",
              "      <td>5.0</td>\n",
              "      <td>67.0</td>\n",
              "      <td>3.0</td>\n",
              "      <td>5.0</td>\n",
              "      <td>3.0</td>\n",
              "      <td>1</td>\n",
              "    </tr>\n",
              "    <tr>\n",
              "      <th>1</th>\n",
              "      <td>4.0</td>\n",
              "      <td>43.0</td>\n",
              "      <td>1.0</td>\n",
              "      <td>1.0</td>\n",
              "      <td>3.0</td>\n",
              "      <td>1</td>\n",
              "    </tr>\n",
              "    <tr>\n",
              "      <th>2</th>\n",
              "      <td>5.0</td>\n",
              "      <td>58.0</td>\n",
              "      <td>4.0</td>\n",
              "      <td>5.0</td>\n",
              "      <td>3.0</td>\n",
              "      <td>1</td>\n",
              "    </tr>\n",
              "    <tr>\n",
              "      <th>3</th>\n",
              "      <td>4.0</td>\n",
              "      <td>28.0</td>\n",
              "      <td>1.0</td>\n",
              "      <td>1.0</td>\n",
              "      <td>3.0</td>\n",
              "      <td>0</td>\n",
              "    </tr>\n",
              "    <tr>\n",
              "      <th>4</th>\n",
              "      <td>5.0</td>\n",
              "      <td>74.0</td>\n",
              "      <td>1.0</td>\n",
              "      <td>5.0</td>\n",
              "      <td>3.0</td>\n",
              "      <td>1</td>\n",
              "    </tr>\n",
              "  </tbody>\n",
              "</table>\n",
              "</div>\n",
              "      <button class=\"colab-df-convert\" onclick=\"convertToInteractive('df-ceb1462d-8c39-4209-9ea4-a13a0747cc9d')\"\n",
              "              title=\"Convert this dataframe to an interactive table.\"\n",
              "              style=\"display:none;\">\n",
              "        \n",
              "  <svg xmlns=\"http://www.w3.org/2000/svg\" height=\"24px\"viewBox=\"0 0 24 24\"\n",
              "       width=\"24px\">\n",
              "    <path d=\"M0 0h24v24H0V0z\" fill=\"none\"/>\n",
              "    <path d=\"M18.56 5.44l.94 2.06.94-2.06 2.06-.94-2.06-.94-.94-2.06-.94 2.06-2.06.94zm-11 1L8.5 8.5l.94-2.06 2.06-.94-2.06-.94L8.5 2.5l-.94 2.06-2.06.94zm10 10l.94 2.06.94-2.06 2.06-.94-2.06-.94-.94-2.06-.94 2.06-2.06.94z\"/><path d=\"M17.41 7.96l-1.37-1.37c-.4-.4-.92-.59-1.43-.59-.52 0-1.04.2-1.43.59L10.3 9.45l-7.72 7.72c-.78.78-.78 2.05 0 2.83L4 21.41c.39.39.9.59 1.41.59.51 0 1.02-.2 1.41-.59l7.78-7.78 2.81-2.81c.8-.78.8-2.07 0-2.86zM5.41 20L4 18.59l7.72-7.72 1.47 1.35L5.41 20z\"/>\n",
              "  </svg>\n",
              "      </button>\n",
              "      \n",
              "  <style>\n",
              "    .colab-df-container {\n",
              "      display:flex;\n",
              "      flex-wrap:wrap;\n",
              "      gap: 12px;\n",
              "    }\n",
              "\n",
              "    .colab-df-convert {\n",
              "      background-color: #E8F0FE;\n",
              "      border: none;\n",
              "      border-radius: 50%;\n",
              "      cursor: pointer;\n",
              "      display: none;\n",
              "      fill: #1967D2;\n",
              "      height: 32px;\n",
              "      padding: 0 0 0 0;\n",
              "      width: 32px;\n",
              "    }\n",
              "\n",
              "    .colab-df-convert:hover {\n",
              "      background-color: #E2EBFA;\n",
              "      box-shadow: 0px 1px 2px rgba(60, 64, 67, 0.3), 0px 1px 3px 1px rgba(60, 64, 67, 0.15);\n",
              "      fill: #174EA6;\n",
              "    }\n",
              "\n",
              "    [theme=dark] .colab-df-convert {\n",
              "      background-color: #3B4455;\n",
              "      fill: #D2E3FC;\n",
              "    }\n",
              "\n",
              "    [theme=dark] .colab-df-convert:hover {\n",
              "      background-color: #434B5C;\n",
              "      box-shadow: 0px 1px 3px 1px rgba(0, 0, 0, 0.15);\n",
              "      filter: drop-shadow(0px 1px 2px rgba(0, 0, 0, 0.3));\n",
              "      fill: #FFFFFF;\n",
              "    }\n",
              "  </style>\n",
              "\n",
              "      <script>\n",
              "        const buttonEl =\n",
              "          document.querySelector('#df-ceb1462d-8c39-4209-9ea4-a13a0747cc9d button.colab-df-convert');\n",
              "        buttonEl.style.display =\n",
              "          google.colab.kernel.accessAllowed ? 'block' : 'none';\n",
              "\n",
              "        async function convertToInteractive(key) {\n",
              "          const element = document.querySelector('#df-ceb1462d-8c39-4209-9ea4-a13a0747cc9d');\n",
              "          const dataTable =\n",
              "            await google.colab.kernel.invokeFunction('convertToInteractive',\n",
              "                                                     [key], {});\n",
              "          if (!dataTable) return;\n",
              "\n",
              "          const docLinkHtml = 'Like what you see? Visit the ' +\n",
              "            '<a target=\"_blank\" href=https://colab.research.google.com/notebooks/data_table.ipynb>data table notebook</a>'\n",
              "            + ' to learn more about interactive tables.';\n",
              "          element.innerHTML = '';\n",
              "          dataTable['output_type'] = 'display_data';\n",
              "          await google.colab.output.renderOutput(dataTable, element);\n",
              "          const docLink = document.createElement('div');\n",
              "          docLink.innerHTML = docLinkHtml;\n",
              "          element.appendChild(docLink);\n",
              "        }\n",
              "      </script>\n",
              "    </div>\n",
              "  </div>\n",
              "  "
            ]
          },
          "metadata": {},
          "execution_count": 22
        }
      ]
    },
    {
      "cell_type": "markdown",
      "source": [
        "# Split the dataset into train and test"
      ],
      "metadata": {
        "id": "KudvbMbM3vNe"
      }
    },
    {
      "cell_type": "code",
      "source": [
        "X = _dataset.iloc[: , :-1]\n",
        "Y = _dataset.iloc[:,-1]\n",
        "_scaler = preprocessing.StandardScaler()\n",
        "_scaler.fit_transform(_dataset[['Age', 'Shape', 'Density', 'Margin']])\n",
        "\n",
        "X_train, X_test, Y_train, Y_test = train_test_split(X, Y, test_size=0.2, random_state=42)"
      ],
      "metadata": {
        "id": "CFKKJ23931yu"
      },
      "execution_count": 25,
      "outputs": []
    },
    {
      "cell_type": "markdown",
      "source": [
        "# Create the Multi-Layer Perceptron"
      ],
      "metadata": {
        "id": "QwsmLnxx5qNy"
      }
    },
    {
      "cell_type": "code",
      "source": [
        "from tensorflow import keras \n",
        "import tensorflow as tf\n",
        "from keras.layers import Dense\n",
        "from keras.models import Sequential\n",
        "\n",
        "_model = Sequential()\n",
        "_model.add(Dense(units=5, input_dim=5, activation='relu' ,kernel_initializer='normal' ))\n",
        "_model.add(Dense(1, kernel_initializer='normal', activation='sigmoid'))\n",
        "_model.compile(loss='binary_crossentropy', optimizer='adam', metrics=['accuracy'])\n",
        "\n",
        "_model.summary()"
      ],
      "metadata": {
        "colab": {
          "base_uri": "https://localhost:8080/"
        },
        "id": "Tctmpw0K5uJm",
        "outputId": "c485ce82-a1ae-495c-dba4-0b6cf80b56c1"
      },
      "execution_count": 37,
      "outputs": [
        {
          "output_type": "stream",
          "name": "stdout",
          "text": [
            "Model: \"sequential_1\"\n",
            "_________________________________________________________________\n",
            " Layer (type)                Output Shape              Param #   \n",
            "=================================================================\n",
            " dense_2 (Dense)             (None, 5)                 30        \n",
            "                                                                 \n",
            " dense_3 (Dense)             (None, 1)                 6         \n",
            "                                                                 \n",
            "=================================================================\n",
            "Total params: 36\n",
            "Trainable params: 36\n",
            "Non-trainable params: 0\n",
            "_________________________________________________________________\n"
          ]
        }
      ]
    },
    {
      "cell_type": "markdown",
      "source": [
        "# Train the model"
      ],
      "metadata": {
        "id": "5yGNoNv9BOz_"
      }
    },
    {
      "cell_type": "code",
      "source": [
        "_history = _model.fit(X_train, Y_train, epochs = 90)"
      ],
      "metadata": {
        "colab": {
          "base_uri": "https://localhost:8080/"
        },
        "id": "ExU9cpl__3yK",
        "outputId": "a892156a-aeec-431a-8415-445dad357b02"
      },
      "execution_count": 46,
      "outputs": [
        {
          "output_type": "stream",
          "name": "stdout",
          "text": [
            "Epoch 1/90\n",
            "24/24 [==============================] - 0s 2ms/step - loss: 0.4496 - accuracy: 0.8047\n",
            "Epoch 2/90\n",
            "24/24 [==============================] - 0s 2ms/step - loss: 0.4450 - accuracy: 0.8125\n",
            "Epoch 3/90\n",
            "24/24 [==============================] - 0s 2ms/step - loss: 0.4443 - accuracy: 0.8086\n",
            "Epoch 4/90\n",
            "24/24 [==============================] - 0s 2ms/step - loss: 0.4453 - accuracy: 0.8047\n",
            "Epoch 5/90\n",
            "24/24 [==============================] - 0s 2ms/step - loss: 0.4444 - accuracy: 0.8060\n",
            "Epoch 6/90\n",
            "24/24 [==============================] - 0s 2ms/step - loss: 0.4438 - accuracy: 0.8112\n",
            "Epoch 7/90\n",
            "24/24 [==============================] - 0s 3ms/step - loss: 0.4439 - accuracy: 0.8086\n",
            "Epoch 8/90\n",
            "24/24 [==============================] - 0s 2ms/step - loss: 0.4466 - accuracy: 0.7982\n",
            "Epoch 9/90\n",
            "24/24 [==============================] - 0s 2ms/step - loss: 0.4438 - accuracy: 0.8151\n",
            "Epoch 10/90\n",
            "24/24 [==============================] - 0s 3ms/step - loss: 0.4432 - accuracy: 0.8034\n",
            "Epoch 11/90\n",
            "24/24 [==============================] - 0s 4ms/step - loss: 0.4431 - accuracy: 0.8151\n",
            "Epoch 12/90\n",
            "24/24 [==============================] - 0s 3ms/step - loss: 0.4445 - accuracy: 0.8034\n",
            "Epoch 13/90\n",
            "24/24 [==============================] - 0s 3ms/step - loss: 0.4469 - accuracy: 0.8125\n",
            "Epoch 14/90\n",
            "24/24 [==============================] - 0s 3ms/step - loss: 0.4420 - accuracy: 0.8086\n",
            "Epoch 15/90\n",
            "24/24 [==============================] - 0s 2ms/step - loss: 0.4435 - accuracy: 0.8073\n",
            "Epoch 16/90\n",
            "24/24 [==============================] - 0s 3ms/step - loss: 0.4432 - accuracy: 0.8099\n",
            "Epoch 17/90\n",
            "24/24 [==============================] - 0s 3ms/step - loss: 0.4429 - accuracy: 0.8125\n",
            "Epoch 18/90\n",
            "24/24 [==============================] - 0s 2ms/step - loss: 0.4495 - accuracy: 0.8125\n",
            "Epoch 19/90\n",
            "24/24 [==============================] - 0s 2ms/step - loss: 0.4446 - accuracy: 0.7943\n",
            "Epoch 20/90\n",
            "24/24 [==============================] - 0s 3ms/step - loss: 0.4423 - accuracy: 0.8112\n",
            "Epoch 21/90\n",
            "24/24 [==============================] - 0s 3ms/step - loss: 0.4456 - accuracy: 0.8125\n",
            "Epoch 22/90\n",
            "24/24 [==============================] - 0s 4ms/step - loss: 0.4433 - accuracy: 0.8047\n",
            "Epoch 23/90\n",
            "24/24 [==============================] - 0s 3ms/step - loss: 0.4465 - accuracy: 0.8021\n",
            "Epoch 24/90\n",
            "24/24 [==============================] - 0s 1ms/step - loss: 0.4475 - accuracy: 0.8099\n",
            "Epoch 25/90\n",
            "24/24 [==============================] - 0s 1ms/step - loss: 0.4429 - accuracy: 0.8060\n",
            "Epoch 26/90\n",
            "24/24 [==============================] - 0s 2ms/step - loss: 0.4423 - accuracy: 0.8021\n",
            "Epoch 27/90\n",
            "24/24 [==============================] - 0s 2ms/step - loss: 0.4416 - accuracy: 0.8073\n",
            "Epoch 28/90\n",
            "24/24 [==============================] - 0s 2ms/step - loss: 0.4407 - accuracy: 0.8125\n",
            "Epoch 29/90\n",
            "24/24 [==============================] - 0s 2ms/step - loss: 0.4455 - accuracy: 0.8099\n",
            "Epoch 30/90\n",
            "24/24 [==============================] - 0s 1ms/step - loss: 0.4422 - accuracy: 0.8060\n",
            "Epoch 31/90\n",
            "24/24 [==============================] - 0s 2ms/step - loss: 0.4413 - accuracy: 0.8112\n",
            "Epoch 32/90\n",
            "24/24 [==============================] - 0s 2ms/step - loss: 0.4402 - accuracy: 0.8099\n",
            "Epoch 33/90\n",
            "24/24 [==============================] - 0s 2ms/step - loss: 0.4412 - accuracy: 0.8125\n",
            "Epoch 34/90\n",
            "24/24 [==============================] - 0s 2ms/step - loss: 0.4423 - accuracy: 0.8047\n",
            "Epoch 35/90\n",
            "24/24 [==============================] - 0s 2ms/step - loss: 0.4400 - accuracy: 0.8138\n",
            "Epoch 36/90\n",
            "24/24 [==============================] - 0s 2ms/step - loss: 0.4429 - accuracy: 0.8086\n",
            "Epoch 37/90\n",
            "24/24 [==============================] - 0s 2ms/step - loss: 0.4416 - accuracy: 0.8099\n",
            "Epoch 38/90\n",
            "24/24 [==============================] - 0s 2ms/step - loss: 0.4391 - accuracy: 0.8099\n",
            "Epoch 39/90\n",
            "24/24 [==============================] - 0s 2ms/step - loss: 0.4395 - accuracy: 0.8112\n",
            "Epoch 40/90\n",
            "24/24 [==============================] - 0s 1ms/step - loss: 0.4418 - accuracy: 0.8112\n",
            "Epoch 41/90\n",
            "24/24 [==============================] - 0s 1ms/step - loss: 0.4424 - accuracy: 0.8086\n",
            "Epoch 42/90\n",
            "24/24 [==============================] - 0s 2ms/step - loss: 0.4386 - accuracy: 0.8138\n",
            "Epoch 43/90\n",
            "24/24 [==============================] - 0s 2ms/step - loss: 0.4395 - accuracy: 0.8034\n",
            "Epoch 44/90\n",
            "24/24 [==============================] - 0s 2ms/step - loss: 0.4387 - accuracy: 0.8112\n",
            "Epoch 45/90\n",
            "24/24 [==============================] - 0s 2ms/step - loss: 0.4379 - accuracy: 0.8112\n",
            "Epoch 46/90\n",
            "24/24 [==============================] - 0s 2ms/step - loss: 0.4430 - accuracy: 0.8099\n",
            "Epoch 47/90\n",
            "24/24 [==============================] - 0s 2ms/step - loss: 0.4401 - accuracy: 0.8099\n",
            "Epoch 48/90\n",
            "24/24 [==============================] - 0s 2ms/step - loss: 0.4396 - accuracy: 0.8073\n",
            "Epoch 49/90\n",
            "24/24 [==============================] - 0s 2ms/step - loss: 0.4381 - accuracy: 0.8099\n",
            "Epoch 50/90\n",
            "24/24 [==============================] - 0s 1ms/step - loss: 0.4433 - accuracy: 0.8034\n",
            "Epoch 51/90\n",
            "24/24 [==============================] - 0s 2ms/step - loss: 0.4430 - accuracy: 0.8086\n",
            "Epoch 52/90\n",
            "24/24 [==============================] - 0s 2ms/step - loss: 0.4411 - accuracy: 0.8099\n",
            "Epoch 53/90\n",
            "24/24 [==============================] - 0s 2ms/step - loss: 0.4408 - accuracy: 0.8086\n",
            "Epoch 54/90\n",
            "24/24 [==============================] - 0s 2ms/step - loss: 0.4458 - accuracy: 0.8034\n",
            "Epoch 55/90\n",
            "24/24 [==============================] - 0s 2ms/step - loss: 0.4395 - accuracy: 0.8125\n",
            "Epoch 56/90\n",
            "24/24 [==============================] - 0s 2ms/step - loss: 0.4375 - accuracy: 0.8099\n",
            "Epoch 57/90\n",
            "24/24 [==============================] - 0s 2ms/step - loss: 0.4400 - accuracy: 0.8047\n",
            "Epoch 58/90\n",
            "24/24 [==============================] - 0s 1ms/step - loss: 0.4398 - accuracy: 0.8112\n",
            "Epoch 59/90\n",
            "24/24 [==============================] - 0s 2ms/step - loss: 0.4375 - accuracy: 0.8112\n",
            "Epoch 60/90\n",
            "24/24 [==============================] - 0s 2ms/step - loss: 0.4391 - accuracy: 0.8086\n",
            "Epoch 61/90\n",
            "24/24 [==============================] - 0s 2ms/step - loss: 0.4430 - accuracy: 0.8164\n",
            "Epoch 62/90\n",
            "24/24 [==============================] - 0s 2ms/step - loss: 0.4420 - accuracy: 0.8073\n",
            "Epoch 63/90\n",
            "24/24 [==============================] - 0s 2ms/step - loss: 0.4393 - accuracy: 0.8073\n",
            "Epoch 64/90\n",
            "24/24 [==============================] - 0s 1ms/step - loss: 0.4409 - accuracy: 0.8034\n",
            "Epoch 65/90\n",
            "24/24 [==============================] - 0s 2ms/step - loss: 0.4377 - accuracy: 0.8073\n",
            "Epoch 66/90\n",
            "24/24 [==============================] - 0s 2ms/step - loss: 0.4378 - accuracy: 0.8086\n",
            "Epoch 67/90\n",
            "24/24 [==============================] - 0s 2ms/step - loss: 0.4428 - accuracy: 0.8099\n",
            "Epoch 68/90\n",
            "24/24 [==============================] - 0s 2ms/step - loss: 0.4385 - accuracy: 0.8112\n",
            "Epoch 69/90\n",
            "24/24 [==============================] - 0s 2ms/step - loss: 0.4362 - accuracy: 0.8125\n",
            "Epoch 70/90\n",
            "24/24 [==============================] - 0s 2ms/step - loss: 0.4400 - accuracy: 0.8047\n",
            "Epoch 71/90\n",
            "24/24 [==============================] - 0s 2ms/step - loss: 0.4375 - accuracy: 0.8086\n",
            "Epoch 72/90\n",
            "24/24 [==============================] - 0s 2ms/step - loss: 0.4423 - accuracy: 0.8073\n",
            "Epoch 73/90\n",
            "24/24 [==============================] - 0s 2ms/step - loss: 0.4461 - accuracy: 0.8060\n",
            "Epoch 74/90\n",
            "24/24 [==============================] - 0s 2ms/step - loss: 0.4374 - accuracy: 0.8112\n",
            "Epoch 75/90\n",
            "24/24 [==============================] - 0s 2ms/step - loss: 0.4379 - accuracy: 0.8164\n",
            "Epoch 76/90\n",
            "24/24 [==============================] - 0s 2ms/step - loss: 0.4370 - accuracy: 0.8099\n",
            "Epoch 77/90\n",
            "24/24 [==============================] - 0s 2ms/step - loss: 0.4362 - accuracy: 0.8086\n",
            "Epoch 78/90\n",
            "24/24 [==============================] - 0s 2ms/step - loss: 0.4365 - accuracy: 0.8151\n",
            "Epoch 79/90\n",
            "24/24 [==============================] - 0s 2ms/step - loss: 0.4400 - accuracy: 0.8021\n",
            "Epoch 80/90\n",
            "24/24 [==============================] - 0s 2ms/step - loss: 0.4360 - accuracy: 0.8138\n",
            "Epoch 81/90\n",
            "24/24 [==============================] - 0s 2ms/step - loss: 0.4364 - accuracy: 0.8112\n",
            "Epoch 82/90\n",
            "24/24 [==============================] - 0s 2ms/step - loss: 0.4371 - accuracy: 0.8151\n",
            "Epoch 83/90\n",
            "24/24 [==============================] - 0s 2ms/step - loss: 0.4363 - accuracy: 0.8164\n",
            "Epoch 84/90\n",
            "24/24 [==============================] - 0s 2ms/step - loss: 0.4383 - accuracy: 0.8099\n",
            "Epoch 85/90\n",
            "24/24 [==============================] - 0s 2ms/step - loss: 0.4363 - accuracy: 0.8138\n",
            "Epoch 86/90\n",
            "24/24 [==============================] - 0s 1ms/step - loss: 0.4378 - accuracy: 0.8047\n",
            "Epoch 87/90\n",
            "24/24 [==============================] - 0s 1ms/step - loss: 0.4353 - accuracy: 0.8086\n",
            "Epoch 88/90\n",
            "24/24 [==============================] - 0s 2ms/step - loss: 0.4355 - accuracy: 0.8125\n",
            "Epoch 89/90\n",
            "24/24 [==============================] - 0s 2ms/step - loss: 0.4368 - accuracy: 0.8099\n",
            "Epoch 90/90\n",
            "24/24 [==============================] - 0s 2ms/step - loss: 0.4365 - accuracy: 0.8060\n"
          ]
        }
      ]
    },
    {
      "cell_type": "code",
      "source": [
        "import matplotlib.pyplot as plt\n",
        "plt.plot(_history.history['accuracy'])\n",
        "plt.title('Training Accuracy')\n",
        "plt.ylabel('accuracy')\n",
        "plt.xlabel('epoch')\n",
        "plt.show()"
      ],
      "metadata": {
        "colab": {
          "base_uri": "https://localhost:8080/",
          "height": 295
        },
        "id": "2Re3cEHXBpGW",
        "outputId": "bf41b734-67aa-4822-e5fd-9a9fc661fe0b"
      },
      "execution_count": 47,
      "outputs": [
        {
          "output_type": "display_data",
          "data": {
            "text/plain": [
              "<Figure size 432x288 with 1 Axes>"
            ],
            "image/png": "[encoded data removed]"
          },
          "metadata": {
            "needs_background": "light"
          }
        }
      ]
    },
    {
      "cell_type": "code",
      "source": [
        "import matplotlib.pyplot as plt\n",
        "plt.plot(_history.history['loss'])\n",
        "plt.title('Training Loss')\n",
        "plt.ylabel('loss')\n",
        "plt.xlabel('epoch')\n",
        "plt.show()"
      ],
      "metadata": {
        "colab": {
          "base_uri": "https://localhost:8080/",
          "height": 295
        },
        "id": "RM8vnMvXCsRY",
        "outputId": "438cdae5-9823-4e1f-db46-f27e75b61902"
      },
      "execution_count": 45,
      "outputs": [
        {
          "output_type": "display_data",
          "data": {
            "text/plain": [
              "<Figure size 432x288 with 1 Axes>"
            ],
            "image/png": "[encoded data removed]"
          },
          "metadata": {
            "needs_background": "light"
          }
        }
      ]
    },
    {
      "cell_type": "markdown",
      "source": [
        "# Evaluate the model"
      ],
      "metadata": {
        "id": "xuzMtNE5BSP1"
      }
    },
    {
      "cell_type": "code",
      "source": [
        "_test_loss, _test_acc = _model.evaluate(X_test, Y_test)\n"
      ],
      "metadata": {
        "colab": {
          "base_uri": "https://localhost:8080/"
        },
        "id": "tVxYp4bHAMqF",
        "outputId": "b5554be2-12f0-4e40-cec1-2f87e26a86c1"
      },
      "execution_count": 48,
      "outputs": [
        {
          "output_type": "stream",
          "name": "stdout",
          "text": [
            "7/7 [==============================] - 0s 2ms/step - loss: 0.4271 - accuracy: 0.8135\n"
          ]
        }
      ]
    }
  ]
}