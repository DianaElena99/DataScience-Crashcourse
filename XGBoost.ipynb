{
  "nbformat": 4,
  "nbformat_minor": 0,
  "metadata": {
    "colab": {
      "name": "XGBoost.ipynb",
      "provenance": [],
      "collapsed_sections": [],
      "authorship_tag": "ABX9TyMkyfFi7xkM3Uf1ukAuWVqq"
    },
    "kernelspec": {
      "name": "python3",
      "display_name": "Python 3"
    },
    "language_info": {
      "name": "python"
    }
  },
  "cells": [
    {
      "cell_type": "markdown",
      "source": [
        "## **XGBoost**\n",
        "\n",
        "Using XGBoost for the Iris dataset. This data set includes the width and length of the petals and sepals, and the specific Iris species that these features belong to.\n",
        "\n",
        "The aim of the following code is to predict the species of a sample based on the size of its petals."
      ],
      "metadata": {
        "id": "nC8w-MdNHR1k"
      }
    },
    {
      "cell_type": "markdown",
      "source": [
        "The first step is to load the data set using SciKit, and then let's get to know the data"
      ],
      "metadata": {
        "id": "jOeRIdkwIDNv"
      }
    },
    {
      "cell_type": "code",
      "source": [
        "from sklearn.datasets import load_iris\n",
        "import matplotlib.pyplot as plt\n",
        "\n",
        "\n",
        "iris = load_iris()\n",
        "\n",
        "samplesCount, featuresCount = iris.data.shape\n",
        "print(samplesCount)\n",
        "print(featuresCount)\n",
        "print(list(iris.target_names))\n",
        "print(iris.feature_names)\n",
        "\n",
        "X = iris.data[:, 2:]  # we only take the petal length and width\n",
        "y = iris.target\n",
        "\n",
        "x_min, x_max = X[:, 0].min() - 0.5, X[:, 0].max() + 0.5\n",
        "y_min, y_max = X[:, 1].min() - 0.5, X[:, 1].max() + 0.5\n",
        "\n",
        "plt.figure(2, figsize=(8, 6))\n",
        "plt.clf()\n",
        "\n",
        "# Plot the training points\n",
        "plt.scatter(X[:, 0], X[:, 1], c=y, cmap=plt.cm.Set1, edgecolor=\"k\")\n",
        "plt.xlabel(\"Sepal length\")\n",
        "plt.ylabel(\"Sepal width\")\n",
        "\n",
        "plt.xlim(x_min, x_max)\n",
        "plt.ylim(y_min, y_max)\n",
        "plt.xticks(())\n",
        "plt.yticks(())"
      ],
      "metadata": {
        "colab": {
          "base_uri": "https://localhost:8080/",
          "height": 458
        },
        "id": "ZPN5dqwmHxTJ",
        "outputId": "5d00532d-54f2-42a4-c456-e66ab5d52b9d"
      },
      "execution_count": 13,
      "outputs": [
        {
          "output_type": "stream",
          "name": "stdout",
          "text": [
            "150\n",
            "4\n",
            "['setosa', 'versicolor', 'virginica']\n",
            "['sepal length (cm)', 'sepal width (cm)', 'petal length (cm)', 'petal width (cm)']\n"
          ]
        },
        {
          "output_type": "execute_result",
          "data": {
            "text/plain": [
              "([], <a list of 0 Text major ticklabel objects>)"
            ]
          },
          "metadata": {},
          "execution_count": 13
        },
        {
          "output_type": "display_data",
          "data": {
            "text/plain": [
              "<Figure size 576x432 with 1 Axes>"
            ],
            "image/png": "[encoded data removed]"
          },
          "metadata": {}
        }
      ]
    },
    {
      "cell_type": "markdown",
      "source": [
        "The next step is to divide the data into training and testing data. The ratio used will be 80/20."
      ],
      "metadata": {
        "id": "IYyP1ZZ_JomA"
      }
    },
    {
      "cell_type": "code",
      "source": [
        "from sklearn.model_selection import train_test_split\n",
        "\n",
        "X_train, X_test, y_train, y_test = train_test_split(iris.data[:, 2:], iris.target, test_size=0.2, random_state=0)"
      ],
      "metadata": {
        "id": "3Uau6OkSJwoN"
      },
      "execution_count": 14,
      "outputs": []
    },
    {
      "cell_type": "markdown",
      "source": [
        "We will load XGBoost and convert data into the DMatrix format in order to work with it."
      ],
      "metadata": {
        "id": "PIpIt030J1Yt"
      }
    },
    {
      "cell_type": "code",
      "source": [
        "import xgboost as xgb\n",
        "\n",
        "train = xgb.DMatrix(X_train, label=y_train)\n",
        "test = xgb.DMatrix(X_test, label=y_test)"
      ],
      "metadata": {
        "id": "KsGf7HFVJ-BN"
      },
      "execution_count": 15,
      "outputs": []
    },
    {
      "cell_type": "markdown",
      "source": [
        "Defining hyperparameters "
      ],
      "metadata": {
        "id": "x2QyoE3hKSk9"
      }
    },
    {
      "cell_type": "code",
      "source": [
        "param = {\n",
        "    'max_depth': 4,\n",
        "    'eta': 0.3,\n",
        "    'objective': 'multi:softmax',\n",
        "    'num_class': 3} \n",
        "epochs = 10 "
      ],
      "metadata": {
        "id": "YXiuXNQjKVQM"
      },
      "execution_count": 16,
      "outputs": []
    },
    {
      "cell_type": "markdown",
      "source": [
        "Training the model"
      ],
      "metadata": {
        "id": "oOvogbF_Kas8"
      }
    },
    {
      "cell_type": "code",
      "source": [
        "model = xgb.train(param, train, epochs)"
      ],
      "metadata": {
        "id": "qxg3iereKgYd"
      },
      "execution_count": 17,
      "outputs": []
    },
    {
      "cell_type": "markdown",
      "source": [
        "Making the predictions"
      ],
      "metadata": {
        "id": "hOH4b7QkKhze"
      }
    },
    {
      "cell_type": "code",
      "source": [
        "predictions = model.predict(test)\n"
      ],
      "metadata": {
        "id": "Ta8b_uqyKjve"
      },
      "execution_count": 18,
      "outputs": []
    },
    {
      "cell_type": "code",
      "source": [
        "print(predictions)"
      ],
      "metadata": {
        "colab": {
          "base_uri": "https://localhost:8080/"
        },
        "id": "RDlbSj_4Kmju",
        "outputId": "94b89ec2-e781-418e-af39-80c7de861fb7"
      },
      "execution_count": 19,
      "outputs": [
        {
          "output_type": "stream",
          "name": "stdout",
          "text": [
            "[2. 1. 0. 2. 0. 2. 0. 1. 1. 1. 2. 1. 1. 1. 1. 0. 1. 1. 0. 0. 2. 1. 0. 0.\n",
            " 2. 0. 0. 1. 1. 0.]\n"
          ]
        }
      ]
    },
    {
      "cell_type": "markdown",
      "source": [
        "Measuring accuracy"
      ],
      "metadata": {
        "id": "rhUKI9kTK02N"
      }
    },
    {
      "cell_type": "code",
      "source": [
        "from sklearn.metrics import accuracy_score\n",
        "\n",
        "accuracy_score(y_test, predictions)"
      ],
      "metadata": {
        "colab": {
          "base_uri": "https://localhost:8080/"
        },
        "id": "W2U4nOOCK2ot",
        "outputId": "bf009b54-e6e0-43a2-a270-9f8c6a7e23e9"
      },
      "execution_count": 20,
      "outputs": [
        {
          "output_type": "execute_result",
          "data": {
            "text/plain": [
              "1.0"
            ]
          },
          "metadata": {},
          "execution_count": 20
        }
      ]
    }
  ]
}